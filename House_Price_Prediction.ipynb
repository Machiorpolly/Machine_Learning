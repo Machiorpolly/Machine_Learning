{
  "nbformat": 4,
  "nbformat_minor": 0,
  "metadata": {
    "colab": {
      "provenance": []
    },
    "kernelspec": {
      "name": "python3",
      "display_name": "Python 3"
    },
    "language_info": {
      "name": "python"
    },
    "gpuClass": "standard"
  },
  "cells": [
    {
      "cell_type": "code",
      "execution_count": 1,
      "metadata": {
        "id": "0RJ0KDzjOeve"
      },
      "outputs": [],
      "source": [
        "from keras.callbacks import ModelCheckpoint\n",
        "from keras.models import Sequential\n",
        "from keras.layers import Dense, Activation, Flatten, Dropout, BatchNormalization\n",
        "import sklearn\n",
        "from sklearn.model_selection import train_test_split\n",
        "from sklearn.metrics import mean_absolute_error\n",
        "from sklearn.preprocessing import MinMaxScaler\n",
        "from sklearn.linear_model import LinearRegression, Ridge, Lasso\n",
        "from sklearn.model_selection import GridSearchCV\n",
        "from sklearn.model_selection import RepeatedKFold\n",
        "from sklearn.metrics import mean_squared_error, r2_score\n",
        "from sklearn.preprocessing import MinMaxScaler \n",
        "from sklearn.ensemble import RandomForestRegressor\n",
        "from matplotlib import pyplot as plt\n",
        "import seaborn as sns\n",
        "import matplotlib.pyplot as plt\n",
        "import pandas as pd\n",
        "import numpy as np\n",
        "import warnings \n",
        "warnings.filterwarnings('ignore')\n",
        "warnings.filterwarnings('ignore', category=DeprecationWarning)"
      ]
    },
    {
      "cell_type": "markdown",
      "source": [
        "##**Importing Dataset**"
      ],
      "metadata": {
        "id": "AuxOvsRYPDix"
      }
    },
    {
      "cell_type": "code",
      "source": [
        "df = pd.read_csv(\"MagicBricks.csv\")\n",
        "df.head()"
      ],
      "metadata": {
        "colab": {
          "base_uri": "https://localhost:8080/",
          "height": 206
        },
        "id": "z76qIz4HOjnI",
        "outputId": "bf30eb73-bb31-4a3f-d51c-d329abca42a9"
      },
      "execution_count": 4,
      "outputs": [
        {
          "output_type": "execute_result",
          "data": {
            "text/plain": [
              "    Area  BHK  Bathroom      Furnishing  \\\n",
              "0  800.0    3       2.0  Semi-Furnished   \n",
              "1  750.0    2       2.0  Semi-Furnished   \n",
              "2  950.0    2       2.0       Furnished   \n",
              "3  600.0    2       2.0  Semi-Furnished   \n",
              "4  650.0    2       2.0  Semi-Furnished   \n",
              "\n",
              "                                            Locality  Parking     Price  \\\n",
              "0                                   Rohini Sector 25      1.0   6500000   \n",
              "1             J R Designers Floors, Rohini Sector 24      1.0   5000000   \n",
              "2                Citizen Apartment, Rohini Sector 13      1.0  15500000   \n",
              "3                                   Rohini Sector 24      1.0   4200000   \n",
              "4  Rohini Sector 24 carpet area 650 sqft status R...      1.0   6200000   \n",
              "\n",
              "          Status   Transaction           Type  Per_Sqft  \n",
              "0  Ready_to_move  New_Property  Builder_Floor       NaN  \n",
              "1  Ready_to_move  New_Property      Apartment    6667.0  \n",
              "2  Ready_to_move        Resale      Apartment    6667.0  \n",
              "3  Ready_to_move        Resale  Builder_Floor    6667.0  \n",
              "4  Ready_to_move  New_Property  Builder_Floor    6667.0  "
            ],
            "text/html": [
              "\n",
              "  <div id=\"df-b41d43fe-eff8-4e8a-8abf-f5fff3870601\">\n",
              "    <div class=\"colab-df-container\">\n",
              "      <div>\n",
              "<style scoped>\n",
              "    .dataframe tbody tr th:only-of-type {\n",
              "        vertical-align: middle;\n",
              "    }\n",
              "\n",
              "    .dataframe tbody tr th {\n",
              "        vertical-align: top;\n",
              "    }\n",
              "\n",
              "    .dataframe thead th {\n",
              "        text-align: right;\n",
              "    }\n",
              "</style>\n",
              "<table border=\"1\" class=\"dataframe\">\n",
              "  <thead>\n",
              "    <tr style=\"text-align: right;\">\n",
              "      <th></th>\n",
              "      <th>Area</th>\n",
              "      <th>BHK</th>\n",
              "      <th>Bathroom</th>\n",
              "      <th>Furnishing</th>\n",
              "      <th>Locality</th>\n",
              "      <th>Parking</th>\n",
              "      <th>Price</th>\n",
              "      <th>Status</th>\n",
              "      <th>Transaction</th>\n",
              "      <th>Type</th>\n",
              "      <th>Per_Sqft</th>\n",
              "    </tr>\n",
              "  </thead>\n",
              "  <tbody>\n",
              "    <tr>\n",
              "      <th>0</th>\n",
              "      <td>800.0</td>\n",
              "      <td>3</td>\n",
              "      <td>2.0</td>\n",
              "      <td>Semi-Furnished</td>\n",
              "      <td>Rohini Sector 25</td>\n",
              "      <td>1.0</td>\n",
              "      <td>6500000</td>\n",
              "      <td>Ready_to_move</td>\n",
              "      <td>New_Property</td>\n",
              "      <td>Builder_Floor</td>\n",
              "      <td>NaN</td>\n",
              "    </tr>\n",
              "    <tr>\n",
              "      <th>1</th>\n",
              "      <td>750.0</td>\n",
              "      <td>2</td>\n",
              "      <td>2.0</td>\n",
              "      <td>Semi-Furnished</td>\n",
              "      <td>J R Designers Floors, Rohini Sector 24</td>\n",
              "      <td>1.0</td>\n",
              "      <td>5000000</td>\n",
              "      <td>Ready_to_move</td>\n",
              "      <td>New_Property</td>\n",
              "      <td>Apartment</td>\n",
              "      <td>6667.0</td>\n",
              "    </tr>\n",
              "    <tr>\n",
              "      <th>2</th>\n",
              "      <td>950.0</td>\n",
              "      <td>2</td>\n",
              "      <td>2.0</td>\n",
              "      <td>Furnished</td>\n",
              "      <td>Citizen Apartment, Rohini Sector 13</td>\n",
              "      <td>1.0</td>\n",
              "      <td>15500000</td>\n",
              "      <td>Ready_to_move</td>\n",
              "      <td>Resale</td>\n",
              "      <td>Apartment</td>\n",
              "      <td>6667.0</td>\n",
              "    </tr>\n",
              "    <tr>\n",
              "      <th>3</th>\n",
              "      <td>600.0</td>\n",
              "      <td>2</td>\n",
              "      <td>2.0</td>\n",
              "      <td>Semi-Furnished</td>\n",
              "      <td>Rohini Sector 24</td>\n",
              "      <td>1.0</td>\n",
              "      <td>4200000</td>\n",
              "      <td>Ready_to_move</td>\n",
              "      <td>Resale</td>\n",
              "      <td>Builder_Floor</td>\n",
              "      <td>6667.0</td>\n",
              "    </tr>\n",
              "    <tr>\n",
              "      <th>4</th>\n",
              "      <td>650.0</td>\n",
              "      <td>2</td>\n",
              "      <td>2.0</td>\n",
              "      <td>Semi-Furnished</td>\n",
              "      <td>Rohini Sector 24 carpet area 650 sqft status R...</td>\n",
              "      <td>1.0</td>\n",
              "      <td>6200000</td>\n",
              "      <td>Ready_to_move</td>\n",
              "      <td>New_Property</td>\n",
              "      <td>Builder_Floor</td>\n",
              "      <td>6667.0</td>\n",
              "    </tr>\n",
              "  </tbody>\n",
              "</table>\n",
              "</div>\n",
              "      <button class=\"colab-df-convert\" onclick=\"convertToInteractive('df-b41d43fe-eff8-4e8a-8abf-f5fff3870601')\"\n",
              "              title=\"Convert this dataframe to an interactive table.\"\n",
              "              style=\"display:none;\">\n",
              "        \n",
              "  <svg xmlns=\"http://www.w3.org/2000/svg\" height=\"24px\"viewBox=\"0 0 24 24\"\n",
              "       width=\"24px\">\n",
              "    <path d=\"M0 0h24v24H0V0z\" fill=\"none\"/>\n",
              "    <path d=\"M18.56 5.44l.94 2.06.94-2.06 2.06-.94-2.06-.94-.94-2.06-.94 2.06-2.06.94zm-11 1L8.5 8.5l.94-2.06 2.06-.94-2.06-.94L8.5 2.5l-.94 2.06-2.06.94zm10 10l.94 2.06.94-2.06 2.06-.94-2.06-.94-.94-2.06-.94 2.06-2.06.94z\"/><path d=\"M17.41 7.96l-1.37-1.37c-.4-.4-.92-.59-1.43-.59-.52 0-1.04.2-1.43.59L10.3 9.45l-7.72 7.72c-.78.78-.78 2.05 0 2.83L4 21.41c.39.39.9.59 1.41.59.51 0 1.02-.2 1.41-.59l7.78-7.78 2.81-2.81c.8-.78.8-2.07 0-2.86zM5.41 20L4 18.59l7.72-7.72 1.47 1.35L5.41 20z\"/>\n",
              "  </svg>\n",
              "      </button>\n",
              "      \n",
              "  <style>\n",
              "    .colab-df-container {\n",
              "      display:flex;\n",
              "      flex-wrap:wrap;\n",
              "      gap: 12px;\n",
              "    }\n",
              "\n",
              "    .colab-df-convert {\n",
              "      background-color: #E8F0FE;\n",
              "      border: none;\n",
              "      border-radius: 50%;\n",
              "      cursor: pointer;\n",
              "      display: none;\n",
              "      fill: #1967D2;\n",
              "      height: 32px;\n",
              "      padding: 0 0 0 0;\n",
              "      width: 32px;\n",
              "    }\n",
              "\n",
              "    .colab-df-convert:hover {\n",
              "      background-color: #E2EBFA;\n",
              "      box-shadow: 0px 1px 2px rgba(60, 64, 67, 0.3), 0px 1px 3px 1px rgba(60, 64, 67, 0.15);\n",
              "      fill: #174EA6;\n",
              "    }\n",
              "\n",
              "    [theme=dark] .colab-df-convert {\n",
              "      background-color: #3B4455;\n",
              "      fill: #D2E3FC;\n",
              "    }\n",
              "\n",
              "    [theme=dark] .colab-df-convert:hover {\n",
              "      background-color: #434B5C;\n",
              "      box-shadow: 0px 1px 3px 1px rgba(0, 0, 0, 0.15);\n",
              "      filter: drop-shadow(0px 1px 2px rgba(0, 0, 0, 0.3));\n",
              "      fill: #FFFFFF;\n",
              "    }\n",
              "  </style>\n",
              "\n",
              "      <script>\n",
              "        const buttonEl =\n",
              "          document.querySelector('#df-b41d43fe-eff8-4e8a-8abf-f5fff3870601 button.colab-df-convert');\n",
              "        buttonEl.style.display =\n",
              "          google.colab.kernel.accessAllowed ? 'block' : 'none';\n",
              "\n",
              "        async function convertToInteractive(key) {\n",
              "          const element = document.querySelector('#df-b41d43fe-eff8-4e8a-8abf-f5fff3870601');\n",
              "          const dataTable =\n",
              "            await google.colab.kernel.invokeFunction('convertToInteractive',\n",
              "                                                     [key], {});\n",
              "          if (!dataTable) return;\n",
              "\n",
              "          const docLinkHtml = 'Like what you see? Visit the ' +\n",
              "            '<a target=\"_blank\" href=https://colab.research.google.com/notebooks/data_table.ipynb>data table notebook</a>'\n",
              "            + ' to learn more about interactive tables.';\n",
              "          element.innerHTML = '';\n",
              "          dataTable['output_type'] = 'display_data';\n",
              "          await google.colab.output.renderOutput(dataTable, element);\n",
              "          const docLink = document.createElement('div');\n",
              "          docLink.innerHTML = docLinkHtml;\n",
              "          element.appendChild(docLink);\n",
              "        }\n",
              "      </script>\n",
              "    </div>\n",
              "  </div>\n",
              "  "
            ]
          },
          "metadata": {},
          "execution_count": 4
        }
      ]
    },
    {
      "cell_type": "code",
      "source": [
        "df.shape"
      ],
      "metadata": {
        "colab": {
          "base_uri": "https://localhost:8080/"
        },
        "id": "p1fDP1QvO2LE",
        "outputId": "6bba0083-7c83-4583-d370-bda74382c7e8"
      },
      "execution_count": 5,
      "outputs": [
        {
          "output_type": "execute_result",
          "data": {
            "text/plain": [
              "(1259, 11)"
            ]
          },
          "metadata": {},
          "execution_count": 5
        }
      ]
    },
    {
      "cell_type": "markdown",
      "source": [
        "- Dataset have **1259** rows and **11** columns.\n",
        "- There are 10 independent variables.\n",
        "- One dependent variable i.e. \"**Price**\".\n",
        "- I will be using the following models for the prediction:\n",
        "  - ***Linear Regression with Lasso Regularization***\n",
        "  - ***Linear Regression with Ridge Regularization***\n",
        "  - ***A Neural Network for Regression***\n",
        "  - ***Random Forest Regression***"
      ],
      "metadata": {
        "id": "qSMYvbGjPVp7"
      }
    },
    {
      "cell_type": "markdown",
      "source": [
        "## **Exploratory Data Analysis**"
      ],
      "metadata": {
        "id": "vBnl5a2hQqEB"
      }
    },
    {
      "cell_type": "code",
      "source": [
        "df.info()"
      ],
      "metadata": {
        "colab": {
          "base_uri": "https://localhost:8080/"
        },
        "id": "zf7yCgnpQze7",
        "outputId": "1ab154f9-92c6-48b1-c54f-6c27bbbe1d49"
      },
      "execution_count": 6,
      "outputs": [
        {
          "output_type": "stream",
          "name": "stdout",
          "text": [
            "<class 'pandas.core.frame.DataFrame'>\n",
            "RangeIndex: 1259 entries, 0 to 1258\n",
            "Data columns (total 11 columns):\n",
            " #   Column       Non-Null Count  Dtype  \n",
            "---  ------       --------------  -----  \n",
            " 0   Area         1259 non-null   float64\n",
            " 1   BHK          1259 non-null   int64  \n",
            " 2   Bathroom     1257 non-null   float64\n",
            " 3   Furnishing   1254 non-null   object \n",
            " 4   Locality     1259 non-null   object \n",
            " 5   Parking      1226 non-null   float64\n",
            " 6   Price        1259 non-null   int64  \n",
            " 7   Status       1259 non-null   object \n",
            " 8   Transaction  1259 non-null   object \n",
            " 9   Type         1254 non-null   object \n",
            " 10  Per_Sqft     1018 non-null   float64\n",
            "dtypes: float64(4), int64(2), object(5)\n",
            "memory usage: 108.3+ KB\n"
          ]
        }
      ]
    },
    {
      "cell_type": "code",
      "source": [
        "df.describe()"
      ],
      "metadata": {
        "colab": {
          "base_uri": "https://localhost:8080/",
          "height": 300
        },
        "id": "vp7DQ4TIQ2g0",
        "outputId": "ebd7694a-a292-428c-e28c-31a7244dfdae"
      },
      "execution_count": 7,
      "outputs": [
        {
          "output_type": "execute_result",
          "data": {
            "text/plain": [
              "               Area          BHK     Bathroom      Parking         Price  \\\n",
              "count   1259.000000  1259.000000  1257.000000  1226.000000  1.259000e+03   \n",
              "mean    1466.452724     2.796664     2.556086     1.935563  2.130670e+07   \n",
              "std     1568.055040     0.954425     1.042220     6.279212  2.560115e+07   \n",
              "min       28.000000     1.000000     1.000000     1.000000  1.000000e+06   \n",
              "25%      800.000000     2.000000     2.000000     1.000000  5.700000e+06   \n",
              "50%     1200.000000     3.000000     2.000000     1.000000  1.420000e+07   \n",
              "75%     1700.000000     3.000000     3.000000     2.000000  2.550000e+07   \n",
              "max    24300.000000    10.000000     7.000000   114.000000  2.400000e+08   \n",
              "\n",
              "            Per_Sqft  \n",
              "count    1018.000000  \n",
              "mean    15690.136542  \n",
              "std     21134.738568  \n",
              "min      1259.000000  \n",
              "25%      6364.000000  \n",
              "50%     11291.500000  \n",
              "75%     18000.000000  \n",
              "max    183333.000000  "
            ],
            "text/html": [
              "\n",
              "  <div id=\"df-e4a5824e-1f67-43c7-9d75-76a701cc7b64\">\n",
              "    <div class=\"colab-df-container\">\n",
              "      <div>\n",
              "<style scoped>\n",
              "    .dataframe tbody tr th:only-of-type {\n",
              "        vertical-align: middle;\n",
              "    }\n",
              "\n",
              "    .dataframe tbody tr th {\n",
              "        vertical-align: top;\n",
              "    }\n",
              "\n",
              "    .dataframe thead th {\n",
              "        text-align: right;\n",
              "    }\n",
              "</style>\n",
              "<table border=\"1\" class=\"dataframe\">\n",
              "  <thead>\n",
              "    <tr style=\"text-align: right;\">\n",
              "      <th></th>\n",
              "      <th>Area</th>\n",
              "      <th>BHK</th>\n",
              "      <th>Bathroom</th>\n",
              "      <th>Parking</th>\n",
              "      <th>Price</th>\n",
              "      <th>Per_Sqft</th>\n",
              "    </tr>\n",
              "  </thead>\n",
              "  <tbody>\n",
              "    <tr>\n",
              "      <th>count</th>\n",
              "      <td>1259.000000</td>\n",
              "      <td>1259.000000</td>\n",
              "      <td>1257.000000</td>\n",
              "      <td>1226.000000</td>\n",
              "      <td>1.259000e+03</td>\n",
              "      <td>1018.000000</td>\n",
              "    </tr>\n",
              "    <tr>\n",
              "      <th>mean</th>\n",
              "      <td>1466.452724</td>\n",
              "      <td>2.796664</td>\n",
              "      <td>2.556086</td>\n",
              "      <td>1.935563</td>\n",
              "      <td>2.130670e+07</td>\n",
              "      <td>15690.136542</td>\n",
              "    </tr>\n",
              "    <tr>\n",
              "      <th>std</th>\n",
              "      <td>1568.055040</td>\n",
              "      <td>0.954425</td>\n",
              "      <td>1.042220</td>\n",
              "      <td>6.279212</td>\n",
              "      <td>2.560115e+07</td>\n",
              "      <td>21134.738568</td>\n",
              "    </tr>\n",
              "    <tr>\n",
              "      <th>min</th>\n",
              "      <td>28.000000</td>\n",
              "      <td>1.000000</td>\n",
              "      <td>1.000000</td>\n",
              "      <td>1.000000</td>\n",
              "      <td>1.000000e+06</td>\n",
              "      <td>1259.000000</td>\n",
              "    </tr>\n",
              "    <tr>\n",
              "      <th>25%</th>\n",
              "      <td>800.000000</td>\n",
              "      <td>2.000000</td>\n",
              "      <td>2.000000</td>\n",
              "      <td>1.000000</td>\n",
              "      <td>5.700000e+06</td>\n",
              "      <td>6364.000000</td>\n",
              "    </tr>\n",
              "    <tr>\n",
              "      <th>50%</th>\n",
              "      <td>1200.000000</td>\n",
              "      <td>3.000000</td>\n",
              "      <td>2.000000</td>\n",
              "      <td>1.000000</td>\n",
              "      <td>1.420000e+07</td>\n",
              "      <td>11291.500000</td>\n",
              "    </tr>\n",
              "    <tr>\n",
              "      <th>75%</th>\n",
              "      <td>1700.000000</td>\n",
              "      <td>3.000000</td>\n",
              "      <td>3.000000</td>\n",
              "      <td>2.000000</td>\n",
              "      <td>2.550000e+07</td>\n",
              "      <td>18000.000000</td>\n",
              "    </tr>\n",
              "    <tr>\n",
              "      <th>max</th>\n",
              "      <td>24300.000000</td>\n",
              "      <td>10.000000</td>\n",
              "      <td>7.000000</td>\n",
              "      <td>114.000000</td>\n",
              "      <td>2.400000e+08</td>\n",
              "      <td>183333.000000</td>\n",
              "    </tr>\n",
              "  </tbody>\n",
              "</table>\n",
              "</div>\n",
              "      <button class=\"colab-df-convert\" onclick=\"convertToInteractive('df-e4a5824e-1f67-43c7-9d75-76a701cc7b64')\"\n",
              "              title=\"Convert this dataframe to an interactive table.\"\n",
              "              style=\"display:none;\">\n",
              "        \n",
              "  <svg xmlns=\"http://www.w3.org/2000/svg\" height=\"24px\"viewBox=\"0 0 24 24\"\n",
              "       width=\"24px\">\n",
              "    <path d=\"M0 0h24v24H0V0z\" fill=\"none\"/>\n",
              "    <path d=\"M18.56 5.44l.94 2.06.94-2.06 2.06-.94-2.06-.94-.94-2.06-.94 2.06-2.06.94zm-11 1L8.5 8.5l.94-2.06 2.06-.94-2.06-.94L8.5 2.5l-.94 2.06-2.06.94zm10 10l.94 2.06.94-2.06 2.06-.94-2.06-.94-.94-2.06-.94 2.06-2.06.94z\"/><path d=\"M17.41 7.96l-1.37-1.37c-.4-.4-.92-.59-1.43-.59-.52 0-1.04.2-1.43.59L10.3 9.45l-7.72 7.72c-.78.78-.78 2.05 0 2.83L4 21.41c.39.39.9.59 1.41.59.51 0 1.02-.2 1.41-.59l7.78-7.78 2.81-2.81c.8-.78.8-2.07 0-2.86zM5.41 20L4 18.59l7.72-7.72 1.47 1.35L5.41 20z\"/>\n",
              "  </svg>\n",
              "      </button>\n",
              "      \n",
              "  <style>\n",
              "    .colab-df-container {\n",
              "      display:flex;\n",
              "      flex-wrap:wrap;\n",
              "      gap: 12px;\n",
              "    }\n",
              "\n",
              "    .colab-df-convert {\n",
              "      background-color: #E8F0FE;\n",
              "      border: none;\n",
              "      border-radius: 50%;\n",
              "      cursor: pointer;\n",
              "      display: none;\n",
              "      fill: #1967D2;\n",
              "      height: 32px;\n",
              "      padding: 0 0 0 0;\n",
              "      width: 32px;\n",
              "    }\n",
              "\n",
              "    .colab-df-convert:hover {\n",
              "      background-color: #E2EBFA;\n",
              "      box-shadow: 0px 1px 2px rgba(60, 64, 67, 0.3), 0px 1px 3px 1px rgba(60, 64, 67, 0.15);\n",
              "      fill: #174EA6;\n",
              "    }\n",
              "\n",
              "    [theme=dark] .colab-df-convert {\n",
              "      background-color: #3B4455;\n",
              "      fill: #D2E3FC;\n",
              "    }\n",
              "\n",
              "    [theme=dark] .colab-df-convert:hover {\n",
              "      background-color: #434B5C;\n",
              "      box-shadow: 0px 1px 3px 1px rgba(0, 0, 0, 0.15);\n",
              "      filter: drop-shadow(0px 1px 2px rgba(0, 0, 0, 0.3));\n",
              "      fill: #FFFFFF;\n",
              "    }\n",
              "  </style>\n",
              "\n",
              "      <script>\n",
              "        const buttonEl =\n",
              "          document.querySelector('#df-e4a5824e-1f67-43c7-9d75-76a701cc7b64 button.colab-df-convert');\n",
              "        buttonEl.style.display =\n",
              "          google.colab.kernel.accessAllowed ? 'block' : 'none';\n",
              "\n",
              "        async function convertToInteractive(key) {\n",
              "          const element = document.querySelector('#df-e4a5824e-1f67-43c7-9d75-76a701cc7b64');\n",
              "          const dataTable =\n",
              "            await google.colab.kernel.invokeFunction('convertToInteractive',\n",
              "                                                     [key], {});\n",
              "          if (!dataTable) return;\n",
              "\n",
              "          const docLinkHtml = 'Like what you see? Visit the ' +\n",
              "            '<a target=\"_blank\" href=https://colab.research.google.com/notebooks/data_table.ipynb>data table notebook</a>'\n",
              "            + ' to learn more about interactive tables.';\n",
              "          element.innerHTML = '';\n",
              "          dataTable['output_type'] = 'display_data';\n",
              "          await google.colab.output.renderOutput(dataTable, element);\n",
              "          const docLink = document.createElement('div');\n",
              "          docLink.innerHTML = docLinkHtml;\n",
              "          element.appendChild(docLink);\n",
              "        }\n",
              "      </script>\n",
              "    </div>\n",
              "  </div>\n",
              "  "
            ]
          },
          "metadata": {},
          "execution_count": 7
        }
      ]
    },
    {
      "cell_type": "code",
      "source": [
        "# Percentage of null values in each column\n",
        "df.isnull().mean() * 100"
      ],
      "metadata": {
        "colab": {
          "base_uri": "https://localhost:8080/"
        },
        "id": "RA_X75EKQ5fu",
        "outputId": "53c8e674-ab12-4b66-ed93-e2e23412edb4"
      },
      "execution_count": 8,
      "outputs": [
        {
          "output_type": "execute_result",
          "data": {
            "text/plain": [
              "Area            0.000000\n",
              "BHK             0.000000\n",
              "Bathroom        0.158856\n",
              "Furnishing      0.397141\n",
              "Locality        0.000000\n",
              "Parking         2.621128\n",
              "Price           0.000000\n",
              "Status          0.000000\n",
              "Transaction     0.000000\n",
              "Type            0.397141\n",
              "Per_Sqft       19.142176\n",
              "dtype: float64"
            ]
          },
          "metadata": {},
          "execution_count": 8
        }
      ]
    },
    {
      "cell_type": "code",
      "source": [
        "plt.figure(figsize = (20, 15))\n",
        "sns.pairplot(df[[\"Area\", \"BHK\", \"Parking\", \"Price\"]])\n",
        "plt.show()"
      ],
      "metadata": {
        "colab": {
          "base_uri": "https://localhost:8080/",
          "height": 1000
        },
        "id": "d1p5ijKgRARB",
        "outputId": "bd8d67b9-9a9a-40fd-d28f-df0bff8658b8"
      },
      "execution_count": 9,
      "outputs": [
        {
          "output_type": "display_data",
          "data": {
            "text/plain": [
              "<Figure size 2000x1500 with 0 Axes>"
            ]
          },
          "metadata": {}
        },
        {
          "output_type": "display_data",
          "data": {
            "text/plain": [
              "<Figure size 1000x1000 with 20 Axes>"
            ],
            "image/png": "[encoded data removed]"
          },
          "metadata": {}
        }
      ]
    },
    {
      "cell_type": "code",
      "source": [
        "plt.figure(figsize = (20, 12))\n",
        "sns.pairplot(df[[\"Price\", \"Bathroom\", \"Per_Sqft\"]])\n",
        "plt.show()"
      ],
      "metadata": {
        "colab": {
          "base_uri": "https://localhost:8080/",
          "height": 775
        },
        "id": "3WOAvkFSRDR6",
        "outputId": "2d20ab4c-4d4d-45c5-b708-72286e157962"
      },
      "execution_count": 10,
      "outputs": [
        {
          "output_type": "display_data",
          "data": {
            "text/plain": [
              "<Figure size 2000x1200 with 0 Axes>"
            ]
          },
          "metadata": {}
        },
        {
          "output_type": "display_data",
          "data": {
            "text/plain": [
              "<Figure size 750x750 with 12 Axes>"
            ],
            "image/png": "[encoded data removed]"
          },
          "metadata": {}
        }
      ]
    },
    {
      "cell_type": "markdown",
      "source": [
        "###Data Cleaning"
      ],
      "metadata": {
        "id": "25aOgO3_dybU"
      }
    },
    {
      "cell_type": "code",
      "source": [
        "# Filling missing values\n",
        "df[\"Per_Sqft\"].fillna(df[\"Per_Sqft\"].mean(), inplace = True)\n",
        "df[\"Parking\"].fillna(df[\"Parking\"].median(), inplace = True)\n",
        "df[\"Bathroom\"].fillna(df[\"Bathroom\"].median(), inplace = True)\n",
        "df[\"Furnishing\"].fillna(\"Semi-Furnished\", inplace = True)"
      ],
      "metadata": {
        "id": "JIVOU0c-RQx2"
      },
      "execution_count": 11,
      "outputs": []
    },
    {
      "cell_type": "code",
      "source": [
        "df.dropna(inplace = True)"
      ],
      "metadata": {
        "id": "y6ex2uwdReRO"
      },
      "execution_count": 12,
      "outputs": []
    },
    {
      "cell_type": "code",
      "source": [
        "df.isnull().mean() * 100"
      ],
      "metadata": {
        "colab": {
          "base_uri": "https://localhost:8080/"
        },
        "id": "bSDJoF4xRjYV",
        "outputId": "d2128fb7-ab84-46b4-c2f5-48462c547a98"
      },
      "execution_count": 13,
      "outputs": [
        {
          "output_type": "execute_result",
          "data": {
            "text/plain": [
              "Area           0.0\n",
              "BHK            0.0\n",
              "Bathroom       0.0\n",
              "Furnishing     0.0\n",
              "Locality       0.0\n",
              "Parking        0.0\n",
              "Price          0.0\n",
              "Status         0.0\n",
              "Transaction    0.0\n",
              "Type           0.0\n",
              "Per_Sqft       0.0\n",
              "dtype: float64"
            ]
          },
          "metadata": {},
          "execution_count": 13
        }
      ]
    },
    {
      "cell_type": "code",
      "source": [
        "df.shape"
      ],
      "metadata": {
        "colab": {
          "base_uri": "https://localhost:8080/"
        },
        "id": "rZl6KOVzRlBz",
        "outputId": "8fdd6d61-a83b-4a2e-bb37-715770d5f019"
      },
      "execution_count": 14,
      "outputs": [
        {
          "output_type": "execute_result",
          "data": {
            "text/plain": [
              "(1254, 11)"
            ]
          },
          "metadata": {},
          "execution_count": 14
        }
      ]
    },
    {
      "cell_type": "code",
      "source": [
        "plt.figure(figsize = (20, 12))\n",
        "\n",
        "plt.subplot(2, 2, 1)\n",
        "sns.boxplot(x = \"Type\", y = \"Price\", data = df)\n",
        "\n",
        "plt.subplot(2, 2, 2)\n",
        "sns.boxplot(x = \"Transaction\", y = \"Price\", data = df)\n",
        "\n",
        "plt.subplot(2, 2, 3)\n",
        "sns.boxplot(x = \"Furnishing\", y = \"Price\", data = df)\n",
        "\n",
        "plt.subplot(2, 2, 4)\n",
        "sns.boxplot(x = \"Status\", y = \"Price\", data = df)"
      ],
      "metadata": {
        "colab": {
          "base_uri": "https://localhost:8080/",
          "height": 803
        },
        "id": "wwSw63GMRpjl",
        "outputId": "40f5781d-71d7-457c-f099-1f170fc2b20e"
      },
      "execution_count": 15,
      "outputs": [
        {
          "output_type": "execute_result",
          "data": {
            "text/plain": [
              "<Axes: xlabel='Status', ylabel='Price'>"
            ]
          },
          "metadata": {},
          "execution_count": 15
        },
        {
          "output_type": "display_data",
          "data": {
            "text/plain": [
              "<Figure size 2000x1200 with 4 Axes>"
            ],
            "image/png": "[encoded data removed]"
          },
          "metadata": {}
        }
      ]
    },
    {
      "cell_type": "code",
      "source": [
        "sns.displot(df[\"Area\"], kind = \"kde\", log_scale = True)"
      ],
      "metadata": {
        "colab": {
          "base_uri": "https://localhost:8080/",
          "height": 524
        },
        "id": "FRbSKC2HRqdC",
        "outputId": "1321f385-0399-4417-cfe2-b93bde06a5f7"
      },
      "execution_count": 16,
      "outputs": [
        {
          "output_type": "execute_result",
          "data": {
            "text/plain": [
              "<seaborn.axisgrid.FacetGrid at 0x7fa6b6861ea0>"
            ]
          },
          "metadata": {},
          "execution_count": 16
        },
        {
          "output_type": "display_data",
          "data": {
            "text/plain": [
              "<Figure size 500x500 with 1 Axes>"
            ],
            "image/png": "[encoded data removed]"
          },
          "metadata": {}
        }
      ]
    },
    {
      "cell_type": "code",
      "source": [
        "sns.displot(df[\"Price\"], kind = \"kde\", log_scale = True)"
      ],
      "metadata": {
        "colab": {
          "base_uri": "https://localhost:8080/",
          "height": 523
        },
        "id": "oMhQVuowSW5J",
        "outputId": "26ea0b7c-3a2c-4caa-c183-f8a282cb29ed"
      },
      "execution_count": 17,
      "outputs": [
        {
          "output_type": "execute_result",
          "data": {
            "text/plain": [
              "<seaborn.axisgrid.FacetGrid at 0x7fa6b40b5db0>"
            ]
          },
          "metadata": {},
          "execution_count": 17
        },
        {
          "output_type": "display_data",
          "data": {
            "text/plain": [
              "<Figure size 500x500 with 1 Axes>"
            ],
            "image/png": "[encoded data removed]"
          },
          "metadata": {}
        }
      ]
    },
    {
      "cell_type": "code",
      "source": [
        "sns.displot(df[\"Per_Sqft\"], kind = 'kde', log_scale = True)"
      ],
      "metadata": {
        "colab": {
          "base_uri": "https://localhost:8080/",
          "height": 523
        },
        "id": "uIoApNGxRxwd",
        "outputId": "f341ba91-ec6c-4bac-fd80-69170b8abc2d"
      },
      "execution_count": 18,
      "outputs": [
        {
          "output_type": "execute_result",
          "data": {
            "text/plain": [
              "<seaborn.axisgrid.FacetGrid at 0x7fa6b40b68c0>"
            ]
          },
          "metadata": {},
          "execution_count": 18
        },
        {
          "output_type": "display_data",
          "data": {
            "text/plain": [
              "<Figure size 500x500 with 1 Axes>"
            ],
            "image/png": "[encoded data removed]"
          },
          "metadata": {}
        }
      ]
    },
    {
      "cell_type": "markdown",
      "source": [
        "During the analysis of the \"Locality\" column, it was found that many rows contains the full address of the house instead of the locality name. So I managed to extract the locality from the address. Some values did not contain any locality name from the list, so I replaced them with \"Delhi\" instead."
      ],
      "metadata": {
        "id": "FQ1bDnQpShW1"
      }
    },
    {
      "cell_type": "code",
      "source": [
        "Localities = [\"Ashok Nagar\",\n",
        "\"Bali Nagar\",\n",
        "\"Fateh Nagar\",\n",
        "\"Kirti Nagar\",\n",
        "\"Moti Nagar\",\n",
        "\"Paschim Vihar\",\n",
        "\"Patel Nagar\",\n",
        "\"Punjabi Bagh\",\n",
        "\"Rajouri Garden\",\n",
        "\"Tihar Village\",\n",
        "\"Tilak Nagar\",\n",
        "\"Vikas Nagar\",\n",
        "\"Vikaspuri\",\n",
        "\"Uttam Nagar\",\n",
        "\"Dabri\",\n",
        "\"Dwarka Sub City\",\n",
        "\"Delhi Cantonment\",\n",
        "\"Dhaula Kuan\",\n",
        "\"Inderpuri\",\n",
        "\"Mahipalpur\",\n",
        "\"Moti Bagh\",\n",
        "\"Munirka\",\n",
        "\"Najafgarh\",\n",
        "\"Naraina\",\n",
        "\"Palam\",\n",
        "\"Rama Krishna Puram\",\n",
        "\"Sagar Pur\",\n",
        "\"Vasant Kunj\",\n",
        "\"Vasant Vihar\",\n",
        "\"Jor Bagh\",\n",
        "\"Lodhi Colony\",\n",
        "\"Khan Market\",\n",
        "\"Sundar Nagar\",\n",
        "\"Nizamuddin East\",\n",
        "\"Nizamuddin West\",\n",
        "\"Sarai Kale Khan\",\n",
        "\"Jangpura\",\n",
        "\"Defence Colony\",\n",
        "\"Lajpat Nagar\",\n",
        "\"New Friends Colony\",\n",
        "\"Nehru Place\",\n",
        "\"Kalkaji\",\n",
        "\"East of Kailash\",\n",
        "\"Chittaranjan Park\",\n",
        "\"Govindpuri\",\n",
        "\"Greater Kailash\",\n",
        "\"Alaknanda\",\n",
        "\"Jamia Nagar\",\n",
        "\"Okhla\",\n",
        "\"Sarita Vihar\",\n",
        "\"Jaitpur\",\n",
        "\"Tughlaqabad\",\n",
        "\"Badarpur\",\n",
        "\"Pul Pehladpur\",\n",
        "\"East Vinod Nagar\",\n",
        "\"Jhilmil Colony\",\n",
        "\"Laxmi Nagar\",\n",
        "\"Mayur Vihar\",\n",
        "\"Pandav Nagar\",\n",
        "\"Preet Vihar\",\n",
        "\"Anand Vihar\",\n",
        "\"Shreshtha Vihar\",\n",
        "\"Vivek Vihar\",\n",
        "\"Vasundhara Enclave\",\n",
        "\"Vishwas Nagar\",\n",
        "\"Vivek Vihar\",\n",
        "\"Kamal Hans Nagar\",\n",
        "\"Ram Vihar\",\n",
        "\"Surajmal Vihar\",\n",
        "\"Bank Enclave\",\n",
        "\"Park End\",\n",
        "\"Yojna Vihar\",\n",
        "\"Chattarpur\",\n",
        "\"Green Park\",\n",
        "\"Gulmohar Park\",\n",
        "\"Hauz Khas\",\n",
        "\"Hauz Khas Village\",\n",
        "\"Khanpur\",\n",
        "\"Malviya Nagar\",\n",
        "\"Mehrauli\",\n",
        "\"Neeti Bagh\",\n",
        "\"Netaji Nagar\",\n",
        "\"Safdarjung Enclave\",\n",
        "\"Sainik Farm\",\n",
        "\"Saket\",\n",
        "\"Sangam Vihar\",\n",
        "\"Sarojini Nagar\",\n",
        "\"Sarvodaya Enclave\",\n",
        "\"Siri Fort\",\n",
        "\"South Extension\",\n",
        "\"Sriniwaspuri\",\n",
        "\"Adarsh Nagar\",\n",
        "\"Ashok Vihar\",\n",
        "\"Begum Pur\",\n",
        "\"Karala\",\n",
        "\"Narela\",\n",
        "\"Pitam Pura\",\n",
        "\"Rohini Sub City\",\n",
        "\"Shalimar Bagh\",\n",
        "\"Azadpur\",\n",
        "\"Civil Lines\",\n",
        "\"Derawal Nagar\",\n",
        "\"Gulabi Bagh\",\n",
        "\"Kamla Nagar\",\n",
        "\"Kashmiri Gate\",\n",
        "\"Daryaganj\",\n",
        "\"Model Town\",\n",
        "\"Sadar Bazaar\",\n",
        "\"Sarai Rohilla\",\n",
        "\"Shakti Nagar\",\n",
        "\"Tis Hazari\",\n",
        "\"Timarpur\",\n",
        "\"Wazirabad\",\n",
        "\"GTB Nagar\",\n",
        "\"Mukherjee Nagar\",\n",
        "\"Dilshad Garden\",\n",
        "\"Naveen Shahdara\",\n",
        "\"New Usmanpur\",\n",
        "\"Shahdara\",\n",
        "\"Shastri Park\",\n",
        "\"Yamuna Vihar\",\n",
        "\"Gokal Puri\",\n",
        "\"Ganga Vihar\",\n",
        "\"Bhajan Pura\",\n",
        "\"Chandni Chowk\",\n",
        "\"Daryaganj\",\n",
        "\"Jhandewalan\",\n",
        "\"Karol Bagh\",\n",
        "\"Shastri Nagar\",\n",
        "\"Kishanganj\",\n",
        "\"Paharganj\",\n",
        "\"Rajender Nagar\",\n",
        "\"Barakhamba Road\",\n",
        "\"Chanakyapuri\",\n",
        "\"Connaught Place\",\n",
        "\"Gole Market\",\n",
        "\"INA Colony\",\n",
        "\"Laxmibai Nagar\",\n",
        "\"Pragati Maidan\",\n",
        "\"Dwarka\",\n",
        "\"Sultanpur\",\n",
        "\"New Friends Colony\",\n",
        "\"Sheikh Sarai\",\n",
        "\"Commonwealth Games Village\",\n",
        "\"Manglapuri\",\n",
        "\"Budh Vihar\"]"
      ],
      "metadata": {
        "id": "sZOYN6ViSadB"
      },
      "execution_count": 19,
      "outputs": []
    },
    {
      "cell_type": "code",
      "source": [
        "def fun(x):\n",
        "    x = str(x)\n",
        "    x = x.lower()\n",
        "    for i in Localities:\n",
        "        if x.find(i.lower()) != -1:\n",
        "            return i\n",
        "    return \"Delhi\""
      ],
      "metadata": {
        "id": "CW--baOKTQW4"
      },
      "execution_count": 20,
      "outputs": []
    },
    {
      "cell_type": "code",
      "source": [
        "df[\"Locality\"] = df[\"Locality\"].apply(fun)"
      ],
      "metadata": {
        "id": "oWWzl9y_TTxM"
      },
      "execution_count": 21,
      "outputs": []
    },
    {
      "cell_type": "code",
      "source": [
        "df[\"Locality\"].value_counts()"
      ],
      "metadata": {
        "colab": {
          "base_uri": "https://localhost:8080/"
        },
        "id": "getnyNH6TVGM",
        "outputId": "94de4c13-2214-480f-bd3a-3e6f15b8e87a"
      },
      "execution_count": 22,
      "outputs": [
        {
          "output_type": "execute_result",
          "data": {
            "text/plain": [
              "Delhi                         146\n",
              "Lajpat Nagar                   90\n",
              "Dwarka                         87\n",
              "Shahdara                       65\n",
              "Alaknanda                      56\n",
              "Greater Kailash                44\n",
              "Patel Nagar                    36\n",
              "Laxmi Nagar                    34\n",
              "Okhla                          33\n",
              "Vasant Kunj                    33\n",
              "Kalkaji                        32\n",
              "Karol Bagh                     32\n",
              "New Friends Colony             31\n",
              "Saket                          30\n",
              "Commonwealth Games Village     30\n",
              "Paschim Vihar                  30\n",
              "Hauz Khas                      30\n",
              "Narela                         30\n",
              "Kirti Nagar                    30\n",
              "Malviya Nagar                  30\n",
              "Dilshad Garden                 30\n",
              "Mehrauli                       30\n",
              "Sheikh Sarai                   30\n",
              "Punjabi Bagh                   30\n",
              "Vasundhara Enclave             29\n",
              "Chittaranjan Park              28\n",
              "Safdarjung Enclave             28\n",
              "Sultanpur                      27\n",
              "Sarita Vihar                   27\n",
              "Uttam Nagar                    26\n",
              "Budh Vihar                     18\n",
              "Naveen Shahdara                 3\n",
              "Palam                           3\n",
              "Vishwas Nagar                   3\n",
              "Khanpur                         2\n",
              "Vasant Vihar                    2\n",
              "Najafgarh                       2\n",
              "Green Park                      2\n",
              "Chandni Chowk                   1\n",
              "Ashok Nagar                     1\n",
              "Jamia Nagar                     1\n",
              "Chattarpur                      1\n",
              "Khan Market                     1\n",
              "Name: Locality, dtype: int64"
            ]
          },
          "metadata": {},
          "execution_count": 22
        }
      ]
    },
    {
      "cell_type": "code",
      "source": [
        "df2 = df[df.Locality != \"Delhi\"]\n",
        "df2.shape"
      ],
      "metadata": {
        "colab": {
          "base_uri": "https://localhost:8080/"
        },
        "id": "hrTKeYoATWOg",
        "outputId": "3c28a352-6a35-4cb4-8f82-eccce85c4ba2"
      },
      "execution_count": 23,
      "outputs": [
        {
          "output_type": "execute_result",
          "data": {
            "text/plain": [
              "(1108, 11)"
            ]
          },
          "metadata": {},
          "execution_count": 23
        }
      ]
    },
    {
      "cell_type": "code",
      "source": [
        "df = df2"
      ],
      "metadata": {
        "id": "e4EFs4q1Twww"
      },
      "execution_count": 24,
      "outputs": []
    },
    {
      "cell_type": "code",
      "source": [
        "plt.figure(figsize = (16, 20))\n",
        "sns.heatmap(df.corr(), annot = True, cmap=\"YlGnBu\")\n",
        "plt.show()"
      ],
      "metadata": {
        "colab": {
          "base_uri": "https://localhost:8080/",
          "height": 1000
        },
        "id": "x8JCYXX9Ufnw",
        "outputId": "b3136ba8-ecc8-44a8-c525-66e51bb41f84"
      },
      "execution_count": 25,
      "outputs": [
        {
          "output_type": "display_data",
          "data": {
            "text/plain": [
              "<Figure size 1600x2000 with 2 Axes>"
            ],
            "image/png": "[encoded data removed]"
          },
          "metadata": {}
        }
      ]
    },
    {
      "cell_type": "markdown",
      "source": [
        "Dummy variables for following features-\n",
        "- Furnishing\n",
        "- Locality\n",
        "- Transaction\n",
        "- Type\n",
        "- Status"
      ],
      "metadata": {
        "id": "T0Ka79lRUaCG"
      }
    },
    {
      "cell_type": "code",
      "source": [
        "temp1 = pd.get_dummies(df[\"Furnishing\"], drop_first = True)\n",
        "temp2 = pd.get_dummies(df[\"Locality\"], drop_first = True)\n",
        "temp3 = pd.get_dummies(df[\"Transaction\"], drop_first = True)\n",
        "temp4 = pd.get_dummies(df[\"Type\"], drop_first = True)\n",
        "temp5 = pd.get_dummies(df[\"Status\"], drop_first = True)\n",
        "\n",
        "df = pd.concat([df, temp1, temp2, temp3, temp4, temp5], axis = 1)\n",
        "df.head()"
      ],
      "metadata": {
        "colab": {
          "base_uri": "https://localhost:8080/",
          "height": 404
        },
        "id": "wpkew7vRT1Ac",
        "outputId": "e3a5b890-92b6-4329-880a-15af9dfdda03"
      },
      "execution_count": 26,
      "outputs": [
        {
          "output_type": "execute_result",
          "data": {
            "text/plain": [
              "      Area  BHK  Bathroom      Furnishing      Locality  Parking     Price  \\\n",
              "30  1500.0    1       2.0     Unfurnished  Lajpat Nagar      1.0  13500000   \n",
              "31   800.0    2       2.0     Unfurnished  Lajpat Nagar      1.0  15000000   \n",
              "32   900.0    2       2.0     Unfurnished  Lajpat Nagar      1.0  10500000   \n",
              "33  1080.0    3       2.0  Semi-Furnished  Lajpat Nagar      1.0  22500000   \n",
              "34   750.0    2       2.0     Unfurnished  Lajpat Nagar      1.0  13600000   \n",
              "\n",
              "           Status   Transaction           Type  ...  Sheikh Sarai  Sultanpur  \\\n",
              "30  Ready_to_move        Resale      Apartment  ...             0          0   \n",
              "31  Ready_to_move  New_Property  Builder_Floor  ...             0          0   \n",
              "32  Ready_to_move  New_Property  Builder_Floor  ...             0          0   \n",
              "33  Ready_to_move  New_Property  Builder_Floor  ...             0          0   \n",
              "34  Ready_to_move  New_Property  Builder_Floor  ...             0          0   \n",
              "\n",
              "    Uttam Nagar  Vasant Kunj  Vasant Vihar  Vasundhara Enclave  Vishwas Nagar  \\\n",
              "30            0            0             0                   0              0   \n",
              "31            0            0             0                   0              0   \n",
              "32            0            0             0                   0              0   \n",
              "33            0            0             0                   0              0   \n",
              "34            0            0             0                   0              0   \n",
              "\n",
              "    Resale  Builder_Floor  Ready_to_move  \n",
              "30       1              0              1  \n",
              "31       0              1              1  \n",
              "32       0              1              1  \n",
              "33       0              1              1  \n",
              "34       0              1              1  \n",
              "\n",
              "[5 rows x 57 columns]"
            ],
            "text/html": [
              "\n",
              "  <div id=\"df-1e4bda2e-ae20-4058-ab9f-dd6ae8ab6b96\">\n",
              "    <div class=\"colab-df-container\">\n",
              "      <div>\n",
              "<style scoped>\n",
              "    .dataframe tbody tr th:only-of-type {\n",
              "        vertical-align: middle;\n",
              "    }\n",
              "\n",
              "    .dataframe tbody tr th {\n",
              "        vertical-align: top;\n",
              "    }\n",
              "\n",
              "    .dataframe thead th {\n",
              "        text-align: right;\n",
              "    }\n",
              "</style>\n",
              "<table border=\"1\" class=\"dataframe\">\n",
              "  <thead>\n",
              "    <tr style=\"text-align: right;\">\n",
              "      <th></th>\n",
              "      <th>Area</th>\n",
              "      <th>BHK</th>\n",
              "      <th>Bathroom</th>\n",
              "      <th>Furnishing</th>\n",
              "      <th>Locality</th>\n",
              "      <th>Parking</th>\n",
              "      <th>Price</th>\n",
              "      <th>Status</th>\n",
              "      <th>Transaction</th>\n",
              "      <th>Type</th>\n",
              "      <th>...</th>\n",
              "      <th>Sheikh Sarai</th>\n",
              "      <th>Sultanpur</th>\n",
              "      <th>Uttam Nagar</th>\n",
              "      <th>Vasant Kunj</th>\n",
              "      <th>Vasant Vihar</th>\n",
              "      <th>Vasundhara Enclave</th>\n",
              "      <th>Vishwas Nagar</th>\n",
              "      <th>Resale</th>\n",
              "      <th>Builder_Floor</th>\n",
              "      <th>Ready_to_move</th>\n",
              "    </tr>\n",
              "  </thead>\n",
              "  <tbody>\n",
              "    <tr>\n",
              "      <th>30</th>\n",
              "      <td>1500.0</td>\n",
              "      <td>1</td>\n",
              "      <td>2.0</td>\n",
              "      <td>Unfurnished</td>\n",
              "      <td>Lajpat Nagar</td>\n",
              "      <td>1.0</td>\n",
              "      <td>13500000</td>\n",
              "      <td>Ready_to_move</td>\n",
              "      <td>Resale</td>\n",
              "      <td>Apartment</td>\n",
              "      <td>...</td>\n",
              "      <td>0</td>\n",
              "      <td>0</td>\n",
              "      <td>0</td>\n",
              "      <td>0</td>\n",
              "      <td>0</td>\n",
              "      <td>0</td>\n",
              "      <td>0</td>\n",
              "      <td>1</td>\n",
              "      <td>0</td>\n",
              "      <td>1</td>\n",
              "    </tr>\n",
              "    <tr>\n",
              "      <th>31</th>\n",
              "      <td>800.0</td>\n",
              "      <td>2</td>\n",
              "      <td>2.0</td>\n",
              "      <td>Unfurnished</td>\n",
              "      <td>Lajpat Nagar</td>\n",
              "      <td>1.0</td>\n",
              "      <td>15000000</td>\n",
              "      <td>Ready_to_move</td>\n",
              "      <td>New_Property</td>\n",
              "      <td>Builder_Floor</td>\n",
              "      <td>...</td>\n",
              "      <td>0</td>\n",
              "      <td>0</td>\n",
              "      <td>0</td>\n",
              "      <td>0</td>\n",
              "      <td>0</td>\n",
              "      <td>0</td>\n",
              "      <td>0</td>\n",
              "      <td>0</td>\n",
              "      <td>1</td>\n",
              "      <td>1</td>\n",
              "    </tr>\n",
              "    <tr>\n",
              "      <th>32</th>\n",
              "      <td>900.0</td>\n",
              "      <td>2</td>\n",
              "      <td>2.0</td>\n",
              "      <td>Unfurnished</td>\n",
              "      <td>Lajpat Nagar</td>\n",
              "      <td>1.0</td>\n",
              "      <td>10500000</td>\n",
              "      <td>Ready_to_move</td>\n",
              "      <td>New_Property</td>\n",
              "      <td>Builder_Floor</td>\n",
              "      <td>...</td>\n",
              "      <td>0</td>\n",
              "      <td>0</td>\n",
              "      <td>0</td>\n",
              "      <td>0</td>\n",
              "      <td>0</td>\n",
              "      <td>0</td>\n",
              "      <td>0</td>\n",
              "      <td>0</td>\n",
              "      <td>1</td>\n",
              "      <td>1</td>\n",
              "    </tr>\n",
              "    <tr>\n",
              "      <th>33</th>\n",
              "      <td>1080.0</td>\n",
              "      <td>3</td>\n",
              "      <td>2.0</td>\n",
              "      <td>Semi-Furnished</td>\n",
              "      <td>Lajpat Nagar</td>\n",
              "      <td>1.0</td>\n",
              "      <td>22500000</td>\n",
              "      <td>Ready_to_move</td>\n",
              "      <td>New_Property</td>\n",
              "      <td>Builder_Floor</td>\n",
              "      <td>...</td>\n",
              "      <td>0</td>\n",
              "      <td>0</td>\n",
              "      <td>0</td>\n",
              "      <td>0</td>\n",
              "      <td>0</td>\n",
              "      <td>0</td>\n",
              "      <td>0</td>\n",
              "      <td>0</td>\n",
              "      <td>1</td>\n",
              "      <td>1</td>\n",
              "    </tr>\n",
              "    <tr>\n",
              "      <th>34</th>\n",
              "      <td>750.0</td>\n",
              "      <td>2</td>\n",
              "      <td>2.0</td>\n",
              "      <td>Unfurnished</td>\n",
              "      <td>Lajpat Nagar</td>\n",
              "      <td>1.0</td>\n",
              "      <td>13600000</td>\n",
              "      <td>Ready_to_move</td>\n",
              "      <td>New_Property</td>\n",
              "      <td>Builder_Floor</td>\n",
              "      <td>...</td>\n",
              "      <td>0</td>\n",
              "      <td>0</td>\n",
              "      <td>0</td>\n",
              "      <td>0</td>\n",
              "      <td>0</td>\n",
              "      <td>0</td>\n",
              "      <td>0</td>\n",
              "      <td>0</td>\n",
              "      <td>1</td>\n",
              "      <td>1</td>\n",
              "    </tr>\n",
              "  </tbody>\n",
              "</table>\n",
              "<p>5 rows × 57 columns</p>\n",
              "</div>\n",
              "      <button class=\"colab-df-convert\" onclick=\"convertToInteractive('df-1e4bda2e-ae20-4058-ab9f-dd6ae8ab6b96')\"\n",
              "              title=\"Convert this dataframe to an interactive table.\"\n",
              "              style=\"display:none;\">\n",
              "        \n",
              "  <svg xmlns=\"http://www.w3.org/2000/svg\" height=\"24px\"viewBox=\"0 0 24 24\"\n",
              "       width=\"24px\">\n",
              "    <path d=\"M0 0h24v24H0V0z\" fill=\"none\"/>\n",
              "    <path d=\"M18.56 5.44l.94 2.06.94-2.06 2.06-.94-2.06-.94-.94-2.06-.94 2.06-2.06.94zm-11 1L8.5 8.5l.94-2.06 2.06-.94-2.06-.94L8.5 2.5l-.94 2.06-2.06.94zm10 10l.94 2.06.94-2.06 2.06-.94-2.06-.94-.94-2.06-.94 2.06-2.06.94z\"/><path d=\"M17.41 7.96l-1.37-1.37c-.4-.4-.92-.59-1.43-.59-.52 0-1.04.2-1.43.59L10.3 9.45l-7.72 7.72c-.78.78-.78 2.05 0 2.83L4 21.41c.39.39.9.59 1.41.59.51 0 1.02-.2 1.41-.59l7.78-7.78 2.81-2.81c.8-.78.8-2.07 0-2.86zM5.41 20L4 18.59l7.72-7.72 1.47 1.35L5.41 20z\"/>\n",
              "  </svg>\n",
              "      </button>\n",
              "      \n",
              "  <style>\n",
              "    .colab-df-container {\n",
              "      display:flex;\n",
              "      flex-wrap:wrap;\n",
              "      gap: 12px;\n",
              "    }\n",
              "\n",
              "    .colab-df-convert {\n",
              "      background-color: #E8F0FE;\n",
              "      border: none;\n",
              "      border-radius: 50%;\n",
              "      cursor: pointer;\n",
              "      display: none;\n",
              "      fill: #1967D2;\n",
              "      height: 32px;\n",
              "      padding: 0 0 0 0;\n",
              "      width: 32px;\n",
              "    }\n",
              "\n",
              "    .colab-df-convert:hover {\n",
              "      background-color: #E2EBFA;\n",
              "      box-shadow: 0px 1px 2px rgba(60, 64, 67, 0.3), 0px 1px 3px 1px rgba(60, 64, 67, 0.15);\n",
              "      fill: #174EA6;\n",
              "    }\n",
              "\n",
              "    [theme=dark] .colab-df-convert {\n",
              "      background-color: #3B4455;\n",
              "      fill: #D2E3FC;\n",
              "    }\n",
              "\n",
              "    [theme=dark] .colab-df-convert:hover {\n",
              "      background-color: #434B5C;\n",
              "      box-shadow: 0px 1px 3px 1px rgba(0, 0, 0, 0.15);\n",
              "      filter: drop-shadow(0px 1px 2px rgba(0, 0, 0, 0.3));\n",
              "      fill: #FFFFFF;\n",
              "    }\n",
              "  </style>\n",
              "\n",
              "      <script>\n",
              "        const buttonEl =\n",
              "          document.querySelector('#df-1e4bda2e-ae20-4058-ab9f-dd6ae8ab6b96 button.colab-df-convert');\n",
              "        buttonEl.style.display =\n",
              "          google.colab.kernel.accessAllowed ? 'block' : 'none';\n",
              "\n",
              "        async function convertToInteractive(key) {\n",
              "          const element = document.querySelector('#df-1e4bda2e-ae20-4058-ab9f-dd6ae8ab6b96');\n",
              "          const dataTable =\n",
              "            await google.colab.kernel.invokeFunction('convertToInteractive',\n",
              "                                                     [key], {});\n",
              "          if (!dataTable) return;\n",
              "\n",
              "          const docLinkHtml = 'Like what you see? Visit the ' +\n",
              "            '<a target=\"_blank\" href=https://colab.research.google.com/notebooks/data_table.ipynb>data table notebook</a>'\n",
              "            + ' to learn more about interactive tables.';\n",
              "          element.innerHTML = '';\n",
              "          dataTable['output_type'] = 'display_data';\n",
              "          await google.colab.output.renderOutput(dataTable, element);\n",
              "          const docLink = document.createElement('div');\n",
              "          docLink.innerHTML = docLinkHtml;\n",
              "          element.appendChild(docLink);\n",
              "        }\n",
              "      </script>\n",
              "    </div>\n",
              "  </div>\n",
              "  "
            ]
          },
          "metadata": {},
          "execution_count": 26
        }
      ]
    },
    {
      "cell_type": "code",
      "source": [
        "df.shape"
      ],
      "metadata": {
        "colab": {
          "base_uri": "https://localhost:8080/"
        },
        "id": "i_fjF3chVNwo",
        "outputId": "38c9d939-ad62-417e-adeb-a1759ce0ec08"
      },
      "execution_count": 27,
      "outputs": [
        {
          "output_type": "execute_result",
          "data": {
            "text/plain": [
              "(1108, 57)"
            ]
          },
          "metadata": {},
          "execution_count": 27
        }
      ]
    },
    {
      "cell_type": "markdown",
      "source": [
        "Log Transformation on following variables :-\n",
        "- Area\n",
        "- Per_Sqft\n",
        "- Price"
      ],
      "metadata": {
        "id": "YPC_VPveWwRS"
      }
    },
    {
      "cell_type": "code",
      "source": [
        "df[\"Trans_area\"] = np.log(df[\"Area\"])\n",
        "df[\"Trans_Per_Sqft\"] = np.log(df[\"Per_Sqft\"])\n",
        "df[\"Trans_Price\"] = np.log(df[\"Price\"])\n",
        "df.head()"
      ],
      "metadata": {
        "colab": {
          "base_uri": "https://localhost:8080/",
          "height": 404
        },
        "id": "zOWrpJC8WrDb",
        "outputId": "fe01c3a8-9dbe-4340-8bb1-d9628933de35"
      },
      "execution_count": 28,
      "outputs": [
        {
          "output_type": "execute_result",
          "data": {
            "text/plain": [
              "      Area  BHK  Bathroom      Furnishing      Locality  Parking     Price  \\\n",
              "30  1500.0    1       2.0     Unfurnished  Lajpat Nagar      1.0  13500000   \n",
              "31   800.0    2       2.0     Unfurnished  Lajpat Nagar      1.0  15000000   \n",
              "32   900.0    2       2.0     Unfurnished  Lajpat Nagar      1.0  10500000   \n",
              "33  1080.0    3       2.0  Semi-Furnished  Lajpat Nagar      1.0  22500000   \n",
              "34   750.0    2       2.0     Unfurnished  Lajpat Nagar      1.0  13600000   \n",
              "\n",
              "           Status   Transaction           Type  ...  Vasant Kunj  \\\n",
              "30  Ready_to_move        Resale      Apartment  ...            0   \n",
              "31  Ready_to_move  New_Property  Builder_Floor  ...            0   \n",
              "32  Ready_to_move  New_Property  Builder_Floor  ...            0   \n",
              "33  Ready_to_move  New_Property  Builder_Floor  ...            0   \n",
              "34  Ready_to_move  New_Property  Builder_Floor  ...            0   \n",
              "\n",
              "    Vasant Vihar  Vasundhara Enclave  Vishwas Nagar  Resale  Builder_Floor  \\\n",
              "30             0                   0              0       1              0   \n",
              "31             0                   0              0       0              1   \n",
              "32             0                   0              0       0              1   \n",
              "33             0                   0              0       0              1   \n",
              "34             0                   0              0       0              1   \n",
              "\n",
              "    Ready_to_move  Trans_area  Trans_Per_Sqft  Trans_Price  \n",
              "30              1    7.313220        9.660788    16.418200  \n",
              "31              1    6.684612        9.660788    16.523561  \n",
              "32              1    6.802395        9.660788    16.166886  \n",
              "33              1    6.984716        9.660788    16.929026  \n",
              "34              1    6.620073        9.660788    16.425580  \n",
              "\n",
              "[5 rows x 60 columns]"
            ],
            "text/html": [
              "\n",
              "  <div id=\"df-450aa7d5-0002-42e6-b908-7d340adf3c39\">\n",
              "    <div class=\"colab-df-container\">\n",
              "      <div>\n",
              "<style scoped>\n",
              "    .dataframe tbody tr th:only-of-type {\n",
              "        vertical-align: middle;\n",
              "    }\n",
              "\n",
              "    .dataframe tbody tr th {\n",
              "        vertical-align: top;\n",
              "    }\n",
              "\n",
              "    .dataframe thead th {\n",
              "        text-align: right;\n",
              "    }\n",
              "</style>\n",
              "<table border=\"1\" class=\"dataframe\">\n",
              "  <thead>\n",
              "    <tr style=\"text-align: right;\">\n",
              "      <th></th>\n",
              "      <th>Area</th>\n",
              "      <th>BHK</th>\n",
              "      <th>Bathroom</th>\n",
              "      <th>Furnishing</th>\n",
              "      <th>Locality</th>\n",
              "      <th>Parking</th>\n",
              "      <th>Price</th>\n",
              "      <th>Status</th>\n",
              "      <th>Transaction</th>\n",
              "      <th>Type</th>\n",
              "      <th>...</th>\n",
              "      <th>Vasant Kunj</th>\n",
              "      <th>Vasant Vihar</th>\n",
              "      <th>Vasundhara Enclave</th>\n",
              "      <th>Vishwas Nagar</th>\n",
              "      <th>Resale</th>\n",
              "      <th>Builder_Floor</th>\n",
              "      <th>Ready_to_move</th>\n",
              "      <th>Trans_area</th>\n",
              "      <th>Trans_Per_Sqft</th>\n",
              "      <th>Trans_Price</th>\n",
              "    </tr>\n",
              "  </thead>\n",
              "  <tbody>\n",
              "    <tr>\n",
              "      <th>30</th>\n",
              "      <td>1500.0</td>\n",
              "      <td>1</td>\n",
              "      <td>2.0</td>\n",
              "      <td>Unfurnished</td>\n",
              "      <td>Lajpat Nagar</td>\n",
              "      <td>1.0</td>\n",
              "      <td>13500000</td>\n",
              "      <td>Ready_to_move</td>\n",
              "      <td>Resale</td>\n",
              "      <td>Apartment</td>\n",
              "      <td>...</td>\n",
              "      <td>0</td>\n",
              "      <td>0</td>\n",
              "      <td>0</td>\n",
              "      <td>0</td>\n",
              "      <td>1</td>\n",
              "      <td>0</td>\n",
              "      <td>1</td>\n",
              "      <td>7.313220</td>\n",
              "      <td>9.660788</td>\n",
              "      <td>16.418200</td>\n",
              "    </tr>\n",
              "    <tr>\n",
              "      <th>31</th>\n",
              "      <td>800.0</td>\n",
              "      <td>2</td>\n",
              "      <td>2.0</td>\n",
              "      <td>Unfurnished</td>\n",
              "      <td>Lajpat Nagar</td>\n",
              "      <td>1.0</td>\n",
              "      <td>15000000</td>\n",
              "      <td>Ready_to_move</td>\n",
              "      <td>New_Property</td>\n",
              "      <td>Builder_Floor</td>\n",
              "      <td>...</td>\n",
              "      <td>0</td>\n",
              "      <td>0</td>\n",
              "      <td>0</td>\n",
              "      <td>0</td>\n",
              "      <td>0</td>\n",
              "      <td>1</td>\n",
              "      <td>1</td>\n",
              "      <td>6.684612</td>\n",
              "      <td>9.660788</td>\n",
              "      <td>16.523561</td>\n",
              "    </tr>\n",
              "    <tr>\n",
              "      <th>32</th>\n",
              "      <td>900.0</td>\n",
              "      <td>2</td>\n",
              "      <td>2.0</td>\n",
              "      <td>Unfurnished</td>\n",
              "      <td>Lajpat Nagar</td>\n",
              "      <td>1.0</td>\n",
              "      <td>10500000</td>\n",
              "      <td>Ready_to_move</td>\n",
              "      <td>New_Property</td>\n",
              "      <td>Builder_Floor</td>\n",
              "      <td>...</td>\n",
              "      <td>0</td>\n",
              "      <td>0</td>\n",
              "      <td>0</td>\n",
              "      <td>0</td>\n",
              "      <td>0</td>\n",
              "      <td>1</td>\n",
              "      <td>1</td>\n",
              "      <td>6.802395</td>\n",
              "      <td>9.660788</td>\n",
              "      <td>16.166886</td>\n",
              "    </tr>\n",
              "    <tr>\n",
              "      <th>33</th>\n",
              "      <td>1080.0</td>\n",
              "      <td>3</td>\n",
              "      <td>2.0</td>\n",
              "      <td>Semi-Furnished</td>\n",
              "      <td>Lajpat Nagar</td>\n",
              "      <td>1.0</td>\n",
              "      <td>22500000</td>\n",
              "      <td>Ready_to_move</td>\n",
              "      <td>New_Property</td>\n",
              "      <td>Builder_Floor</td>\n",
              "      <td>...</td>\n",
              "      <td>0</td>\n",
              "      <td>0</td>\n",
              "      <td>0</td>\n",
              "      <td>0</td>\n",
              "      <td>0</td>\n",
              "      <td>1</td>\n",
              "      <td>1</td>\n",
              "      <td>6.984716</td>\n",
              "      <td>9.660788</td>\n",
              "      <td>16.929026</td>\n",
              "    </tr>\n",
              "    <tr>\n",
              "      <th>34</th>\n",
              "      <td>750.0</td>\n",
              "      <td>2</td>\n",
              "      <td>2.0</td>\n",
              "      <td>Unfurnished</td>\n",
              "      <td>Lajpat Nagar</td>\n",
              "      <td>1.0</td>\n",
              "      <td>13600000</td>\n",
              "      <td>Ready_to_move</td>\n",
              "      <td>New_Property</td>\n",
              "      <td>Builder_Floor</td>\n",
              "      <td>...</td>\n",
              "      <td>0</td>\n",
              "      <td>0</td>\n",
              "      <td>0</td>\n",
              "      <td>0</td>\n",
              "      <td>0</td>\n",
              "      <td>1</td>\n",
              "      <td>1</td>\n",
              "      <td>6.620073</td>\n",
              "      <td>9.660788</td>\n",
              "      <td>16.425580</td>\n",
              "    </tr>\n",
              "  </tbody>\n",
              "</table>\n",
              "<p>5 rows × 60 columns</p>\n",
              "</div>\n",
              "      <button class=\"colab-df-convert\" onclick=\"convertToInteractive('df-450aa7d5-0002-42e6-b908-7d340adf3c39')\"\n",
              "              title=\"Convert this dataframe to an interactive table.\"\n",
              "              style=\"display:none;\">\n",
              "        \n",
              "  <svg xmlns=\"http://www.w3.org/2000/svg\" height=\"24px\"viewBox=\"0 0 24 24\"\n",
              "       width=\"24px\">\n",
              "    <path d=\"M0 0h24v24H0V0z\" fill=\"none\"/>\n",
              "    <path d=\"M18.56 5.44l.94 2.06.94-2.06 2.06-.94-2.06-.94-.94-2.06-.94 2.06-2.06.94zm-11 1L8.5 8.5l.94-2.06 2.06-.94-2.06-.94L8.5 2.5l-.94 2.06-2.06.94zm10 10l.94 2.06.94-2.06 2.06-.94-2.06-.94-.94-2.06-.94 2.06-2.06.94z\"/><path d=\"M17.41 7.96l-1.37-1.37c-.4-.4-.92-.59-1.43-.59-.52 0-1.04.2-1.43.59L10.3 9.45l-7.72 7.72c-.78.78-.78 2.05 0 2.83L4 21.41c.39.39.9.59 1.41.59.51 0 1.02-.2 1.41-.59l7.78-7.78 2.81-2.81c.8-.78.8-2.07 0-2.86zM5.41 20L4 18.59l7.72-7.72 1.47 1.35L5.41 20z\"/>\n",
              "  </svg>\n",
              "      </button>\n",
              "      \n",
              "  <style>\n",
              "    .colab-df-container {\n",
              "      display:flex;\n",
              "      flex-wrap:wrap;\n",
              "      gap: 12px;\n",
              "    }\n",
              "\n",
              "    .colab-df-convert {\n",
              "      background-color: #E8F0FE;\n",
              "      border: none;\n",
              "      border-radius: 50%;\n",
              "      cursor: pointer;\n",
              "      display: none;\n",
              "      fill: #1967D2;\n",
              "      height: 32px;\n",
              "      padding: 0 0 0 0;\n",
              "      width: 32px;\n",
              "    }\n",
              "\n",
              "    .colab-df-convert:hover {\n",
              "      background-color: #E2EBFA;\n",
              "      box-shadow: 0px 1px 2px rgba(60, 64, 67, 0.3), 0px 1px 3px 1px rgba(60, 64, 67, 0.15);\n",
              "      fill: #174EA6;\n",
              "    }\n",
              "\n",
              "    [theme=dark] .colab-df-convert {\n",
              "      background-color: #3B4455;\n",
              "      fill: #D2E3FC;\n",
              "    }\n",
              "\n",
              "    [theme=dark] .colab-df-convert:hover {\n",
              "      background-color: #434B5C;\n",
              "      box-shadow: 0px 1px 3px 1px rgba(0, 0, 0, 0.15);\n",
              "      filter: drop-shadow(0px 1px 2px rgba(0, 0, 0, 0.3));\n",
              "      fill: #FFFFFF;\n",
              "    }\n",
              "  </style>\n",
              "\n",
              "      <script>\n",
              "        const buttonEl =\n",
              "          document.querySelector('#df-450aa7d5-0002-42e6-b908-7d340adf3c39 button.colab-df-convert');\n",
              "        buttonEl.style.display =\n",
              "          google.colab.kernel.accessAllowed ? 'block' : 'none';\n",
              "\n",
              "        async function convertToInteractive(key) {\n",
              "          const element = document.querySelector('#df-450aa7d5-0002-42e6-b908-7d340adf3c39');\n",
              "          const dataTable =\n",
              "            await google.colab.kernel.invokeFunction('convertToInteractive',\n",
              "                                                     [key], {});\n",
              "          if (!dataTable) return;\n",
              "\n",
              "          const docLinkHtml = 'Like what you see? Visit the ' +\n",
              "            '<a target=\"_blank\" href=https://colab.research.google.com/notebooks/data_table.ipynb>data table notebook</a>'\n",
              "            + ' to learn more about interactive tables.';\n",
              "          element.innerHTML = '';\n",
              "          dataTable['output_type'] = 'display_data';\n",
              "          await google.colab.output.renderOutput(dataTable, element);\n",
              "          const docLink = document.createElement('div');\n",
              "          docLink.innerHTML = docLinkHtml;\n",
              "          element.appendChild(docLink);\n",
              "        }\n",
              "      </script>\n",
              "    </div>\n",
              "  </div>\n",
              "  "
            ]
          },
          "metadata": {},
          "execution_count": 28
        }
      ]
    },
    {
      "cell_type": "code",
      "source": [
        "df.drop([\"Area\", \"Price\", \"Per_Sqft\", \"Locality\", \"Furnishing\", \"Status\", \"Transaction\", \"Type\"], axis = 1, inplace = True)\n",
        "df.shape"
      ],
      "metadata": {
        "colab": {
          "base_uri": "https://localhost:8080/"
        },
        "id": "5cBZI9lLWyjk",
        "outputId": "e6045393-f0b6-4af5-f7f3-30a687649593"
      },
      "execution_count": 29,
      "outputs": [
        {
          "output_type": "execute_result",
          "data": {
            "text/plain": [
              "(1108, 52)"
            ]
          },
          "metadata": {},
          "execution_count": 29
        }
      ]
    },
    {
      "cell_type": "code",
      "source": [
        "df.head()"
      ],
      "metadata": {
        "colab": {
          "base_uri": "https://localhost:8080/",
          "height": 317
        },
        "id": "uQ3m4LvNXBPE",
        "outputId": "45aedfd5-c8fc-4f0a-e676-87670ea2950c"
      },
      "execution_count": 30,
      "outputs": [
        {
          "output_type": "execute_result",
          "data": {
            "text/plain": [
              "    BHK  Bathroom  Parking  Semi-Furnished  Unfurnished  Ashok Nagar  \\\n",
              "30    1       2.0      1.0               0            1            0   \n",
              "31    2       2.0      1.0               0            1            0   \n",
              "32    2       2.0      1.0               0            1            0   \n",
              "33    3       2.0      1.0               1            0            0   \n",
              "34    2       2.0      1.0               0            1            0   \n",
              "\n",
              "    Budh Vihar  Chandni Chowk  Chattarpur  Chittaranjan Park  ...  \\\n",
              "30           0              0           0                  0  ...   \n",
              "31           0              0           0                  0  ...   \n",
              "32           0              0           0                  0  ...   \n",
              "33           0              0           0                  0  ...   \n",
              "34           0              0           0                  0  ...   \n",
              "\n",
              "    Vasant Kunj  Vasant Vihar  Vasundhara Enclave  Vishwas Nagar  Resale  \\\n",
              "30            0             0                   0              0       1   \n",
              "31            0             0                   0              0       0   \n",
              "32            0             0                   0              0       0   \n",
              "33            0             0                   0              0       0   \n",
              "34            0             0                   0              0       0   \n",
              "\n",
              "    Builder_Floor  Ready_to_move  Trans_area  Trans_Per_Sqft  Trans_Price  \n",
              "30              0              1    7.313220        9.660788    16.418200  \n",
              "31              1              1    6.684612        9.660788    16.523561  \n",
              "32              1              1    6.802395        9.660788    16.166886  \n",
              "33              1              1    6.984716        9.660788    16.929026  \n",
              "34              1              1    6.620073        9.660788    16.425580  \n",
              "\n",
              "[5 rows x 52 columns]"
            ],
            "text/html": [
              "\n",
              "  <div id=\"df-8eda2ae9-3bb1-4479-ba61-08823951cc42\">\n",
              "    <div class=\"colab-df-container\">\n",
              "      <div>\n",
              "<style scoped>\n",
              "    .dataframe tbody tr th:only-of-type {\n",
              "        vertical-align: middle;\n",
              "    }\n",
              "\n",
              "    .dataframe tbody tr th {\n",
              "        vertical-align: top;\n",
              "    }\n",
              "\n",
              "    .dataframe thead th {\n",
              "        text-align: right;\n",
              "    }\n",
              "</style>\n",
              "<table border=\"1\" class=\"dataframe\">\n",
              "  <thead>\n",
              "    <tr style=\"text-align: right;\">\n",
              "      <th></th>\n",
              "      <th>BHK</th>\n",
              "      <th>Bathroom</th>\n",
              "      <th>Parking</th>\n",
              "      <th>Semi-Furnished</th>\n",
              "      <th>Unfurnished</th>\n",
              "      <th>Ashok Nagar</th>\n",
              "      <th>Budh Vihar</th>\n",
              "      <th>Chandni Chowk</th>\n",
              "      <th>Chattarpur</th>\n",
              "      <th>Chittaranjan Park</th>\n",
              "      <th>...</th>\n",
              "      <th>Vasant Kunj</th>\n",
              "      <th>Vasant Vihar</th>\n",
              "      <th>Vasundhara Enclave</th>\n",
              "      <th>Vishwas Nagar</th>\n",
              "      <th>Resale</th>\n",
              "      <th>Builder_Floor</th>\n",
              "      <th>Ready_to_move</th>\n",
              "      <th>Trans_area</th>\n",
              "      <th>Trans_Per_Sqft</th>\n",
              "      <th>Trans_Price</th>\n",
              "    </tr>\n",
              "  </thead>\n",
              "  <tbody>\n",
              "    <tr>\n",
              "      <th>30</th>\n",
              "      <td>1</td>\n",
              "      <td>2.0</td>\n",
              "      <td>1.0</td>\n",
              "      <td>0</td>\n",
              "      <td>1</td>\n",
              "      <td>0</td>\n",
              "      <td>0</td>\n",
              "      <td>0</td>\n",
              "      <td>0</td>\n",
              "      <td>0</td>\n",
              "      <td>...</td>\n",
              "      <td>0</td>\n",
              "      <td>0</td>\n",
              "      <td>0</td>\n",
              "      <td>0</td>\n",
              "      <td>1</td>\n",
              "      <td>0</td>\n",
              "      <td>1</td>\n",
              "      <td>7.313220</td>\n",
              "      <td>9.660788</td>\n",
              "      <td>16.418200</td>\n",
              "    </tr>\n",
              "    <tr>\n",
              "      <th>31</th>\n",
              "      <td>2</td>\n",
              "      <td>2.0</td>\n",
              "      <td>1.0</td>\n",
              "      <td>0</td>\n",
              "      <td>1</td>\n",
              "      <td>0</td>\n",
              "      <td>0</td>\n",
              "      <td>0</td>\n",
              "      <td>0</td>\n",
              "      <td>0</td>\n",
              "      <td>...</td>\n",
              "      <td>0</td>\n",
              "      <td>0</td>\n",
              "      <td>0</td>\n",
              "      <td>0</td>\n",
              "      <td>0</td>\n",
              "      <td>1</td>\n",
              "      <td>1</td>\n",
              "      <td>6.684612</td>\n",
              "      <td>9.660788</td>\n",
              "      <td>16.523561</td>\n",
              "    </tr>\n",
              "    <tr>\n",
              "      <th>32</th>\n",
              "      <td>2</td>\n",
              "      <td>2.0</td>\n",
              "      <td>1.0</td>\n",
              "      <td>0</td>\n",
              "      <td>1</td>\n",
              "      <td>0</td>\n",
              "      <td>0</td>\n",
              "      <td>0</td>\n",
              "      <td>0</td>\n",
              "      <td>0</td>\n",
              "      <td>...</td>\n",
              "      <td>0</td>\n",
              "      <td>0</td>\n",
              "      <td>0</td>\n",
              "      <td>0</td>\n",
              "      <td>0</td>\n",
              "      <td>1</td>\n",
              "      <td>1</td>\n",
              "      <td>6.802395</td>\n",
              "      <td>9.660788</td>\n",
              "      <td>16.166886</td>\n",
              "    </tr>\n",
              "    <tr>\n",
              "      <th>33</th>\n",
              "      <td>3</td>\n",
              "      <td>2.0</td>\n",
              "      <td>1.0</td>\n",
              "      <td>1</td>\n",
              "      <td>0</td>\n",
              "      <td>0</td>\n",
              "      <td>0</td>\n",
              "      <td>0</td>\n",
              "      <td>0</td>\n",
              "      <td>0</td>\n",
              "      <td>...</td>\n",
              "      <td>0</td>\n",
              "      <td>0</td>\n",
              "      <td>0</td>\n",
              "      <td>0</td>\n",
              "      <td>0</td>\n",
              "      <td>1</td>\n",
              "      <td>1</td>\n",
              "      <td>6.984716</td>\n",
              "      <td>9.660788</td>\n",
              "      <td>16.929026</td>\n",
              "    </tr>\n",
              "    <tr>\n",
              "      <th>34</th>\n",
              "      <td>2</td>\n",
              "      <td>2.0</td>\n",
              "      <td>1.0</td>\n",
              "      <td>0</td>\n",
              "      <td>1</td>\n",
              "      <td>0</td>\n",
              "      <td>0</td>\n",
              "      <td>0</td>\n",
              "      <td>0</td>\n",
              "      <td>0</td>\n",
              "      <td>...</td>\n",
              "      <td>0</td>\n",
              "      <td>0</td>\n",
              "      <td>0</td>\n",
              "      <td>0</td>\n",
              "      <td>0</td>\n",
              "      <td>1</td>\n",
              "      <td>1</td>\n",
              "      <td>6.620073</td>\n",
              "      <td>9.660788</td>\n",
              "      <td>16.425580</td>\n",
              "    </tr>\n",
              "  </tbody>\n",
              "</table>\n",
              "<p>5 rows × 52 columns</p>\n",
              "</div>\n",
              "      <button class=\"colab-df-convert\" onclick=\"convertToInteractive('df-8eda2ae9-3bb1-4479-ba61-08823951cc42')\"\n",
              "              title=\"Convert this dataframe to an interactive table.\"\n",
              "              style=\"display:none;\">\n",
              "        \n",
              "  <svg xmlns=\"http://www.w3.org/2000/svg\" height=\"24px\"viewBox=\"0 0 24 24\"\n",
              "       width=\"24px\">\n",
              "    <path d=\"M0 0h24v24H0V0z\" fill=\"none\"/>\n",
              "    <path d=\"M18.56 5.44l.94 2.06.94-2.06 2.06-.94-2.06-.94-.94-2.06-.94 2.06-2.06.94zm-11 1L8.5 8.5l.94-2.06 2.06-.94-2.06-.94L8.5 2.5l-.94 2.06-2.06.94zm10 10l.94 2.06.94-2.06 2.06-.94-2.06-.94-.94-2.06-.94 2.06-2.06.94z\"/><path d=\"M17.41 7.96l-1.37-1.37c-.4-.4-.92-.59-1.43-.59-.52 0-1.04.2-1.43.59L10.3 9.45l-7.72 7.72c-.78.78-.78 2.05 0 2.83L4 21.41c.39.39.9.59 1.41.59.51 0 1.02-.2 1.41-.59l7.78-7.78 2.81-2.81c.8-.78.8-2.07 0-2.86zM5.41 20L4 18.59l7.72-7.72 1.47 1.35L5.41 20z\"/>\n",
              "  </svg>\n",
              "      </button>\n",
              "      \n",
              "  <style>\n",
              "    .colab-df-container {\n",
              "      display:flex;\n",
              "      flex-wrap:wrap;\n",
              "      gap: 12px;\n",
              "    }\n",
              "\n",
              "    .colab-df-convert {\n",
              "      background-color: #E8F0FE;\n",
              "      border: none;\n",
              "      border-radius: 50%;\n",
              "      cursor: pointer;\n",
              "      display: none;\n",
              "      fill: #1967D2;\n",
              "      height: 32px;\n",
              "      padding: 0 0 0 0;\n",
              "      width: 32px;\n",
              "    }\n",
              "\n",
              "    .colab-df-convert:hover {\n",
              "      background-color: #E2EBFA;\n",
              "      box-shadow: 0px 1px 2px rgba(60, 64, 67, 0.3), 0px 1px 3px 1px rgba(60, 64, 67, 0.15);\n",
              "      fill: #174EA6;\n",
              "    }\n",
              "\n",
              "    [theme=dark] .colab-df-convert {\n",
              "      background-color: #3B4455;\n",
              "      fill: #D2E3FC;\n",
              "    }\n",
              "\n",
              "    [theme=dark] .colab-df-convert:hover {\n",
              "      background-color: #434B5C;\n",
              "      box-shadow: 0px 1px 3px 1px rgba(0, 0, 0, 0.15);\n",
              "      filter: drop-shadow(0px 1px 2px rgba(0, 0, 0, 0.3));\n",
              "      fill: #FFFFFF;\n",
              "    }\n",
              "  </style>\n",
              "\n",
              "      <script>\n",
              "        const buttonEl =\n",
              "          document.querySelector('#df-8eda2ae9-3bb1-4479-ba61-08823951cc42 button.colab-df-convert');\n",
              "        buttonEl.style.display =\n",
              "          google.colab.kernel.accessAllowed ? 'block' : 'none';\n",
              "\n",
              "        async function convertToInteractive(key) {\n",
              "          const element = document.querySelector('#df-8eda2ae9-3bb1-4479-ba61-08823951cc42');\n",
              "          const dataTable =\n",
              "            await google.colab.kernel.invokeFunction('convertToInteractive',\n",
              "                                                     [key], {});\n",
              "          if (!dataTable) return;\n",
              "\n",
              "          const docLinkHtml = 'Like what you see? Visit the ' +\n",
              "            '<a target=\"_blank\" href=https://colab.research.google.com/notebooks/data_table.ipynb>data table notebook</a>'\n",
              "            + ' to learn more about interactive tables.';\n",
              "          element.innerHTML = '';\n",
              "          dataTable['output_type'] = 'display_data';\n",
              "          await google.colab.output.renderOutput(dataTable, element);\n",
              "          const docLink = document.createElement('div');\n",
              "          docLink.innerHTML = docLinkHtml;\n",
              "          element.appendChild(docLink);\n",
              "        }\n",
              "      </script>\n",
              "    </div>\n",
              "  </div>\n",
              "  "
            ]
          },
          "metadata": {},
          "execution_count": 30
        }
      ]
    },
    {
      "cell_type": "markdown",
      "source": [
        "## **Model Building**"
      ],
      "metadata": {
        "id": "EKLTd_E8XGQt"
      }
    },
    {
      "cell_type": "code",
      "source": [
        "# Train Test Split\n",
        "np.random.seed(0)\n",
        "df_train, df_test = train_test_split(df, train_size = 0.7, test_size = 0.3, random_state = 100)"
      ],
      "metadata": {
        "id": "UpPP7L4gXDIb"
      },
      "execution_count": 31,
      "outputs": []
    },
    {
      "cell_type": "code",
      "source": [
        "print(df_train.shape, df_test.shape)"
      ],
      "metadata": {
        "colab": {
          "base_uri": "https://localhost:8080/"
        },
        "id": "95V-h5Z7XNMX",
        "outputId": "f0179f54-ec90-4da0-855d-09f4c3365b6b"
      },
      "execution_count": 32,
      "outputs": [
        {
          "output_type": "stream",
          "name": "stdout",
          "text": [
            "(775, 52) (333, 52)\n"
          ]
        }
      ]
    },
    {
      "cell_type": "code",
      "source": [
        "# Normalizing the values before training\n",
        "scaler = MinMaxScaler()"
      ],
      "metadata": {
        "id": "sc54rUR3XPzF"
      },
      "execution_count": 33,
      "outputs": []
    },
    {
      "cell_type": "code",
      "source": [
        "num_vars = [\"BHK\", \"Bathroom\", \"Parking\", \"Trans_Price\", \"Trans_area\", \"Trans_Per_Sqft\"]\n",
        "\n",
        "df_train[num_vars] = scaler.fit_transform(df_train[num_vars])\n",
        "df_train.head()"
      ],
      "metadata": {
        "colab": {
          "base_uri": "https://localhost:8080/",
          "height": 317
        },
        "id": "WlUocj3iXUOB",
        "outputId": "fff438db-e4eb-4f72-9e56-e974d2566b87"
      },
      "execution_count": 34,
      "outputs": [
        {
          "output_type": "execute_result",
          "data": {
            "text/plain": [
              "           BHK  Bathroom  Parking  Semi-Furnished  Unfurnished  Ashok Nagar  \\\n",
              "1177  0.222222  0.333333  0.00885               1            0            0   \n",
              "1061  0.222222  0.166667  0.00000               0            1            0   \n",
              "291   0.222222  0.333333  0.00000               1            0            0   \n",
              "584   0.333333  0.500000  0.00000               1            0            0   \n",
              "1007  0.111111  0.166667  0.00000               1            0            0   \n",
              "\n",
              "      Budh Vihar  Chandni Chowk  Chattarpur  Chittaranjan Park  ...  \\\n",
              "1177           0              0           0                  0  ...   \n",
              "1061           0              0           0                  0  ...   \n",
              "291            0              0           0                  0  ...   \n",
              "584            0              0           0                  0  ...   \n",
              "1007           0              0           0                  0  ...   \n",
              "\n",
              "      Vasant Kunj  Vasant Vihar  Vasundhara Enclave  Vishwas Nagar  Resale  \\\n",
              "1177            0             0                   0              0       0   \n",
              "1061            0             0                   0              0       1   \n",
              "291             0             0                   0              0       0   \n",
              "584             0             0                   0              0       1   \n",
              "1007            0             0                   0              0       1   \n",
              "\n",
              "      Builder_Floor  Ready_to_move  Trans_area  Trans_Per_Sqft  Trans_Price  \n",
              "1177              0              1    0.512375        0.476994     0.392612  \n",
              "1061              1              1    0.496272        0.356104     0.379416  \n",
              "291               1              1    0.533735        0.538300     0.590931  \n",
              "584               1              1    0.724253        0.464827     0.781585  \n",
              "1007              1              1    0.468406        0.387862     0.243585  \n",
              "\n",
              "[5 rows x 52 columns]"
            ],
            "text/html": [
              "\n",
              "  <div id=\"df-9d8042dc-b65f-410d-875c-da808ef22b78\">\n",
              "    <div class=\"colab-df-container\">\n",
              "      <div>\n",
              "<style scoped>\n",
              "    .dataframe tbody tr th:only-of-type {\n",
              "        vertical-align: middle;\n",
              "    }\n",
              "\n",
              "    .dataframe tbody tr th {\n",
              "        vertical-align: top;\n",
              "    }\n",
              "\n",
              "    .dataframe thead th {\n",
              "        text-align: right;\n",
              "    }\n",
              "</style>\n",
              "<table border=\"1\" class=\"dataframe\">\n",
              "  <thead>\n",
              "    <tr style=\"text-align: right;\">\n",
              "      <th></th>\n",
              "      <th>BHK</th>\n",
              "      <th>Bathroom</th>\n",
              "      <th>Parking</th>\n",
              "      <th>Semi-Furnished</th>\n",
              "      <th>Unfurnished</th>\n",
              "      <th>Ashok Nagar</th>\n",
              "      <th>Budh Vihar</th>\n",
              "      <th>Chandni Chowk</th>\n",
              "      <th>Chattarpur</th>\n",
              "      <th>Chittaranjan Park</th>\n",
              "      <th>...</th>\n",
              "      <th>Vasant Kunj</th>\n",
              "      <th>Vasant Vihar</th>\n",
              "      <th>Vasundhara Enclave</th>\n",
              "      <th>Vishwas Nagar</th>\n",
              "      <th>Resale</th>\n",
              "      <th>Builder_Floor</th>\n",
              "      <th>Ready_to_move</th>\n",
              "      <th>Trans_area</th>\n",
              "      <th>Trans_Per_Sqft</th>\n",
              "      <th>Trans_Price</th>\n",
              "    </tr>\n",
              "  </thead>\n",
              "  <tbody>\n",
              "    <tr>\n",
              "      <th>1177</th>\n",
              "      <td>0.222222</td>\n",
              "      <td>0.333333</td>\n",
              "      <td>0.00885</td>\n",
              "      <td>1</td>\n",
              "      <td>0</td>\n",
              "      <td>0</td>\n",
              "      <td>0</td>\n",
              "      <td>0</td>\n",
              "      <td>0</td>\n",
              "      <td>0</td>\n",
              "      <td>...</td>\n",
              "      <td>0</td>\n",
              "      <td>0</td>\n",
              "      <td>0</td>\n",
              "      <td>0</td>\n",
              "      <td>0</td>\n",
              "      <td>0</td>\n",
              "      <td>1</td>\n",
              "      <td>0.512375</td>\n",
              "      <td>0.476994</td>\n",
              "      <td>0.392612</td>\n",
              "    </tr>\n",
              "    <tr>\n",
              "      <th>1061</th>\n",
              "      <td>0.222222</td>\n",
              "      <td>0.166667</td>\n",
              "      <td>0.00000</td>\n",
              "      <td>0</td>\n",
              "      <td>1</td>\n",
              "      <td>0</td>\n",
              "      <td>0</td>\n",
              "      <td>0</td>\n",
              "      <td>0</td>\n",
              "      <td>0</td>\n",
              "      <td>...</td>\n",
              "      <td>0</td>\n",
              "      <td>0</td>\n",
              "      <td>0</td>\n",
              "      <td>0</td>\n",
              "      <td>1</td>\n",
              "      <td>1</td>\n",
              "      <td>1</td>\n",
              "      <td>0.496272</td>\n",
              "      <td>0.356104</td>\n",
              "      <td>0.379416</td>\n",
              "    </tr>\n",
              "    <tr>\n",
              "      <th>291</th>\n",
              "      <td>0.222222</td>\n",
              "      <td>0.333333</td>\n",
              "      <td>0.00000</td>\n",
              "      <td>1</td>\n",
              "      <td>0</td>\n",
              "      <td>0</td>\n",
              "      <td>0</td>\n",
              "      <td>0</td>\n",
              "      <td>0</td>\n",
              "      <td>0</td>\n",
              "      <td>...</td>\n",
              "      <td>0</td>\n",
              "      <td>0</td>\n",
              "      <td>0</td>\n",
              "      <td>0</td>\n",
              "      <td>0</td>\n",
              "      <td>1</td>\n",
              "      <td>1</td>\n",
              "      <td>0.533735</td>\n",
              "      <td>0.538300</td>\n",
              "      <td>0.590931</td>\n",
              "    </tr>\n",
              "    <tr>\n",
              "      <th>584</th>\n",
              "      <td>0.333333</td>\n",
              "      <td>0.500000</td>\n",
              "      <td>0.00000</td>\n",
              "      <td>1</td>\n",
              "      <td>0</td>\n",
              "      <td>0</td>\n",
              "      <td>0</td>\n",
              "      <td>0</td>\n",
              "      <td>0</td>\n",
              "      <td>0</td>\n",
              "      <td>...</td>\n",
              "      <td>0</td>\n",
              "      <td>0</td>\n",
              "      <td>0</td>\n",
              "      <td>0</td>\n",
              "      <td>1</td>\n",
              "      <td>1</td>\n",
              "      <td>1</td>\n",
              "      <td>0.724253</td>\n",
              "      <td>0.464827</td>\n",
              "      <td>0.781585</td>\n",
              "    </tr>\n",
              "    <tr>\n",
              "      <th>1007</th>\n",
              "      <td>0.111111</td>\n",
              "      <td>0.166667</td>\n",
              "      <td>0.00000</td>\n",
              "      <td>1</td>\n",
              "      <td>0</td>\n",
              "      <td>0</td>\n",
              "      <td>0</td>\n",
              "      <td>0</td>\n",
              "      <td>0</td>\n",
              "      <td>0</td>\n",
              "      <td>...</td>\n",
              "      <td>0</td>\n",
              "      <td>0</td>\n",
              "      <td>0</td>\n",
              "      <td>0</td>\n",
              "      <td>1</td>\n",
              "      <td>1</td>\n",
              "      <td>1</td>\n",
              "      <td>0.468406</td>\n",
              "      <td>0.387862</td>\n",
              "      <td>0.243585</td>\n",
              "    </tr>\n",
              "  </tbody>\n",
              "</table>\n",
              "<p>5 rows × 52 columns</p>\n",
              "</div>\n",
              "      <button class=\"colab-df-convert\" onclick=\"convertToInteractive('df-9d8042dc-b65f-410d-875c-da808ef22b78')\"\n",
              "              title=\"Convert this dataframe to an interactive table.\"\n",
              "              style=\"display:none;\">\n",
              "        \n",
              "  <svg xmlns=\"http://www.w3.org/2000/svg\" height=\"24px\"viewBox=\"0 0 24 24\"\n",
              "       width=\"24px\">\n",
              "    <path d=\"M0 0h24v24H0V0z\" fill=\"none\"/>\n",
              "    <path d=\"M18.56 5.44l.94 2.06.94-2.06 2.06-.94-2.06-.94-.94-2.06-.94 2.06-2.06.94zm-11 1L8.5 8.5l.94-2.06 2.06-.94-2.06-.94L8.5 2.5l-.94 2.06-2.06.94zm10 10l.94 2.06.94-2.06 2.06-.94-2.06-.94-.94-2.06-.94 2.06-2.06.94z\"/><path d=\"M17.41 7.96l-1.37-1.37c-.4-.4-.92-.59-1.43-.59-.52 0-1.04.2-1.43.59L10.3 9.45l-7.72 7.72c-.78.78-.78 2.05 0 2.83L4 21.41c.39.39.9.59 1.41.59.51 0 1.02-.2 1.41-.59l7.78-7.78 2.81-2.81c.8-.78.8-2.07 0-2.86zM5.41 20L4 18.59l7.72-7.72 1.47 1.35L5.41 20z\"/>\n",
              "  </svg>\n",
              "      </button>\n",
              "      \n",
              "  <style>\n",
              "    .colab-df-container {\n",
              "      display:flex;\n",
              "      flex-wrap:wrap;\n",
              "      gap: 12px;\n",
              "    }\n",
              "\n",
              "    .colab-df-convert {\n",
              "      background-color: #E8F0FE;\n",
              "      border: none;\n",
              "      border-radius: 50%;\n",
              "      cursor: pointer;\n",
              "      display: none;\n",
              "      fill: #1967D2;\n",
              "      height: 32px;\n",
              "      padding: 0 0 0 0;\n",
              "      width: 32px;\n",
              "    }\n",
              "\n",
              "    .colab-df-convert:hover {\n",
              "      background-color: #E2EBFA;\n",
              "      box-shadow: 0px 1px 2px rgba(60, 64, 67, 0.3), 0px 1px 3px 1px rgba(60, 64, 67, 0.15);\n",
              "      fill: #174EA6;\n",
              "    }\n",
              "\n",
              "    [theme=dark] .colab-df-convert {\n",
              "      background-color: #3B4455;\n",
              "      fill: #D2E3FC;\n",
              "    }\n",
              "\n",
              "    [theme=dark] .colab-df-convert:hover {\n",
              "      background-color: #434B5C;\n",
              "      box-shadow: 0px 1px 3px 1px rgba(0, 0, 0, 0.15);\n",
              "      filter: drop-shadow(0px 1px 2px rgba(0, 0, 0, 0.3));\n",
              "      fill: #FFFFFF;\n",
              "    }\n",
              "  </style>\n",
              "\n",
              "      <script>\n",
              "        const buttonEl =\n",
              "          document.querySelector('#df-9d8042dc-b65f-410d-875c-da808ef22b78 button.colab-df-convert');\n",
              "        buttonEl.style.display =\n",
              "          google.colab.kernel.accessAllowed ? 'block' : 'none';\n",
              "\n",
              "        async function convertToInteractive(key) {\n",
              "          const element = document.querySelector('#df-9d8042dc-b65f-410d-875c-da808ef22b78');\n",
              "          const dataTable =\n",
              "            await google.colab.kernel.invokeFunction('convertToInteractive',\n",
              "                                                     [key], {});\n",
              "          if (!dataTable) return;\n",
              "\n",
              "          const docLinkHtml = 'Like what you see? Visit the ' +\n",
              "            '<a target=\"_blank\" href=https://colab.research.google.com/notebooks/data_table.ipynb>data table notebook</a>'\n",
              "            + ' to learn more about interactive tables.';\n",
              "          element.innerHTML = '';\n",
              "          dataTable['output_type'] = 'display_data';\n",
              "          await google.colab.output.renderOutput(dataTable, element);\n",
              "          const docLink = document.createElement('div');\n",
              "          docLink.innerHTML = docLinkHtml;\n",
              "          element.appendChild(docLink);\n",
              "        }\n",
              "      </script>\n",
              "    </div>\n",
              "  </div>\n",
              "  "
            ]
          },
          "metadata": {},
          "execution_count": 34
        }
      ]
    },
    {
      "cell_type": "code",
      "source": [
        "y_train = df_train.pop(\"Trans_Price\")\n",
        "x_train = df_train"
      ],
      "metadata": {
        "id": "lpmCw4ZoXeYC"
      },
      "execution_count": 35,
      "outputs": []
    },
    {
      "cell_type": "code",
      "source": [
        "df_test[num_vars] = scaler.transform(df_test[num_vars])\n",
        "df_test.head()"
      ],
      "metadata": {
        "colab": {
          "base_uri": "https://localhost:8080/",
          "height": 317
        },
        "id": "uL17S_-wXhUu",
        "outputId": "dc299d14-4723-4b9b-ed2a-23b163a22e28"
      },
      "execution_count": 36,
      "outputs": [
        {
          "output_type": "execute_result",
          "data": {
            "text/plain": [
              "           BHK  Bathroom  Parking  Semi-Furnished  Unfurnished  Ashok Nagar  \\\n",
              "1044  0.222222  0.166667  0.00000               1            0            0   \n",
              "706   0.111111  0.166667  0.00885               1            0            0   \n",
              "915   0.111111  0.333333  0.00885               1            0            0   \n",
              "454   0.333333  0.333333  0.00885               0            1            0   \n",
              "1207  0.222222  0.333333  0.00885               0            1            0   \n",
              "\n",
              "      Budh Vihar  Chandni Chowk  Chattarpur  Chittaranjan Park  ...  \\\n",
              "1044           0              0           0                  0  ...   \n",
              "706            0              0           0                  0  ...   \n",
              "915            0              0           0                  0  ...   \n",
              "454            0              0           0                  0  ...   \n",
              "1207           0              0           0                  0  ...   \n",
              "\n",
              "      Vasant Kunj  Vasant Vihar  Vasundhara Enclave  Vishwas Nagar  Resale  \\\n",
              "1044            0             0                   0              0       1   \n",
              "706             0             0                   0              0       1   \n",
              "915             0             0                   0              0       1   \n",
              "454             1             0                   0              0       1   \n",
              "1207            0             0                   0              0       1   \n",
              "\n",
              "      Builder_Floor  Ready_to_move  Trans_area  Trans_Per_Sqft  Trans_Price  \n",
              "1044              1              1    0.540240        0.313913     0.487926  \n",
              "706               0              1    0.563800        0.428635     0.481524  \n",
              "915               1              1    0.496272        0.465830     0.460846  \n",
              "454               0              1    0.584209        0.476994     0.576028  \n",
              "1207              0              1    0.526942        0.614894     0.532378  \n",
              "\n",
              "[5 rows x 52 columns]"
            ],
            "text/html": [
              "\n",
              "  <div id=\"df-63127154-e9f8-4065-8d50-2301edb83040\">\n",
              "    <div class=\"colab-df-container\">\n",
              "      <div>\n",
              "<style scoped>\n",
              "    .dataframe tbody tr th:only-of-type {\n",
              "        vertical-align: middle;\n",
              "    }\n",
              "\n",
              "    .dataframe tbody tr th {\n",
              "        vertical-align: top;\n",
              "    }\n",
              "\n",
              "    .dataframe thead th {\n",
              "        text-align: right;\n",
              "    }\n",
              "</style>\n",
              "<table border=\"1\" class=\"dataframe\">\n",
              "  <thead>\n",
              "    <tr style=\"text-align: right;\">\n",
              "      <th></th>\n",
              "      <th>BHK</th>\n",
              "      <th>Bathroom</th>\n",
              "      <th>Parking</th>\n",
              "      <th>Semi-Furnished</th>\n",
              "      <th>Unfurnished</th>\n",
              "      <th>Ashok Nagar</th>\n",
              "      <th>Budh Vihar</th>\n",
              "      <th>Chandni Chowk</th>\n",
              "      <th>Chattarpur</th>\n",
              "      <th>Chittaranjan Park</th>\n",
              "      <th>...</th>\n",
              "      <th>Vasant Kunj</th>\n",
              "      <th>Vasant Vihar</th>\n",
              "      <th>Vasundhara Enclave</th>\n",
              "      <th>Vishwas Nagar</th>\n",
              "      <th>Resale</th>\n",
              "      <th>Builder_Floor</th>\n",
              "      <th>Ready_to_move</th>\n",
              "      <th>Trans_area</th>\n",
              "      <th>Trans_Per_Sqft</th>\n",
              "      <th>Trans_Price</th>\n",
              "    </tr>\n",
              "  </thead>\n",
              "  <tbody>\n",
              "    <tr>\n",
              "      <th>1044</th>\n",
              "      <td>0.222222</td>\n",
              "      <td>0.166667</td>\n",
              "      <td>0.00000</td>\n",
              "      <td>1</td>\n",
              "      <td>0</td>\n",
              "      <td>0</td>\n",
              "      <td>0</td>\n",
              "      <td>0</td>\n",
              "      <td>0</td>\n",
              "      <td>0</td>\n",
              "      <td>...</td>\n",
              "      <td>0</td>\n",
              "      <td>0</td>\n",
              "      <td>0</td>\n",
              "      <td>0</td>\n",
              "      <td>1</td>\n",
              "      <td>1</td>\n",
              "      <td>1</td>\n",
              "      <td>0.540240</td>\n",
              "      <td>0.313913</td>\n",
              "      <td>0.487926</td>\n",
              "    </tr>\n",
              "    <tr>\n",
              "      <th>706</th>\n",
              "      <td>0.111111</td>\n",
              "      <td>0.166667</td>\n",
              "      <td>0.00885</td>\n",
              "      <td>1</td>\n",
              "      <td>0</td>\n",
              "      <td>0</td>\n",
              "      <td>0</td>\n",
              "      <td>0</td>\n",
              "      <td>0</td>\n",
              "      <td>0</td>\n",
              "      <td>...</td>\n",
              "      <td>0</td>\n",
              "      <td>0</td>\n",
              "      <td>0</td>\n",
              "      <td>0</td>\n",
              "      <td>1</td>\n",
              "      <td>0</td>\n",
              "      <td>1</td>\n",
              "      <td>0.563800</td>\n",
              "      <td>0.428635</td>\n",
              "      <td>0.481524</td>\n",
              "    </tr>\n",
              "    <tr>\n",
              "      <th>915</th>\n",
              "      <td>0.111111</td>\n",
              "      <td>0.333333</td>\n",
              "      <td>0.00885</td>\n",
              "      <td>1</td>\n",
              "      <td>0</td>\n",
              "      <td>0</td>\n",
              "      <td>0</td>\n",
              "      <td>0</td>\n",
              "      <td>0</td>\n",
              "      <td>0</td>\n",
              "      <td>...</td>\n",
              "      <td>0</td>\n",
              "      <td>0</td>\n",
              "      <td>0</td>\n",
              "      <td>0</td>\n",
              "      <td>1</td>\n",
              "      <td>1</td>\n",
              "      <td>1</td>\n",
              "      <td>0.496272</td>\n",
              "      <td>0.465830</td>\n",
              "      <td>0.460846</td>\n",
              "    </tr>\n",
              "    <tr>\n",
              "      <th>454</th>\n",
              "      <td>0.333333</td>\n",
              "      <td>0.333333</td>\n",
              "      <td>0.00885</td>\n",
              "      <td>0</td>\n",
              "      <td>1</td>\n",
              "      <td>0</td>\n",
              "      <td>0</td>\n",
              "      <td>0</td>\n",
              "      <td>0</td>\n",
              "      <td>0</td>\n",
              "      <td>...</td>\n",
              "      <td>1</td>\n",
              "      <td>0</td>\n",
              "      <td>0</td>\n",
              "      <td>0</td>\n",
              "      <td>1</td>\n",
              "      <td>0</td>\n",
              "      <td>1</td>\n",
              "      <td>0.584209</td>\n",
              "      <td>0.476994</td>\n",
              "      <td>0.576028</td>\n",
              "    </tr>\n",
              "    <tr>\n",
              "      <th>1207</th>\n",
              "      <td>0.222222</td>\n",
              "      <td>0.333333</td>\n",
              "      <td>0.00885</td>\n",
              "      <td>0</td>\n",
              "      <td>1</td>\n",
              "      <td>0</td>\n",
              "      <td>0</td>\n",
              "      <td>0</td>\n",
              "      <td>0</td>\n",
              "      <td>0</td>\n",
              "      <td>...</td>\n",
              "      <td>0</td>\n",
              "      <td>0</td>\n",
              "      <td>0</td>\n",
              "      <td>0</td>\n",
              "      <td>1</td>\n",
              "      <td>0</td>\n",
              "      <td>1</td>\n",
              "      <td>0.526942</td>\n",
              "      <td>0.614894</td>\n",
              "      <td>0.532378</td>\n",
              "    </tr>\n",
              "  </tbody>\n",
              "</table>\n",
              "<p>5 rows × 52 columns</p>\n",
              "</div>\n",
              "      <button class=\"colab-df-convert\" onclick=\"convertToInteractive('df-63127154-e9f8-4065-8d50-2301edb83040')\"\n",
              "              title=\"Convert this dataframe to an interactive table.\"\n",
              "              style=\"display:none;\">\n",
              "        \n",
              "  <svg xmlns=\"http://www.w3.org/2000/svg\" height=\"24px\"viewBox=\"0 0 24 24\"\n",
              "       width=\"24px\">\n",
              "    <path d=\"M0 0h24v24H0V0z\" fill=\"none\"/>\n",
              "    <path d=\"M18.56 5.44l.94 2.06.94-2.06 2.06-.94-2.06-.94-.94-2.06-.94 2.06-2.06.94zm-11 1L8.5 8.5l.94-2.06 2.06-.94-2.06-.94L8.5 2.5l-.94 2.06-2.06.94zm10 10l.94 2.06.94-2.06 2.06-.94-2.06-.94-.94-2.06-.94 2.06-2.06.94z\"/><path d=\"M17.41 7.96l-1.37-1.37c-.4-.4-.92-.59-1.43-.59-.52 0-1.04.2-1.43.59L10.3 9.45l-7.72 7.72c-.78.78-.78 2.05 0 2.83L4 21.41c.39.39.9.59 1.41.59.51 0 1.02-.2 1.41-.59l7.78-7.78 2.81-2.81c.8-.78.8-2.07 0-2.86zM5.41 20L4 18.59l7.72-7.72 1.47 1.35L5.41 20z\"/>\n",
              "  </svg>\n",
              "      </button>\n",
              "      \n",
              "  <style>\n",
              "    .colab-df-container {\n",
              "      display:flex;\n",
              "      flex-wrap:wrap;\n",
              "      gap: 12px;\n",
              "    }\n",
              "\n",
              "    .colab-df-convert {\n",
              "      background-color: #E8F0FE;\n",
              "      border: none;\n",
              "      border-radius: 50%;\n",
              "      cursor: pointer;\n",
              "      display: none;\n",
              "      fill: #1967D2;\n",
              "      height: 32px;\n",
              "      padding: 0 0 0 0;\n",
              "      width: 32px;\n",
              "    }\n",
              "\n",
              "    .colab-df-convert:hover {\n",
              "      background-color: #E2EBFA;\n",
              "      box-shadow: 0px 1px 2px rgba(60, 64, 67, 0.3), 0px 1px 3px 1px rgba(60, 64, 67, 0.15);\n",
              "      fill: #174EA6;\n",
              "    }\n",
              "\n",
              "    [theme=dark] .colab-df-convert {\n",
              "      background-color: #3B4455;\n",
              "      fill: #D2E3FC;\n",
              "    }\n",
              "\n",
              "    [theme=dark] .colab-df-convert:hover {\n",
              "      background-color: #434B5C;\n",
              "      box-shadow: 0px 1px 3px 1px rgba(0, 0, 0, 0.15);\n",
              "      filter: drop-shadow(0px 1px 2px rgba(0, 0, 0, 0.3));\n",
              "      fill: #FFFFFF;\n",
              "    }\n",
              "  </style>\n",
              "\n",
              "      <script>\n",
              "        const buttonEl =\n",
              "          document.querySelector('#df-63127154-e9f8-4065-8d50-2301edb83040 button.colab-df-convert');\n",
              "        buttonEl.style.display =\n",
              "          google.colab.kernel.accessAllowed ? 'block' : 'none';\n",
              "\n",
              "        async function convertToInteractive(key) {\n",
              "          const element = document.querySelector('#df-63127154-e9f8-4065-8d50-2301edb83040');\n",
              "          const dataTable =\n",
              "            await google.colab.kernel.invokeFunction('convertToInteractive',\n",
              "                                                     [key], {});\n",
              "          if (!dataTable) return;\n",
              "\n",
              "          const docLinkHtml = 'Like what you see? Visit the ' +\n",
              "            '<a target=\"_blank\" href=https://colab.research.google.com/notebooks/data_table.ipynb>data table notebook</a>'\n",
              "            + ' to learn more about interactive tables.';\n",
              "          element.innerHTML = '';\n",
              "          dataTable['output_type'] = 'display_data';\n",
              "          await google.colab.output.renderOutput(dataTable, element);\n",
              "          const docLink = document.createElement('div');\n",
              "          docLink.innerHTML = docLinkHtml;\n",
              "          element.appendChild(docLink);\n",
              "        }\n",
              "      </script>\n",
              "    </div>\n",
              "  </div>\n",
              "  "
            ]
          },
          "metadata": {},
          "execution_count": 36
        }
      ]
    },
    {
      "cell_type": "code",
      "source": [
        "y_test = df_test.pop('Trans_Price')\n",
        "x_test = df_test"
      ],
      "metadata": {
        "id": "fYHBI1uyXrTn"
      },
      "execution_count": 37,
      "outputs": []
    },
    {
      "cell_type": "markdown",
      "source": [
        "#### Model 1: Linear Regression with Ridge Regularization"
      ],
      "metadata": {
        "id": "zw1h1hkoX8u9"
      }
    },
    {
      "cell_type": "code",
      "source": [
        "model = Ridge()\n",
        "\n",
        "# Performing Grid Search with hyperparameter tuning\n",
        "cv = RepeatedKFold(n_splits=10, n_repeats=3, random_state=1)\n",
        "grid = dict()\n",
        "grid['alpha'] = np.arange(0, 1, 0.01)\n",
        "search = GridSearchCV(model, grid, scoring='r2', cv=cv, n_jobs=-1)\n",
        "results = search.fit(x_train, y_train)\n",
        "\n",
        "# summarize\n",
        "print('r2_score: %.3f' % results.best_score_)\n",
        "print('Config: %s' % results.best_params_)"
      ],
      "metadata": {
        "colab": {
          "base_uri": "https://localhost:8080/"
        },
        "id": "Xgf4yzBBXtBD",
        "outputId": "766b5098-38fd-4e08-d8e5-c37229c8fbdc"
      },
      "execution_count": 38,
      "outputs": [
        {
          "output_type": "stream",
          "name": "stdout",
          "text": [
            "r2_score: 0.823\n",
            "Config: {'alpha': 0.86}\n"
          ]
        }
      ]
    },
    {
      "cell_type": "code",
      "source": [
        "model = Ridge(alpha = 0.33)\n",
        "model.fit(x_train, y_train)\n",
        "y_train_pred = model.predict(x_train)\n",
        "m1_train_score = r2_score(y_train, y_train_pred)\n",
        "m1_train_score"
      ],
      "metadata": {
        "colab": {
          "base_uri": "https://localhost:8080/"
        },
        "id": "ur6Y6dFHYfiI",
        "outputId": "c667793e-55ef-4ab6-c711-79c31a72a75c"
      },
      "execution_count": 39,
      "outputs": [
        {
          "output_type": "execute_result",
          "data": {
            "text/plain": [
              "0.8565644678969119"
            ]
          },
          "metadata": {},
          "execution_count": 39
        }
      ]
    },
    {
      "cell_type": "code",
      "source": [
        "y_test_pred = model.predict(x_test)\n",
        "m1_test_score = r2_score(y_test, y_test_pred)\n",
        "m1_test_score"
      ],
      "metadata": {
        "colab": {
          "base_uri": "https://localhost:8080/"
        },
        "id": "xx9X41GaYzVT",
        "outputId": "ddcd9a65-9602-41d4-9a8f-e8ccd9eedf16"
      },
      "execution_count": 40,
      "outputs": [
        {
          "output_type": "execute_result",
          "data": {
            "text/plain": [
              "0.8438925068829526"
            ]
          },
          "metadata": {},
          "execution_count": 40
        }
      ]
    },
    {
      "cell_type": "markdown",
      "source": [
        "#### Model 2: Linear Regression with Lasso Regularization"
      ],
      "metadata": {
        "id": "N__PTfxFZATU"
      }
    },
    {
      "cell_type": "code",
      "source": [
        "model = Lasso()\n",
        "\n",
        "# Grid Search with hyperparameter tuning\n",
        "cv = RepeatedKFold(n_splits=10, n_repeats=3, random_state=1)\n",
        "grid = dict()\n",
        "grid['alpha'] = [0.00001, 0.001, 0.01, 0.1, 1, 10, 100, 1000]\n",
        "search = GridSearchCV(model, grid, scoring='r2', cv=cv, n_jobs=-1)\n",
        "results = search.fit(x_train, y_train)\n",
        "\n",
        "# summarize\n",
        "print('r2_score: %.3f' % results.best_score_)\n",
        "print('Config: %s' % results.best_params_)"
      ],
      "metadata": {
        "colab": {
          "base_uri": "https://localhost:8080/"
        },
        "id": "7IRxi59NY6kS",
        "outputId": "b74a1b69-c191-4913-dfc1-7d28c1424966"
      },
      "execution_count": 41,
      "outputs": [
        {
          "output_type": "stream",
          "name": "stdout",
          "text": [
            "r2_score: 0.819\n",
            "Config: {'alpha': 1e-05}\n"
          ]
        }
      ]
    },
    {
      "cell_type": "code",
      "source": [
        "model = Lasso(alpha = 0.00001)\n",
        "model.fit(x_train, y_train)\n",
        "y_train_pred = model.predict(x_train)\n",
        "m2_train_score = r2_score(y_train, y_train_pred)\n",
        "m2_train_score"
      ],
      "metadata": {
        "colab": {
          "base_uri": "https://localhost:8080/"
        },
        "id": "OFuh0XsNZPQL",
        "outputId": "33aeece4-5534-4fcc-a38d-a91e5f738576"
      },
      "execution_count": 42,
      "outputs": [
        {
          "output_type": "execute_result",
          "data": {
            "text/plain": [
              "0.8576382690759273"
            ]
          },
          "metadata": {},
          "execution_count": 42
        }
      ]
    },
    {
      "cell_type": "code",
      "source": [
        "y_test_pred = model.predict(x_test)\n",
        "m2_test_score = r2_score(y_test, y_test_pred)\n",
        "m2_test_score"
      ],
      "metadata": {
        "colab": {
          "base_uri": "https://localhost:8080/"
        },
        "id": "JCghyehGZyeq",
        "outputId": "2b08e81c-9c82-4de3-bc8a-f5708d0c4f20"
      },
      "execution_count": 43,
      "outputs": [
        {
          "output_type": "execute_result",
          "data": {
            "text/plain": [
              "0.844462947591262"
            ]
          },
          "metadata": {},
          "execution_count": 43
        }
      ]
    },
    {
      "cell_type": "markdown",
      "source": [
        "#### Model 3: A Neural Network"
      ],
      "metadata": {
        "id": "JZufo2IUZ-an"
      }
    },
    {
      "cell_type": "code",
      "source": [
        "NN_model = Sequential()\n",
        "\n",
        "# The Input Layer :\n",
        "NN_model.add(Dense(128, kernel_initializer='normal',input_dim = x_train.shape[1], activation='relu'))\n",
        "NN_model.add(BatchNormalization())\n",
        "NN_model.add(Dropout(0.3))\n",
        "\n",
        "# The Hidden Layers :\n",
        "NN_model.add(Dense(256, kernel_initializer='normal',activation='relu'))\n",
        "NN_model.add(BatchNormalization())\n",
        "NN_model.add(Dropout(0.3))\n",
        "NN_model.add(Dense(256, kernel_initializer='normal',activation='relu'))\n",
        "NN_model.add(BatchNormalization())\n",
        "NN_model.add(Dropout(0.3))\n",
        "NN_model.add(Dense(256, kernel_initializer='normal',activation='relu'))\n",
        "NN_model.add(BatchNormalization())\n",
        "NN_model.add(Dropout(0.3))\n",
        "\n",
        "# The Output Layer :\n",
        "NN_model.add(Dense(1, kernel_initializer='normal',activation='linear'))\n",
        "\n",
        "# Compile the network :\n",
        "NN_model.compile(loss='mean_absolute_error', optimizer='adam', metrics=['mean_absolute_error'])\n",
        "NN_model.summary()"
      ],
      "metadata": {
        "colab": {
          "base_uri": "https://localhost:8080/"
        },
        "id": "qcLuAkVmZ6j8",
        "outputId": "ce32c8b5-fe96-4f72-be5f-4ff6dca3452f"
      },
      "execution_count": 44,
      "outputs": [
        {
          "output_type": "stream",
          "name": "stdout",
          "text": [
            "Model: \"sequential\"\n",
            "_________________________________________________________________\n",
            " Layer (type)                Output Shape              Param #   \n",
            "=================================================================\n",
            " dense (Dense)               (None, 128)               6656      \n",
            "                                                                 \n",
            " batch_normalization (BatchN  (None, 128)              512       \n",
            " ormalization)                                                   \n",
            "                                                                 \n",
            " dropout (Dropout)           (None, 128)               0         \n",
            "                                                                 \n",
            " dense_1 (Dense)             (None, 256)               33024     \n",
            "                                                                 \n",
            " batch_normalization_1 (Batc  (None, 256)              1024      \n",
            " hNormalization)                                                 \n",
            "                                                                 \n",
            " dropout_1 (Dropout)         (None, 256)               0         \n",
            "                                                                 \n",
            " dense_2 (Dense)             (None, 256)               65792     \n",
            "                                                                 \n",
            " batch_normalization_2 (Batc  (None, 256)              1024      \n",
            " hNormalization)                                                 \n",
            "                                                                 \n",
            " dropout_2 (Dropout)         (None, 256)               0         \n",
            "                                                                 \n",
            " dense_3 (Dense)             (None, 256)               65792     \n",
            "                                                                 \n",
            " batch_normalization_3 (Batc  (None, 256)              1024      \n",
            " hNormalization)                                                 \n",
            "                                                                 \n",
            " dropout_3 (Dropout)         (None, 256)               0         \n",
            "                                                                 \n",
            " dense_4 (Dense)             (None, 1)                 257       \n",
            "                                                                 \n",
            "=================================================================\n",
            "Total params: 175,105\n",
            "Trainable params: 173,313\n",
            "Non-trainable params: 1,792\n",
            "_________________________________________________________________\n"
          ]
        }
      ]
    },
    {
      "cell_type": "code",
      "source": [
        "checkpoint_name = 'Weights-{epoch:03d}--{val_loss:.5f}.hdf5' \n",
        "checkpoint = ModelCheckpoint(checkpoint_name, monitor='val_loss', verbose = 0, save_best_only = True, mode ='auto')\n",
        "callbacks_list = [checkpoint]"
      ],
      "metadata": {
        "id": "dUzaJk5saPOj"
      },
      "execution_count": 45,
      "outputs": []
    },
    {
      "cell_type": "code",
      "source": [
        "NN_model.fit(x = x_train, y = y_train, validation_data = [x_test, y_test], epochs=250, batch_size=32, validation_split = 0.2, callbacks=callbacks_list)\n"
      ],
      "metadata": {
        "colab": {
          "base_uri": "https://localhost:8080/"
        },
        "id": "znqf-nQ_aT5e",
        "outputId": "60e5c119-4d60-4c70-f958-cbc4b3122baf"
      },
      "execution_count": 46,
      "outputs": [
        {
          "output_type": "stream",
          "name": "stdout",
          "text": [
            "Epoch 1/250\n",
            "25/25 [==============================] - 3s 22ms/step - loss: 0.7134 - mean_absolute_error: 0.7134 - val_loss: 0.2849 - val_mean_absolute_error: 0.2849\n",
            "Epoch 2/250\n",
            "25/25 [==============================] - 0s 14ms/step - loss: 0.5618 - mean_absolute_error: 0.5618 - val_loss: 0.1926 - val_mean_absolute_error: 0.1926\n",
            "Epoch 3/250\n",
            "25/25 [==============================] - 0s 12ms/step - loss: 0.4655 - mean_absolute_error: 0.4655 - val_loss: 0.1732 - val_mean_absolute_error: 0.1732\n",
            "Epoch 4/250\n",
            "25/25 [==============================] - 0s 13ms/step - loss: 0.3913 - mean_absolute_error: 0.3913 - val_loss: 0.1671 - val_mean_absolute_error: 0.1671\n",
            "Epoch 5/250\n",
            "25/25 [==============================] - 0s 15ms/step - loss: 0.3381 - mean_absolute_error: 0.3381 - val_loss: 0.1467 - val_mean_absolute_error: 0.1467\n",
            "Epoch 6/250\n",
            "25/25 [==============================] - 0s 13ms/step - loss: 0.2988 - mean_absolute_error: 0.2988 - val_loss: 0.1631 - val_mean_absolute_error: 0.1631\n",
            "Epoch 7/250\n",
            "25/25 [==============================] - 0s 17ms/step - loss: 0.2757 - mean_absolute_error: 0.2757 - val_loss: 0.1559 - val_mean_absolute_error: 0.1559\n",
            "Epoch 8/250\n",
            "25/25 [==============================] - 1s 20ms/step - loss: 0.2242 - mean_absolute_error: 0.2242 - val_loss: 0.1444 - val_mean_absolute_error: 0.1444\n",
            "Epoch 9/250\n",
            "25/25 [==============================] - 0s 16ms/step - loss: 0.2110 - mean_absolute_error: 0.2110 - val_loss: 0.1455 - val_mean_absolute_error: 0.1455\n",
            "Epoch 10/250\n",
            "25/25 [==============================] - 0s 18ms/step - loss: 0.1898 - mean_absolute_error: 0.1898 - val_loss: 0.1523 - val_mean_absolute_error: 0.1523\n",
            "Epoch 11/250\n",
            "25/25 [==============================] - 0s 19ms/step - loss: 0.1734 - mean_absolute_error: 0.1734 - val_loss: 0.1279 - val_mean_absolute_error: 0.1279\n",
            "Epoch 12/250\n",
            "25/25 [==============================] - 0s 18ms/step - loss: 0.1523 - mean_absolute_error: 0.1523 - val_loss: 0.1313 - val_mean_absolute_error: 0.1313\n",
            "Epoch 13/250\n",
            "25/25 [==============================] - 1s 21ms/step - loss: 0.1445 - mean_absolute_error: 0.1445 - val_loss: 0.1253 - val_mean_absolute_error: 0.1253\n",
            "Epoch 14/250\n",
            "25/25 [==============================] - 0s 11ms/step - loss: 0.1372 - mean_absolute_error: 0.1372 - val_loss: 0.1157 - val_mean_absolute_error: 0.1157\n",
            "Epoch 15/250\n",
            "25/25 [==============================] - 0s 11ms/step - loss: 0.1294 - mean_absolute_error: 0.1294 - val_loss: 0.1107 - val_mean_absolute_error: 0.1107\n",
            "Epoch 16/250\n",
            "25/25 [==============================] - 0s 13ms/step - loss: 0.1219 - mean_absolute_error: 0.1219 - val_loss: 0.1071 - val_mean_absolute_error: 0.1071\n",
            "Epoch 17/250\n",
            "25/25 [==============================] - 0s 13ms/step - loss: 0.1189 - mean_absolute_error: 0.1189 - val_loss: 0.0968 - val_mean_absolute_error: 0.0968\n",
            "Epoch 18/250\n",
            "25/25 [==============================] - 0s 9ms/step - loss: 0.1157 - mean_absolute_error: 0.1157 - val_loss: 0.1021 - val_mean_absolute_error: 0.1021\n",
            "Epoch 19/250\n",
            "25/25 [==============================] - 0s 12ms/step - loss: 0.1136 - mean_absolute_error: 0.1136 - val_loss: 0.0914 - val_mean_absolute_error: 0.0914\n",
            "Epoch 20/250\n",
            "25/25 [==============================] - 0s 12ms/step - loss: 0.1101 - mean_absolute_error: 0.1101 - val_loss: 0.0828 - val_mean_absolute_error: 0.0828\n",
            "Epoch 21/250\n",
            "25/25 [==============================] - 0s 13ms/step - loss: 0.1069 - mean_absolute_error: 0.1069 - val_loss: 0.0815 - val_mean_absolute_error: 0.0815\n",
            "Epoch 22/250\n",
            "25/25 [==============================] - 0s 13ms/step - loss: 0.1051 - mean_absolute_error: 0.1051 - val_loss: 0.0775 - val_mean_absolute_error: 0.0775\n",
            "Epoch 23/250\n",
            "25/25 [==============================] - 0s 12ms/step - loss: 0.1011 - mean_absolute_error: 0.1011 - val_loss: 0.1006 - val_mean_absolute_error: 0.1006\n",
            "Epoch 24/250\n",
            "25/25 [==============================] - 0s 10ms/step - loss: 0.0977 - mean_absolute_error: 0.0977 - val_loss: 0.0719 - val_mean_absolute_error: 0.0719\n",
            "Epoch 25/250\n",
            "25/25 [==============================] - 0s 9ms/step - loss: 0.0926 - mean_absolute_error: 0.0926 - val_loss: 0.0836 - val_mean_absolute_error: 0.0836\n",
            "Epoch 26/250\n",
            "25/25 [==============================] - 0s 10ms/step - loss: 0.0927 - mean_absolute_error: 0.0927 - val_loss: 0.0698 - val_mean_absolute_error: 0.0698\n",
            "Epoch 27/250\n",
            "25/25 [==============================] - 0s 13ms/step - loss: 0.0980 - mean_absolute_error: 0.0980 - val_loss: 0.0671 - val_mean_absolute_error: 0.0671\n",
            "Epoch 28/250\n",
            "25/25 [==============================] - 0s 11ms/step - loss: 0.0912 - mean_absolute_error: 0.0912 - val_loss: 0.0728 - val_mean_absolute_error: 0.0728\n",
            "Epoch 29/250\n",
            "25/25 [==============================] - 0s 13ms/step - loss: 0.0877 - mean_absolute_error: 0.0877 - val_loss: 0.0635 - val_mean_absolute_error: 0.0635\n",
            "Epoch 30/250\n",
            "25/25 [==============================] - 0s 13ms/step - loss: 0.0849 - mean_absolute_error: 0.0849 - val_loss: 0.0610 - val_mean_absolute_error: 0.0610\n",
            "Epoch 31/250\n",
            "25/25 [==============================] - 0s 12ms/step - loss: 0.0842 - mean_absolute_error: 0.0842 - val_loss: 0.0678 - val_mean_absolute_error: 0.0678\n",
            "Epoch 32/250\n",
            "25/25 [==============================] - 0s 13ms/step - loss: 0.0887 - mean_absolute_error: 0.0887 - val_loss: 0.0614 - val_mean_absolute_error: 0.0614\n",
            "Epoch 33/250\n",
            "25/25 [==============================] - 0s 10ms/step - loss: 0.0868 - mean_absolute_error: 0.0868 - val_loss: 0.0647 - val_mean_absolute_error: 0.0647\n",
            "Epoch 34/250\n",
            "25/25 [==============================] - 0s 9ms/step - loss: 0.0813 - mean_absolute_error: 0.0813 - val_loss: 0.0721 - val_mean_absolute_error: 0.0721\n",
            "Epoch 35/250\n",
            "25/25 [==============================] - 0s 10ms/step - loss: 0.0846 - mean_absolute_error: 0.0846 - val_loss: 0.0583 - val_mean_absolute_error: 0.0583\n",
            "Epoch 36/250\n",
            "25/25 [==============================] - 0s 10ms/step - loss: 0.0801 - mean_absolute_error: 0.0801 - val_loss: 0.0739 - val_mean_absolute_error: 0.0739\n",
            "Epoch 37/250\n",
            "25/25 [==============================] - 0s 9ms/step - loss: 0.0842 - mean_absolute_error: 0.0842 - val_loss: 0.0641 - val_mean_absolute_error: 0.0641\n",
            "Epoch 38/250\n",
            "25/25 [==============================] - 0s 9ms/step - loss: 0.0793 - mean_absolute_error: 0.0793 - val_loss: 0.0644 - val_mean_absolute_error: 0.0644\n",
            "Epoch 39/250\n",
            "25/25 [==============================] - 0s 9ms/step - loss: 0.0825 - mean_absolute_error: 0.0825 - val_loss: 0.0640 - val_mean_absolute_error: 0.0640\n",
            "Epoch 40/250\n",
            "25/25 [==============================] - 0s 9ms/step - loss: 0.0809 - mean_absolute_error: 0.0809 - val_loss: 0.0634 - val_mean_absolute_error: 0.0634\n",
            "Epoch 41/250\n",
            "25/25 [==============================] - 0s 10ms/step - loss: 0.0799 - mean_absolute_error: 0.0799 - val_loss: 0.0677 - val_mean_absolute_error: 0.0677\n",
            "Epoch 42/250\n",
            "25/25 [==============================] - 0s 10ms/step - loss: 0.0799 - mean_absolute_error: 0.0799 - val_loss: 0.0638 - val_mean_absolute_error: 0.0638\n",
            "Epoch 43/250\n",
            "25/25 [==============================] - 0s 12ms/step - loss: 0.0798 - mean_absolute_error: 0.0798 - val_loss: 0.0611 - val_mean_absolute_error: 0.0611\n",
            "Epoch 44/250\n",
            "25/25 [==============================] - 0s 12ms/step - loss: 0.0774 - mean_absolute_error: 0.0774 - val_loss: 0.0649 - val_mean_absolute_error: 0.0649\n",
            "Epoch 45/250\n",
            "25/25 [==============================] - 0s 11ms/step - loss: 0.0775 - mean_absolute_error: 0.0775 - val_loss: 0.0625 - val_mean_absolute_error: 0.0625\n",
            "Epoch 46/250\n",
            "25/25 [==============================] - 0s 9ms/step - loss: 0.0780 - mean_absolute_error: 0.0780 - val_loss: 0.0671 - val_mean_absolute_error: 0.0671\n",
            "Epoch 47/250\n",
            "25/25 [==============================] - 0s 11ms/step - loss: 0.0808 - mean_absolute_error: 0.0808 - val_loss: 0.0577 - val_mean_absolute_error: 0.0577\n",
            "Epoch 48/250\n",
            "25/25 [==============================] - 0s 9ms/step - loss: 0.0777 - mean_absolute_error: 0.0777 - val_loss: 0.0629 - val_mean_absolute_error: 0.0629\n",
            "Epoch 49/250\n",
            "25/25 [==============================] - 0s 13ms/step - loss: 0.0789 - mean_absolute_error: 0.0789 - val_loss: 0.0596 - val_mean_absolute_error: 0.0596\n",
            "Epoch 50/250\n",
            "25/25 [==============================] - 0s 15ms/step - loss: 0.0757 - mean_absolute_error: 0.0757 - val_loss: 0.0687 - val_mean_absolute_error: 0.0687\n",
            "Epoch 51/250\n",
            "25/25 [==============================] - 0s 16ms/step - loss: 0.0726 - mean_absolute_error: 0.0726 - val_loss: 0.0604 - val_mean_absolute_error: 0.0604\n",
            "Epoch 52/250\n",
            "25/25 [==============================] - 0s 15ms/step - loss: 0.0824 - mean_absolute_error: 0.0824 - val_loss: 0.0588 - val_mean_absolute_error: 0.0588\n",
            "Epoch 53/250\n",
            "25/25 [==============================] - 0s 19ms/step - loss: 0.0712 - mean_absolute_error: 0.0712 - val_loss: 0.0581 - val_mean_absolute_error: 0.0581\n",
            "Epoch 54/250\n",
            "25/25 [==============================] - 0s 15ms/step - loss: 0.0728 - mean_absolute_error: 0.0728 - val_loss: 0.0718 - val_mean_absolute_error: 0.0718\n",
            "Epoch 55/250\n",
            "25/25 [==============================] - 1s 21ms/step - loss: 0.0760 - mean_absolute_error: 0.0760 - val_loss: 0.0560 - val_mean_absolute_error: 0.0560\n",
            "Epoch 56/250\n",
            "25/25 [==============================] - 0s 19ms/step - loss: 0.0731 - mean_absolute_error: 0.0731 - val_loss: 0.0576 - val_mean_absolute_error: 0.0576\n",
            "Epoch 57/250\n",
            "25/25 [==============================] - 0s 12ms/step - loss: 0.0741 - mean_absolute_error: 0.0741 - val_loss: 0.0570 - val_mean_absolute_error: 0.0570\n",
            "Epoch 58/250\n",
            "25/25 [==============================] - 0s 9ms/step - loss: 0.0743 - mean_absolute_error: 0.0743 - val_loss: 0.0625 - val_mean_absolute_error: 0.0625\n",
            "Epoch 59/250\n",
            "25/25 [==============================] - 0s 9ms/step - loss: 0.0716 - mean_absolute_error: 0.0716 - val_loss: 0.0561 - val_mean_absolute_error: 0.0561\n",
            "Epoch 60/250\n",
            "25/25 [==============================] - 0s 9ms/step - loss: 0.0717 - mean_absolute_error: 0.0717 - val_loss: 0.0583 - val_mean_absolute_error: 0.0583\n",
            "Epoch 61/250\n",
            "25/25 [==============================] - 0s 9ms/step - loss: 0.0751 - mean_absolute_error: 0.0751 - val_loss: 0.0591 - val_mean_absolute_error: 0.0591\n",
            "Epoch 62/250\n",
            "25/25 [==============================] - 0s 9ms/step - loss: 0.0697 - mean_absolute_error: 0.0697 - val_loss: 0.0576 - val_mean_absolute_error: 0.0576\n",
            "Epoch 63/250\n",
            "25/25 [==============================] - 0s 12ms/step - loss: 0.0754 - mean_absolute_error: 0.0754 - val_loss: 0.0515 - val_mean_absolute_error: 0.0515\n",
            "Epoch 64/250\n",
            "25/25 [==============================] - 0s 9ms/step - loss: 0.0750 - mean_absolute_error: 0.0750 - val_loss: 0.0620 - val_mean_absolute_error: 0.0620\n",
            "Epoch 65/250\n",
            "25/25 [==============================] - 0s 9ms/step - loss: 0.0769 - mean_absolute_error: 0.0769 - val_loss: 0.0703 - val_mean_absolute_error: 0.0703\n",
            "Epoch 66/250\n",
            "25/25 [==============================] - 0s 9ms/step - loss: 0.0729 - mean_absolute_error: 0.0729 - val_loss: 0.0551 - val_mean_absolute_error: 0.0551\n",
            "Epoch 67/250\n",
            "25/25 [==============================] - 0s 10ms/step - loss: 0.0793 - mean_absolute_error: 0.0793 - val_loss: 0.0576 - val_mean_absolute_error: 0.0576\n",
            "Epoch 68/250\n",
            "25/25 [==============================] - 0s 10ms/step - loss: 0.0721 - mean_absolute_error: 0.0721 - val_loss: 0.0552 - val_mean_absolute_error: 0.0552\n",
            "Epoch 69/250\n",
            "25/25 [==============================] - 0s 11ms/step - loss: 0.0777 - mean_absolute_error: 0.0777 - val_loss: 0.0579 - val_mean_absolute_error: 0.0579\n",
            "Epoch 70/250\n",
            "25/25 [==============================] - 0s 10ms/step - loss: 0.0705 - mean_absolute_error: 0.0705 - val_loss: 0.0567 - val_mean_absolute_error: 0.0567\n",
            "Epoch 71/250\n",
            "25/25 [==============================] - 0s 11ms/step - loss: 0.0692 - mean_absolute_error: 0.0692 - val_loss: 0.0587 - val_mean_absolute_error: 0.0587\n",
            "Epoch 72/250\n",
            "25/25 [==============================] - 0s 13ms/step - loss: 0.0737 - mean_absolute_error: 0.0737 - val_loss: 0.0562 - val_mean_absolute_error: 0.0562\n",
            "Epoch 73/250\n",
            "25/25 [==============================] - 0s 13ms/step - loss: 0.0734 - mean_absolute_error: 0.0734 - val_loss: 0.0724 - val_mean_absolute_error: 0.0724\n",
            "Epoch 74/250\n",
            "25/25 [==============================] - 0s 13ms/step - loss: 0.0799 - mean_absolute_error: 0.0799 - val_loss: 0.0653 - val_mean_absolute_error: 0.0653\n",
            "Epoch 75/250\n",
            "25/25 [==============================] - 0s 11ms/step - loss: 0.0704 - mean_absolute_error: 0.0704 - val_loss: 0.0552 - val_mean_absolute_error: 0.0552\n",
            "Epoch 76/250\n",
            "25/25 [==============================] - 0s 9ms/step - loss: 0.0745 - mean_absolute_error: 0.0745 - val_loss: 0.0554 - val_mean_absolute_error: 0.0554\n",
            "Epoch 77/250\n",
            "25/25 [==============================] - 0s 11ms/step - loss: 0.0728 - mean_absolute_error: 0.0728 - val_loss: 0.0557 - val_mean_absolute_error: 0.0557\n",
            "Epoch 78/250\n",
            "25/25 [==============================] - 0s 9ms/step - loss: 0.0714 - mean_absolute_error: 0.0714 - val_loss: 0.0676 - val_mean_absolute_error: 0.0676\n",
            "Epoch 79/250\n",
            "25/25 [==============================] - 0s 9ms/step - loss: 0.0749 - mean_absolute_error: 0.0749 - val_loss: 0.0546 - val_mean_absolute_error: 0.0546\n",
            "Epoch 80/250\n",
            "25/25 [==============================] - 0s 10ms/step - loss: 0.0719 - mean_absolute_error: 0.0719 - val_loss: 0.0582 - val_mean_absolute_error: 0.0582\n",
            "Epoch 81/250\n",
            "25/25 [==============================] - 0s 9ms/step - loss: 0.0715 - mean_absolute_error: 0.0715 - val_loss: 0.0573 - val_mean_absolute_error: 0.0573\n",
            "Epoch 82/250\n",
            "25/25 [==============================] - 0s 9ms/step - loss: 0.0715 - mean_absolute_error: 0.0715 - val_loss: 0.0610 - val_mean_absolute_error: 0.0610\n",
            "Epoch 83/250\n",
            "25/25 [==============================] - 0s 10ms/step - loss: 0.0745 - mean_absolute_error: 0.0745 - val_loss: 0.0589 - val_mean_absolute_error: 0.0589\n",
            "Epoch 84/250\n",
            "25/25 [==============================] - 0s 9ms/step - loss: 0.0700 - mean_absolute_error: 0.0700 - val_loss: 0.0609 - val_mean_absolute_error: 0.0609\n",
            "Epoch 85/250\n",
            "25/25 [==============================] - 0s 9ms/step - loss: 0.0696 - mean_absolute_error: 0.0696 - val_loss: 0.0542 - val_mean_absolute_error: 0.0542\n",
            "Epoch 86/250\n",
            "25/25 [==============================] - 0s 11ms/step - loss: 0.0663 - mean_absolute_error: 0.0663 - val_loss: 0.0583 - val_mean_absolute_error: 0.0583\n",
            "Epoch 87/250\n",
            "25/25 [==============================] - 0s 10ms/step - loss: 0.0660 - mean_absolute_error: 0.0660 - val_loss: 0.0547 - val_mean_absolute_error: 0.0547\n",
            "Epoch 88/250\n",
            "25/25 [==============================] - 0s 11ms/step - loss: 0.0697 - mean_absolute_error: 0.0697 - val_loss: 0.0535 - val_mean_absolute_error: 0.0535\n",
            "Epoch 89/250\n",
            "25/25 [==============================] - 0s 9ms/step - loss: 0.0657 - mean_absolute_error: 0.0657 - val_loss: 0.0591 - val_mean_absolute_error: 0.0591\n",
            "Epoch 90/250\n",
            "25/25 [==============================] - 0s 10ms/step - loss: 0.0711 - mean_absolute_error: 0.0711 - val_loss: 0.0644 - val_mean_absolute_error: 0.0644\n",
            "Epoch 91/250\n",
            "25/25 [==============================] - 0s 11ms/step - loss: 0.0744 - mean_absolute_error: 0.0744 - val_loss: 0.0676 - val_mean_absolute_error: 0.0676\n",
            "Epoch 92/250\n",
            "25/25 [==============================] - 0s 12ms/step - loss: 0.0690 - mean_absolute_error: 0.0690 - val_loss: 0.0609 - val_mean_absolute_error: 0.0609\n",
            "Epoch 93/250\n",
            "25/25 [==============================] - 0s 12ms/step - loss: 0.0719 - mean_absolute_error: 0.0719 - val_loss: 0.0568 - val_mean_absolute_error: 0.0568\n",
            "Epoch 94/250\n",
            "25/25 [==============================] - 0s 11ms/step - loss: 0.0672 - mean_absolute_error: 0.0672 - val_loss: 0.0608 - val_mean_absolute_error: 0.0608\n",
            "Epoch 95/250\n",
            "25/25 [==============================] - 0s 16ms/step - loss: 0.0692 - mean_absolute_error: 0.0692 - val_loss: 0.0599 - val_mean_absolute_error: 0.0599\n",
            "Epoch 96/250\n",
            "25/25 [==============================] - 0s 17ms/step - loss: 0.0663 - mean_absolute_error: 0.0663 - val_loss: 0.0550 - val_mean_absolute_error: 0.0550\n",
            "Epoch 97/250\n",
            "25/25 [==============================] - 0s 15ms/step - loss: 0.0680 - mean_absolute_error: 0.0680 - val_loss: 0.0548 - val_mean_absolute_error: 0.0548\n",
            "Epoch 98/250\n",
            "25/25 [==============================] - 0s 16ms/step - loss: 0.0716 - mean_absolute_error: 0.0716 - val_loss: 0.0519 - val_mean_absolute_error: 0.0519\n",
            "Epoch 99/250\n",
            "25/25 [==============================] - 0s 18ms/step - loss: 0.0675 - mean_absolute_error: 0.0675 - val_loss: 0.0543 - val_mean_absolute_error: 0.0543\n",
            "Epoch 100/250\n",
            "25/25 [==============================] - 0s 13ms/step - loss: 0.0644 - mean_absolute_error: 0.0644 - val_loss: 0.0540 - val_mean_absolute_error: 0.0540\n",
            "Epoch 101/250\n",
            "25/25 [==============================] - 0s 13ms/step - loss: 0.0654 - mean_absolute_error: 0.0654 - val_loss: 0.0653 - val_mean_absolute_error: 0.0653\n",
            "Epoch 102/250\n",
            "25/25 [==============================] - 0s 14ms/step - loss: 0.0703 - mean_absolute_error: 0.0703 - val_loss: 0.0586 - val_mean_absolute_error: 0.0586\n",
            "Epoch 103/250\n",
            "25/25 [==============================] - 0s 16ms/step - loss: 0.0665 - mean_absolute_error: 0.0665 - val_loss: 0.0533 - val_mean_absolute_error: 0.0533\n",
            "Epoch 104/250\n",
            "25/25 [==============================] - 0s 10ms/step - loss: 0.0668 - mean_absolute_error: 0.0668 - val_loss: 0.0582 - val_mean_absolute_error: 0.0582\n",
            "Epoch 105/250\n",
            "25/25 [==============================] - 0s 10ms/step - loss: 0.0628 - mean_absolute_error: 0.0628 - val_loss: 0.0592 - val_mean_absolute_error: 0.0592\n",
            "Epoch 106/250\n",
            "25/25 [==============================] - 0s 9ms/step - loss: 0.0693 - mean_absolute_error: 0.0693 - val_loss: 0.0640 - val_mean_absolute_error: 0.0640\n",
            "Epoch 107/250\n",
            "25/25 [==============================] - 0s 10ms/step - loss: 0.0713 - mean_absolute_error: 0.0713 - val_loss: 0.0682 - val_mean_absolute_error: 0.0682\n",
            "Epoch 108/250\n",
            "25/25 [==============================] - 0s 11ms/step - loss: 0.0685 - mean_absolute_error: 0.0685 - val_loss: 0.0534 - val_mean_absolute_error: 0.0534\n",
            "Epoch 109/250\n",
            "25/25 [==============================] - 0s 10ms/step - loss: 0.0703 - mean_absolute_error: 0.0703 - val_loss: 0.0646 - val_mean_absolute_error: 0.0646\n",
            "Epoch 110/250\n",
            "25/25 [==============================] - 0s 13ms/step - loss: 0.0632 - mean_absolute_error: 0.0632 - val_loss: 0.0505 - val_mean_absolute_error: 0.0505\n",
            "Epoch 111/250\n",
            "25/25 [==============================] - 0s 11ms/step - loss: 0.0664 - mean_absolute_error: 0.0664 - val_loss: 0.0582 - val_mean_absolute_error: 0.0582\n",
            "Epoch 112/250\n",
            "25/25 [==============================] - 0s 13ms/step - loss: 0.0684 - mean_absolute_error: 0.0684 - val_loss: 0.0557 - val_mean_absolute_error: 0.0557\n",
            "Epoch 113/250\n",
            "25/25 [==============================] - 0s 11ms/step - loss: 0.0707 - mean_absolute_error: 0.0707 - val_loss: 0.0601 - val_mean_absolute_error: 0.0601\n",
            "Epoch 114/250\n",
            "25/25 [==============================] - 0s 10ms/step - loss: 0.0655 - mean_absolute_error: 0.0655 - val_loss: 0.0596 - val_mean_absolute_error: 0.0596\n",
            "Epoch 115/250\n",
            "25/25 [==============================] - 0s 10ms/step - loss: 0.0688 - mean_absolute_error: 0.0688 - val_loss: 0.0651 - val_mean_absolute_error: 0.0651\n",
            "Epoch 116/250\n",
            "25/25 [==============================] - 0s 12ms/step - loss: 0.0669 - mean_absolute_error: 0.0669 - val_loss: 0.0545 - val_mean_absolute_error: 0.0545\n",
            "Epoch 117/250\n",
            "25/25 [==============================] - 0s 12ms/step - loss: 0.0687 - mean_absolute_error: 0.0687 - val_loss: 0.0535 - val_mean_absolute_error: 0.0535\n",
            "Epoch 118/250\n",
            "25/25 [==============================] - 0s 13ms/step - loss: 0.0620 - mean_absolute_error: 0.0620 - val_loss: 0.0522 - val_mean_absolute_error: 0.0522\n",
            "Epoch 119/250\n",
            "25/25 [==============================] - 0s 11ms/step - loss: 0.0724 - mean_absolute_error: 0.0724 - val_loss: 0.0617 - val_mean_absolute_error: 0.0617\n",
            "Epoch 120/250\n",
            "25/25 [==============================] - 0s 10ms/step - loss: 0.0695 - mean_absolute_error: 0.0695 - val_loss: 0.0546 - val_mean_absolute_error: 0.0546\n",
            "Epoch 121/250\n",
            "25/25 [==============================] - 0s 10ms/step - loss: 0.0671 - mean_absolute_error: 0.0671 - val_loss: 0.0582 - val_mean_absolute_error: 0.0582\n",
            "Epoch 122/250\n",
            "25/25 [==============================] - 0s 11ms/step - loss: 0.0676 - mean_absolute_error: 0.0676 - val_loss: 0.0744 - val_mean_absolute_error: 0.0744\n",
            "Epoch 123/250\n",
            "25/25 [==============================] - 0s 11ms/step - loss: 0.0703 - mean_absolute_error: 0.0703 - val_loss: 0.0534 - val_mean_absolute_error: 0.0534\n",
            "Epoch 124/250\n",
            "25/25 [==============================] - 0s 10ms/step - loss: 0.0628 - mean_absolute_error: 0.0628 - val_loss: 0.0566 - val_mean_absolute_error: 0.0566\n",
            "Epoch 125/250\n",
            "25/25 [==============================] - 0s 12ms/step - loss: 0.0662 - mean_absolute_error: 0.0662 - val_loss: 0.0539 - val_mean_absolute_error: 0.0539\n",
            "Epoch 126/250\n",
            "25/25 [==============================] - 0s 11ms/step - loss: 0.0627 - mean_absolute_error: 0.0627 - val_loss: 0.0552 - val_mean_absolute_error: 0.0552\n",
            "Epoch 127/250\n",
            "25/25 [==============================] - 0s 13ms/step - loss: 0.0618 - mean_absolute_error: 0.0618 - val_loss: 0.0678 - val_mean_absolute_error: 0.0678\n",
            "Epoch 128/250\n",
            "25/25 [==============================] - 0s 11ms/step - loss: 0.0642 - mean_absolute_error: 0.0642 - val_loss: 0.0627 - val_mean_absolute_error: 0.0627\n",
            "Epoch 129/250\n",
            "25/25 [==============================] - 0s 11ms/step - loss: 0.0673 - mean_absolute_error: 0.0673 - val_loss: 0.0715 - val_mean_absolute_error: 0.0715\n",
            "Epoch 130/250\n",
            "25/25 [==============================] - 0s 13ms/step - loss: 0.0651 - mean_absolute_error: 0.0651 - val_loss: 0.0551 - val_mean_absolute_error: 0.0551\n",
            "Epoch 131/250\n",
            "25/25 [==============================] - 0s 9ms/step - loss: 0.0692 - mean_absolute_error: 0.0692 - val_loss: 0.0613 - val_mean_absolute_error: 0.0613\n",
            "Epoch 132/250\n",
            "25/25 [==============================] - 0s 11ms/step - loss: 0.0707 - mean_absolute_error: 0.0707 - val_loss: 0.0489 - val_mean_absolute_error: 0.0489\n",
            "Epoch 133/250\n",
            "25/25 [==============================] - 0s 9ms/step - loss: 0.0647 - mean_absolute_error: 0.0647 - val_loss: 0.0581 - val_mean_absolute_error: 0.0581\n",
            "Epoch 134/250\n",
            "25/25 [==============================] - 0s 10ms/step - loss: 0.0591 - mean_absolute_error: 0.0591 - val_loss: 0.0565 - val_mean_absolute_error: 0.0565\n",
            "Epoch 135/250\n",
            "25/25 [==============================] - 0s 12ms/step - loss: 0.0634 - mean_absolute_error: 0.0634 - val_loss: 0.0576 - val_mean_absolute_error: 0.0576\n",
            "Epoch 136/250\n",
            "25/25 [==============================] - 0s 12ms/step - loss: 0.0657 - mean_absolute_error: 0.0657 - val_loss: 0.0510 - val_mean_absolute_error: 0.0510\n",
            "Epoch 137/250\n",
            "25/25 [==============================] - 0s 13ms/step - loss: 0.0615 - mean_absolute_error: 0.0615 - val_loss: 0.0541 - val_mean_absolute_error: 0.0541\n",
            "Epoch 138/250\n",
            "25/25 [==============================] - 0s 12ms/step - loss: 0.0643 - mean_absolute_error: 0.0643 - val_loss: 0.0666 - val_mean_absolute_error: 0.0666\n",
            "Epoch 139/250\n",
            "25/25 [==============================] - 0s 17ms/step - loss: 0.0629 - mean_absolute_error: 0.0629 - val_loss: 0.0596 - val_mean_absolute_error: 0.0596\n",
            "Epoch 140/250\n",
            "25/25 [==============================] - 0s 18ms/step - loss: 0.0651 - mean_absolute_error: 0.0651 - val_loss: 0.0562 - val_mean_absolute_error: 0.0562\n",
            "Epoch 141/250\n",
            "25/25 [==============================] - 0s 15ms/step - loss: 0.0674 - mean_absolute_error: 0.0674 - val_loss: 0.0588 - val_mean_absolute_error: 0.0588\n",
            "Epoch 142/250\n",
            "25/25 [==============================] - 0s 16ms/step - loss: 0.0633 - mean_absolute_error: 0.0633 - val_loss: 0.0832 - val_mean_absolute_error: 0.0832\n",
            "Epoch 143/250\n",
            "25/25 [==============================] - 0s 15ms/step - loss: 0.0658 - mean_absolute_error: 0.0658 - val_loss: 0.0543 - val_mean_absolute_error: 0.0543\n",
            "Epoch 144/250\n",
            "25/25 [==============================] - 0s 14ms/step - loss: 0.0660 - mean_absolute_error: 0.0660 - val_loss: 0.0539 - val_mean_absolute_error: 0.0539\n",
            "Epoch 145/250\n",
            "25/25 [==============================] - 0s 13ms/step - loss: 0.0570 - mean_absolute_error: 0.0570 - val_loss: 0.0582 - val_mean_absolute_error: 0.0582\n",
            "Epoch 146/250\n",
            "25/25 [==============================] - 0s 17ms/step - loss: 0.0654 - mean_absolute_error: 0.0654 - val_loss: 0.0577 - val_mean_absolute_error: 0.0577\n",
            "Epoch 147/250\n",
            "25/25 [==============================] - 0s 18ms/step - loss: 0.0644 - mean_absolute_error: 0.0644 - val_loss: 0.0635 - val_mean_absolute_error: 0.0635\n",
            "Epoch 148/250\n",
            "25/25 [==============================] - 0s 13ms/step - loss: 0.0666 - mean_absolute_error: 0.0666 - val_loss: 0.0554 - val_mean_absolute_error: 0.0554\n",
            "Epoch 149/250\n",
            "25/25 [==============================] - 0s 11ms/step - loss: 0.0664 - mean_absolute_error: 0.0664 - val_loss: 0.0645 - val_mean_absolute_error: 0.0645\n",
            "Epoch 150/250\n",
            "25/25 [==============================] - 0s 11ms/step - loss: 0.0643 - mean_absolute_error: 0.0643 - val_loss: 0.0528 - val_mean_absolute_error: 0.0528\n",
            "Epoch 151/250\n",
            "25/25 [==============================] - 0s 11ms/step - loss: 0.0658 - mean_absolute_error: 0.0658 - val_loss: 0.0591 - val_mean_absolute_error: 0.0591\n",
            "Epoch 152/250\n",
            "25/25 [==============================] - 0s 13ms/step - loss: 0.0612 - mean_absolute_error: 0.0612 - val_loss: 0.0574 - val_mean_absolute_error: 0.0574\n",
            "Epoch 153/250\n",
            "25/25 [==============================] - 0s 13ms/step - loss: 0.0661 - mean_absolute_error: 0.0661 - val_loss: 0.0565 - val_mean_absolute_error: 0.0565\n",
            "Epoch 154/250\n",
            "25/25 [==============================] - 0s 12ms/step - loss: 0.0658 - mean_absolute_error: 0.0658 - val_loss: 0.0551 - val_mean_absolute_error: 0.0551\n",
            "Epoch 155/250\n",
            "25/25 [==============================] - 0s 13ms/step - loss: 0.0620 - mean_absolute_error: 0.0620 - val_loss: 0.0547 - val_mean_absolute_error: 0.0547\n",
            "Epoch 156/250\n",
            "25/25 [==============================] - 0s 13ms/step - loss: 0.0613 - mean_absolute_error: 0.0613 - val_loss: 0.0530 - val_mean_absolute_error: 0.0530\n",
            "Epoch 157/250\n",
            "25/25 [==============================] - 0s 12ms/step - loss: 0.0652 - mean_absolute_error: 0.0652 - val_loss: 0.0579 - val_mean_absolute_error: 0.0579\n",
            "Epoch 158/250\n",
            "25/25 [==============================] - 0s 12ms/step - loss: 0.0627 - mean_absolute_error: 0.0627 - val_loss: 0.0495 - val_mean_absolute_error: 0.0495\n",
            "Epoch 159/250\n",
            "25/25 [==============================] - 0s 11ms/step - loss: 0.0641 - mean_absolute_error: 0.0641 - val_loss: 0.0632 - val_mean_absolute_error: 0.0632\n",
            "Epoch 160/250\n",
            "25/25 [==============================] - 0s 11ms/step - loss: 0.0641 - mean_absolute_error: 0.0641 - val_loss: 0.0763 - val_mean_absolute_error: 0.0763\n",
            "Epoch 161/250\n",
            "25/25 [==============================] - 0s 12ms/step - loss: 0.0694 - mean_absolute_error: 0.0694 - val_loss: 0.0620 - val_mean_absolute_error: 0.0620\n",
            "Epoch 162/250\n",
            "25/25 [==============================] - 0s 13ms/step - loss: 0.0683 - mean_absolute_error: 0.0683 - val_loss: 0.0743 - val_mean_absolute_error: 0.0743\n",
            "Epoch 163/250\n",
            "25/25 [==============================] - 0s 13ms/step - loss: 0.0657 - mean_absolute_error: 0.0657 - val_loss: 0.0510 - val_mean_absolute_error: 0.0510\n",
            "Epoch 164/250\n",
            "25/25 [==============================] - 0s 13ms/step - loss: 0.0569 - mean_absolute_error: 0.0569 - val_loss: 0.0525 - val_mean_absolute_error: 0.0525\n",
            "Epoch 165/250\n",
            "25/25 [==============================] - 0s 12ms/step - loss: 0.0567 - mean_absolute_error: 0.0567 - val_loss: 0.0593 - val_mean_absolute_error: 0.0593\n",
            "Epoch 166/250\n",
            "25/25 [==============================] - 0s 9ms/step - loss: 0.0657 - mean_absolute_error: 0.0657 - val_loss: 0.0567 - val_mean_absolute_error: 0.0567\n",
            "Epoch 167/250\n",
            "25/25 [==============================] - 0s 10ms/step - loss: 0.0584 - mean_absolute_error: 0.0584 - val_loss: 0.0561 - val_mean_absolute_error: 0.0561\n",
            "Epoch 168/250\n",
            "25/25 [==============================] - 0s 9ms/step - loss: 0.0624 - mean_absolute_error: 0.0624 - val_loss: 0.0571 - val_mean_absolute_error: 0.0571\n",
            "Epoch 169/250\n",
            "25/25 [==============================] - 0s 10ms/step - loss: 0.0620 - mean_absolute_error: 0.0620 - val_loss: 0.0532 - val_mean_absolute_error: 0.0532\n",
            "Epoch 170/250\n",
            "25/25 [==============================] - 0s 9ms/step - loss: 0.0586 - mean_absolute_error: 0.0586 - val_loss: 0.0624 - val_mean_absolute_error: 0.0624\n",
            "Epoch 171/250\n",
            "25/25 [==============================] - 0s 12ms/step - loss: 0.0650 - mean_absolute_error: 0.0650 - val_loss: 0.0551 - val_mean_absolute_error: 0.0551\n",
            "Epoch 172/250\n",
            "25/25 [==============================] - 0s 10ms/step - loss: 0.0564 - mean_absolute_error: 0.0564 - val_loss: 0.0527 - val_mean_absolute_error: 0.0527\n",
            "Epoch 173/250\n",
            "25/25 [==============================] - 0s 11ms/step - loss: 0.0575 - mean_absolute_error: 0.0575 - val_loss: 0.0542 - val_mean_absolute_error: 0.0542\n",
            "Epoch 174/250\n",
            "25/25 [==============================] - 0s 9ms/step - loss: 0.0590 - mean_absolute_error: 0.0590 - val_loss: 0.0677 - val_mean_absolute_error: 0.0677\n",
            "Epoch 175/250\n",
            "25/25 [==============================] - 0s 9ms/step - loss: 0.0618 - mean_absolute_error: 0.0618 - val_loss: 0.0515 - val_mean_absolute_error: 0.0515\n",
            "Epoch 176/250\n",
            "25/25 [==============================] - 0s 11ms/step - loss: 0.0639 - mean_absolute_error: 0.0639 - val_loss: 0.0530 - val_mean_absolute_error: 0.0530\n",
            "Epoch 177/250\n",
            "25/25 [==============================] - 0s 10ms/step - loss: 0.0576 - mean_absolute_error: 0.0576 - val_loss: 0.0545 - val_mean_absolute_error: 0.0545\n",
            "Epoch 178/250\n",
            "25/25 [==============================] - 0s 11ms/step - loss: 0.0615 - mean_absolute_error: 0.0615 - val_loss: 0.0505 - val_mean_absolute_error: 0.0505\n",
            "Epoch 179/250\n",
            "25/25 [==============================] - 0s 9ms/step - loss: 0.0636 - mean_absolute_error: 0.0636 - val_loss: 0.0724 - val_mean_absolute_error: 0.0724\n",
            "Epoch 180/250\n",
            "25/25 [==============================] - 0s 10ms/step - loss: 0.0691 - mean_absolute_error: 0.0691 - val_loss: 0.0563 - val_mean_absolute_error: 0.0563\n",
            "Epoch 181/250\n",
            "25/25 [==============================] - 0s 12ms/step - loss: 0.0650 - mean_absolute_error: 0.0650 - val_loss: 0.0538 - val_mean_absolute_error: 0.0538\n",
            "Epoch 182/250\n",
            "25/25 [==============================] - 0s 14ms/step - loss: 0.0612 - mean_absolute_error: 0.0612 - val_loss: 0.0613 - val_mean_absolute_error: 0.0613\n",
            "Epoch 183/250\n",
            "25/25 [==============================] - 0s 18ms/step - loss: 0.0574 - mean_absolute_error: 0.0574 - val_loss: 0.0599 - val_mean_absolute_error: 0.0599\n",
            "Epoch 184/250\n",
            "25/25 [==============================] - 0s 17ms/step - loss: 0.0684 - mean_absolute_error: 0.0684 - val_loss: 0.0574 - val_mean_absolute_error: 0.0574\n",
            "Epoch 185/250\n",
            "25/25 [==============================] - 0s 18ms/step - loss: 0.0646 - mean_absolute_error: 0.0646 - val_loss: 0.0571 - val_mean_absolute_error: 0.0571\n",
            "Epoch 186/250\n",
            "25/25 [==============================] - 0s 15ms/step - loss: 0.0610 - mean_absolute_error: 0.0610 - val_loss: 0.0514 - val_mean_absolute_error: 0.0514\n",
            "Epoch 187/250\n",
            "25/25 [==============================] - 0s 13ms/step - loss: 0.0539 - mean_absolute_error: 0.0539 - val_loss: 0.0519 - val_mean_absolute_error: 0.0519\n",
            "Epoch 188/250\n",
            "25/25 [==============================] - 0s 13ms/step - loss: 0.0568 - mean_absolute_error: 0.0568 - val_loss: 0.0538 - val_mean_absolute_error: 0.0538\n",
            "Epoch 189/250\n",
            "25/25 [==============================] - 0s 13ms/step - loss: 0.0629 - mean_absolute_error: 0.0629 - val_loss: 0.0529 - val_mean_absolute_error: 0.0529\n",
            "Epoch 190/250\n",
            "25/25 [==============================] - 0s 15ms/step - loss: 0.0648 - mean_absolute_error: 0.0648 - val_loss: 0.0810 - val_mean_absolute_error: 0.0810\n",
            "Epoch 191/250\n",
            "25/25 [==============================] - 0s 15ms/step - loss: 0.0681 - mean_absolute_error: 0.0681 - val_loss: 0.0749 - val_mean_absolute_error: 0.0749\n",
            "Epoch 192/250\n",
            "25/25 [==============================] - 0s 10ms/step - loss: 0.0555 - mean_absolute_error: 0.0555 - val_loss: 0.0542 - val_mean_absolute_error: 0.0542\n",
            "Epoch 193/250\n",
            "25/25 [==============================] - 0s 10ms/step - loss: 0.0600 - mean_absolute_error: 0.0600 - val_loss: 0.0689 - val_mean_absolute_error: 0.0689\n",
            "Epoch 194/250\n",
            "25/25 [==============================] - 0s 9ms/step - loss: 0.0610 - mean_absolute_error: 0.0610 - val_loss: 0.0559 - val_mean_absolute_error: 0.0559\n",
            "Epoch 195/250\n",
            "25/25 [==============================] - 0s 9ms/step - loss: 0.0575 - mean_absolute_error: 0.0575 - val_loss: 0.0580 - val_mean_absolute_error: 0.0580\n",
            "Epoch 196/250\n",
            "25/25 [==============================] - 0s 12ms/step - loss: 0.0584 - mean_absolute_error: 0.0584 - val_loss: 0.0547 - val_mean_absolute_error: 0.0547\n",
            "Epoch 197/250\n",
            "25/25 [==============================] - 0s 9ms/step - loss: 0.0571 - mean_absolute_error: 0.0571 - val_loss: 0.0515 - val_mean_absolute_error: 0.0515\n",
            "Epoch 198/250\n",
            "25/25 [==============================] - 0s 9ms/step - loss: 0.0605 - mean_absolute_error: 0.0605 - val_loss: 0.0556 - val_mean_absolute_error: 0.0556\n",
            "Epoch 199/250\n",
            "25/25 [==============================] - 0s 9ms/step - loss: 0.0567 - mean_absolute_error: 0.0567 - val_loss: 0.0564 - val_mean_absolute_error: 0.0564\n",
            "Epoch 200/250\n",
            "25/25 [==============================] - 0s 10ms/step - loss: 0.0578 - mean_absolute_error: 0.0578 - val_loss: 0.0580 - val_mean_absolute_error: 0.0580\n",
            "Epoch 201/250\n",
            "25/25 [==============================] - 0s 10ms/step - loss: 0.0568 - mean_absolute_error: 0.0568 - val_loss: 0.0529 - val_mean_absolute_error: 0.0529\n",
            "Epoch 202/250\n",
            "25/25 [==============================] - 0s 9ms/step - loss: 0.0631 - mean_absolute_error: 0.0631 - val_loss: 0.0614 - val_mean_absolute_error: 0.0614\n",
            "Epoch 203/250\n",
            "25/25 [==============================] - 0s 9ms/step - loss: 0.0625 - mean_absolute_error: 0.0625 - val_loss: 0.0653 - val_mean_absolute_error: 0.0653\n",
            "Epoch 204/250\n",
            "25/25 [==============================] - 0s 11ms/step - loss: 0.0585 - mean_absolute_error: 0.0585 - val_loss: 0.0594 - val_mean_absolute_error: 0.0594\n",
            "Epoch 205/250\n",
            "25/25 [==============================] - 0s 13ms/step - loss: 0.0626 - mean_absolute_error: 0.0626 - val_loss: 0.0598 - val_mean_absolute_error: 0.0598\n",
            "Epoch 206/250\n",
            "25/25 [==============================] - 0s 12ms/step - loss: 0.0576 - mean_absolute_error: 0.0576 - val_loss: 0.0656 - val_mean_absolute_error: 0.0656\n",
            "Epoch 207/250\n",
            "25/25 [==============================] - 0s 12ms/step - loss: 0.0573 - mean_absolute_error: 0.0573 - val_loss: 0.0555 - val_mean_absolute_error: 0.0555\n",
            "Epoch 208/250\n",
            "25/25 [==============================] - 0s 9ms/step - loss: 0.0593 - mean_absolute_error: 0.0593 - val_loss: 0.0567 - val_mean_absolute_error: 0.0567\n",
            "Epoch 209/250\n",
            "25/25 [==============================] - 0s 9ms/step - loss: 0.0587 - mean_absolute_error: 0.0587 - val_loss: 0.0538 - val_mean_absolute_error: 0.0538\n",
            "Epoch 210/250\n",
            "25/25 [==============================] - 0s 9ms/step - loss: 0.0589 - mean_absolute_error: 0.0589 - val_loss: 0.0617 - val_mean_absolute_error: 0.0617\n",
            "Epoch 211/250\n",
            "25/25 [==============================] - 0s 11ms/step - loss: 0.0594 - mean_absolute_error: 0.0594 - val_loss: 0.0598 - val_mean_absolute_error: 0.0598\n",
            "Epoch 212/250\n",
            "25/25 [==============================] - 0s 9ms/step - loss: 0.0606 - mean_absolute_error: 0.0606 - val_loss: 0.0541 - val_mean_absolute_error: 0.0541\n",
            "Epoch 213/250\n",
            "25/25 [==============================] - 0s 12ms/step - loss: 0.0596 - mean_absolute_error: 0.0596 - val_loss: 0.0597 - val_mean_absolute_error: 0.0597\n",
            "Epoch 214/250\n",
            "25/25 [==============================] - 0s 9ms/step - loss: 0.0613 - mean_absolute_error: 0.0613 - val_loss: 0.0596 - val_mean_absolute_error: 0.0596\n",
            "Epoch 215/250\n",
            "25/25 [==============================] - 0s 10ms/step - loss: 0.0608 - mean_absolute_error: 0.0608 - val_loss: 0.0609 - val_mean_absolute_error: 0.0609\n",
            "Epoch 216/250\n",
            "25/25 [==============================] - 0s 10ms/step - loss: 0.0630 - mean_absolute_error: 0.0630 - val_loss: 0.0579 - val_mean_absolute_error: 0.0579\n",
            "Epoch 217/250\n",
            "25/25 [==============================] - 0s 9ms/step - loss: 0.0600 - mean_absolute_error: 0.0600 - val_loss: 0.0524 - val_mean_absolute_error: 0.0524\n",
            "Epoch 218/250\n",
            "25/25 [==============================] - 0s 9ms/step - loss: 0.0596 - mean_absolute_error: 0.0596 - val_loss: 0.0631 - val_mean_absolute_error: 0.0631\n",
            "Epoch 219/250\n",
            "25/25 [==============================] - 0s 10ms/step - loss: 0.0556 - mean_absolute_error: 0.0556 - val_loss: 0.0781 - val_mean_absolute_error: 0.0781\n",
            "Epoch 220/250\n",
            "25/25 [==============================] - 0s 11ms/step - loss: 0.0572 - mean_absolute_error: 0.0572 - val_loss: 0.0598 - val_mean_absolute_error: 0.0598\n",
            "Epoch 221/250\n",
            "25/25 [==============================] - 0s 12ms/step - loss: 0.0568 - mean_absolute_error: 0.0568 - val_loss: 0.0636 - val_mean_absolute_error: 0.0636\n",
            "Epoch 222/250\n",
            "25/25 [==============================] - 0s 11ms/step - loss: 0.0629 - mean_absolute_error: 0.0629 - val_loss: 0.0547 - val_mean_absolute_error: 0.0547\n",
            "Epoch 223/250\n",
            "25/25 [==============================] - 0s 11ms/step - loss: 0.0602 - mean_absolute_error: 0.0602 - val_loss: 0.0563 - val_mean_absolute_error: 0.0563\n",
            "Epoch 224/250\n",
            "25/25 [==============================] - 0s 9ms/step - loss: 0.0615 - mean_absolute_error: 0.0615 - val_loss: 0.0670 - val_mean_absolute_error: 0.0670\n",
            "Epoch 225/250\n",
            "25/25 [==============================] - 0s 10ms/step - loss: 0.0580 - mean_absolute_error: 0.0580 - val_loss: 0.0519 - val_mean_absolute_error: 0.0519\n",
            "Epoch 226/250\n",
            "25/25 [==============================] - 0s 10ms/step - loss: 0.0528 - mean_absolute_error: 0.0528 - val_loss: 0.0601 - val_mean_absolute_error: 0.0601\n",
            "Epoch 227/250\n",
            "25/25 [==============================] - 0s 12ms/step - loss: 0.0575 - mean_absolute_error: 0.0575 - val_loss: 0.0541 - val_mean_absolute_error: 0.0541\n",
            "Epoch 228/250\n",
            "25/25 [==============================] - 0s 12ms/step - loss: 0.0543 - mean_absolute_error: 0.0543 - val_loss: 0.0647 - val_mean_absolute_error: 0.0647\n",
            "Epoch 229/250\n",
            "25/25 [==============================] - 0s 12ms/step - loss: 0.0600 - mean_absolute_error: 0.0600 - val_loss: 0.0546 - val_mean_absolute_error: 0.0546\n",
            "Epoch 230/250\n",
            "25/25 [==============================] - 0s 18ms/step - loss: 0.0551 - mean_absolute_error: 0.0551 - val_loss: 0.0604 - val_mean_absolute_error: 0.0604\n",
            "Epoch 231/250\n",
            "25/25 [==============================] - 0s 17ms/step - loss: 0.0586 - mean_absolute_error: 0.0586 - val_loss: 0.0573 - val_mean_absolute_error: 0.0573\n",
            "Epoch 232/250\n",
            "25/25 [==============================] - 0s 18ms/step - loss: 0.0562 - mean_absolute_error: 0.0562 - val_loss: 0.0521 - val_mean_absolute_error: 0.0521\n",
            "Epoch 233/250\n",
            "25/25 [==============================] - 0s 16ms/step - loss: 0.0525 - mean_absolute_error: 0.0525 - val_loss: 0.0689 - val_mean_absolute_error: 0.0689\n",
            "Epoch 234/250\n",
            "25/25 [==============================] - 0s 18ms/step - loss: 0.0499 - mean_absolute_error: 0.0499 - val_loss: 0.0511 - val_mean_absolute_error: 0.0511\n",
            "Epoch 235/250\n",
            "25/25 [==============================] - 0s 16ms/step - loss: 0.0530 - mean_absolute_error: 0.0530 - val_loss: 0.0539 - val_mean_absolute_error: 0.0539\n",
            "Epoch 236/250\n",
            "25/25 [==============================] - 0s 16ms/step - loss: 0.0554 - mean_absolute_error: 0.0554 - val_loss: 0.0568 - val_mean_absolute_error: 0.0568\n",
            "Epoch 237/250\n",
            "25/25 [==============================] - 0s 16ms/step - loss: 0.0555 - mean_absolute_error: 0.0555 - val_loss: 0.0586 - val_mean_absolute_error: 0.0586\n",
            "Epoch 238/250\n",
            "25/25 [==============================] - 0s 13ms/step - loss: 0.0566 - mean_absolute_error: 0.0566 - val_loss: 0.0737 - val_mean_absolute_error: 0.0737\n",
            "Epoch 239/250\n",
            "25/25 [==============================] - 0s 9ms/step - loss: 0.0521 - mean_absolute_error: 0.0521 - val_loss: 0.0554 - val_mean_absolute_error: 0.0554\n",
            "Epoch 240/250\n",
            "25/25 [==============================] - 0s 9ms/step - loss: 0.0556 - mean_absolute_error: 0.0556 - val_loss: 0.0570 - val_mean_absolute_error: 0.0570\n",
            "Epoch 241/250\n",
            "25/25 [==============================] - 0s 13ms/step - loss: 0.0538 - mean_absolute_error: 0.0538 - val_loss: 0.0575 - val_mean_absolute_error: 0.0575\n",
            "Epoch 242/250\n",
            "25/25 [==============================] - 0s 12ms/step - loss: 0.0554 - mean_absolute_error: 0.0554 - val_loss: 0.0504 - val_mean_absolute_error: 0.0504\n",
            "Epoch 243/250\n",
            "25/25 [==============================] - 0s 12ms/step - loss: 0.0547 - mean_absolute_error: 0.0547 - val_loss: 0.0492 - val_mean_absolute_error: 0.0492\n",
            "Epoch 244/250\n",
            "25/25 [==============================] - 0s 10ms/step - loss: 0.0617 - mean_absolute_error: 0.0617 - val_loss: 0.0641 - val_mean_absolute_error: 0.0641\n",
            "Epoch 245/250\n",
            "25/25 [==============================] - 0s 10ms/step - loss: 0.0562 - mean_absolute_error: 0.0562 - val_loss: 0.0538 - val_mean_absolute_error: 0.0538\n",
            "Epoch 246/250\n",
            "25/25 [==============================] - 0s 10ms/step - loss: 0.0532 - mean_absolute_error: 0.0532 - val_loss: 0.0502 - val_mean_absolute_error: 0.0502\n",
            "Epoch 247/250\n",
            "25/25 [==============================] - 0s 9ms/step - loss: 0.0583 - mean_absolute_error: 0.0583 - val_loss: 0.0495 - val_mean_absolute_error: 0.0495\n",
            "Epoch 248/250\n",
            "25/25 [==============================] - 0s 13ms/step - loss: 0.0610 - mean_absolute_error: 0.0610 - val_loss: 0.0527 - val_mean_absolute_error: 0.0527\n",
            "Epoch 249/250\n",
            "25/25 [==============================] - 0s 13ms/step - loss: 0.0590 - mean_absolute_error: 0.0590 - val_loss: 0.0581 - val_mean_absolute_error: 0.0581\n",
            "Epoch 250/250\n",
            "25/25 [==============================] - 0s 11ms/step - loss: 0.0565 - mean_absolute_error: 0.0565 - val_loss: 0.0543 - val_mean_absolute_error: 0.0543\n"
          ]
        },
        {
          "output_type": "execute_result",
          "data": {
            "text/plain": [
              "<keras.callbacks.History at 0x7fa6b3caba00>"
            ]
          },
          "metadata": {},
          "execution_count": 46
        }
      ]
    },
    {
      "cell_type": "code",
      "source": [
        "weights_file = 'Weights-132--0.04891.hdf5' # choose the best checkpoint \n",
        "NN_model.load_weights(weights_file) # load it\n",
        "NN_model.compile(loss='mean_absolute_error', optimizer='adam', metrics=['mean_absolute_error'])"
      ],
      "metadata": {
        "id": "6i_PDl9baWSa"
      },
      "execution_count": 47,
      "outputs": []
    },
    {
      "cell_type": "code",
      "source": [
        "y_pred = NN_model.predict(x_train)\n",
        "m3_train_score = r2_score(y_train, y_pred)\n",
        "m3_train_score"
      ],
      "metadata": {
        "colab": {
          "base_uri": "https://localhost:8080/"
        },
        "id": "9F_SHZyJbBLR",
        "outputId": "871b3918-c29e-4830-ccd8-e1295fb75a36"
      },
      "execution_count": 48,
      "outputs": [
        {
          "output_type": "stream",
          "name": "stdout",
          "text": [
            "25/25 [==============================] - 0s 2ms/step\n"
          ]
        },
        {
          "output_type": "execute_result",
          "data": {
            "text/plain": [
              "0.9244366709793338"
            ]
          },
          "metadata": {},
          "execution_count": 48
        }
      ]
    },
    {
      "cell_type": "code",
      "source": [
        "y_pred = NN_model.predict(x_test)\n",
        "m3_test_score = r2_score(y_test, y_pred)\n",
        "m3_test_score"
      ],
      "metadata": {
        "colab": {
          "base_uri": "https://localhost:8080/"
        },
        "id": "FQIK2b9ibRf3",
        "outputId": "4816e73c-1cad-46f4-939d-454da9328671"
      },
      "execution_count": 49,
      "outputs": [
        {
          "output_type": "stream",
          "name": "stdout",
          "text": [
            "11/11 [==============================] - 0s 3ms/step\n"
          ]
        },
        {
          "output_type": "execute_result",
          "data": {
            "text/plain": [
              "0.8756949639721893"
            ]
          },
          "metadata": {},
          "execution_count": 49
        }
      ]
    },
    {
      "cell_type": "markdown",
      "source": [
        "####Model 3: Random Forest Regressor "
      ],
      "metadata": {
        "id": "1Wkvse9udBPm"
      }
    },
    {
      "cell_type": "code",
      "source": [
        "## Define Grid \n",
        "grid = { \n",
        "    'n_estimators': [200,300,400,500],\n",
        "    'max_features': ['sqrt','log2'],\n",
        "    'max_depth' : [3,4,5,6,7],\n",
        "    'random_state' : [18]\n",
        "}\n",
        "\n",
        "## Grid Search function\n",
        "CV_rfr = GridSearchCV(estimator=RandomForestRegressor(), param_grid=grid, cv= 5)\n",
        "CV_rfr.fit(x_train, y_train)"
      ],
      "metadata": {
        "colab": {
          "base_uri": "https://localhost:8080/",
          "height": 118
        },
        "id": "eFIFB3sDc3GV",
        "outputId": "c8cee6dc-ee5b-437e-c8cd-f3809e44d6f6"
      },
      "execution_count": 51,
      "outputs": [
        {
          "output_type": "execute_result",
          "data": {
            "text/plain": [
              "GridSearchCV(cv=5, estimator=RandomForestRegressor(),\n",
              "             param_grid={'max_depth': [3, 4, 5, 6, 7],\n",
              "                         'max_features': ['sqrt', 'log2'],\n",
              "                         'n_estimators': [200, 300, 400, 500],\n",
              "                         'random_state': [18]})"
            ],
            "text/html": [
              "<style>#sk-container-id-1 {color: black;background-color: white;}#sk-container-id-1 pre{padding: 0;}#sk-container-id-1 div.sk-toggleable {background-color: white;}#sk-container-id-1 label.sk-toggleable__label {cursor: pointer;display: block;width: 100%;margin-bottom: 0;padding: 0.3em;box-sizing: border-box;text-align: center;}#sk-container-id-1 label.sk-toggleable__label-arrow:before {content: \"▸\";float: left;margin-right: 0.25em;color: #696969;}#sk-container-id-1 label.sk-toggleable__label-arrow:hover:before {color: black;}#sk-container-id-1 div.sk-estimator:hover label.sk-toggleable__label-arrow:before {color: black;}#sk-container-id-1 div.sk-toggleable__content {max-height: 0;max-width: 0;overflow: hidden;text-align: left;background-color: #f0f8ff;}#sk-container-id-1 div.sk-toggleable__content pre {margin: 0.2em;color: black;border-radius: 0.25em;background-color: #f0f8ff;}#sk-container-id-1 input.sk-toggleable__control:checked~div.sk-toggleable__content {max-height: 200px;max-width: 100%;overflow: auto;}#sk-container-id-1 input.sk-toggleable__control:checked~label.sk-toggleable__label-arrow:before {content: \"▾\";}#sk-container-id-1 div.sk-estimator input.sk-toggleable__control:checked~label.sk-toggleable__label {background-color: #d4ebff;}#sk-container-id-1 div.sk-label input.sk-toggleable__control:checked~label.sk-toggleable__label {background-color: #d4ebff;}#sk-container-id-1 input.sk-hidden--visually {border: 0;clip: rect(1px 1px 1px 1px);clip: rect(1px, 1px, 1px, 1px);height: 1px;margin: -1px;overflow: hidden;padding: 0;position: absolute;width: 1px;}#sk-container-id-1 div.sk-estimator {font-family: monospace;background-color: #f0f8ff;border: 1px dotted black;border-radius: 0.25em;box-sizing: border-box;margin-bottom: 0.5em;}#sk-container-id-1 div.sk-estimator:hover {background-color: #d4ebff;}#sk-container-id-1 div.sk-parallel-item::after {content: \"\";width: 100%;border-bottom: 1px solid gray;flex-grow: 1;}#sk-container-id-1 div.sk-label:hover label.sk-toggleable__label {background-color: #d4ebff;}#sk-container-id-1 div.sk-serial::before {content: \"\";position: absolute;border-left: 1px solid gray;box-sizing: border-box;top: 0;bottom: 0;left: 50%;z-index: 0;}#sk-container-id-1 div.sk-serial {display: flex;flex-direction: column;align-items: center;background-color: white;padding-right: 0.2em;padding-left: 0.2em;position: relative;}#sk-container-id-1 div.sk-item {position: relative;z-index: 1;}#sk-container-id-1 div.sk-parallel {display: flex;align-items: stretch;justify-content: center;background-color: white;position: relative;}#sk-container-id-1 div.sk-item::before, #sk-container-id-1 div.sk-parallel-item::before {content: \"\";position: absolute;border-left: 1px solid gray;box-sizing: border-box;top: 0;bottom: 0;left: 50%;z-index: -1;}#sk-container-id-1 div.sk-parallel-item {display: flex;flex-direction: column;z-index: 1;position: relative;background-color: white;}#sk-container-id-1 div.sk-parallel-item:first-child::after {align-self: flex-end;width: 50%;}#sk-container-id-1 div.sk-parallel-item:last-child::after {align-self: flex-start;width: 50%;}#sk-container-id-1 div.sk-parallel-item:only-child::after {width: 0;}#sk-container-id-1 div.sk-dashed-wrapped {border: 1px dashed gray;margin: 0 0.4em 0.5em 0.4em;box-sizing: border-box;padding-bottom: 0.4em;background-color: white;}#sk-container-id-1 div.sk-label label {font-family: monospace;font-weight: bold;display: inline-block;line-height: 1.2em;}#sk-container-id-1 div.sk-label-container {text-align: center;}#sk-container-id-1 div.sk-container {/* jupyter's `normalize.less` sets `[hidden] { display: none; }` but bootstrap.min.css set `[hidden] { display: none !important; }` so we also need the `!important` here to be able to override the default hidden behavior on the sphinx rendered scikit-learn.org. See: https://github.com/scikit-learn/scikit-learn/issues/21755 */display: inline-block !important;position: relative;}#sk-container-id-1 div.sk-text-repr-fallback {display: none;}</style><div id=\"sk-container-id-1\" class=\"sk-top-container\"><div class=\"sk-text-repr-fallback\"><pre>GridSearchCV(cv=5, estimator=RandomForestRegressor(),\n",
              "             param_grid={&#x27;max_depth&#x27;: [3, 4, 5, 6, 7],\n",
              "                         &#x27;max_features&#x27;: [&#x27;sqrt&#x27;, &#x27;log2&#x27;],\n",
              "                         &#x27;n_estimators&#x27;: [200, 300, 400, 500],\n",
              "                         &#x27;random_state&#x27;: [18]})</pre><b>In a Jupyter environment, please rerun this cell to show the HTML representation or trust the notebook. <br />On GitHub, the HTML representation is unable to render, please try loading this page with nbviewer.org.</b></div><div class=\"sk-container\" hidden><div class=\"sk-item sk-dashed-wrapped\"><div class=\"sk-label-container\"><div class=\"sk-label sk-toggleable\"><input class=\"sk-toggleable__control sk-hidden--visually\" id=\"sk-estimator-id-1\" type=\"checkbox\" ><label for=\"sk-estimator-id-1\" class=\"sk-toggleable__label sk-toggleable__label-arrow\">GridSearchCV</label><div class=\"sk-toggleable__content\"><pre>GridSearchCV(cv=5, estimator=RandomForestRegressor(),\n",
              "             param_grid={&#x27;max_depth&#x27;: [3, 4, 5, 6, 7],\n",
              "                         &#x27;max_features&#x27;: [&#x27;sqrt&#x27;, &#x27;log2&#x27;],\n",
              "                         &#x27;n_estimators&#x27;: [200, 300, 400, 500],\n",
              "                         &#x27;random_state&#x27;: [18]})</pre></div></div></div><div class=\"sk-parallel\"><div class=\"sk-parallel-item\"><div class=\"sk-item\"><div class=\"sk-label-container\"><div class=\"sk-label sk-toggleable\"><input class=\"sk-toggleable__control sk-hidden--visually\" id=\"sk-estimator-id-2\" type=\"checkbox\" ><label for=\"sk-estimator-id-2\" class=\"sk-toggleable__label sk-toggleable__label-arrow\">estimator: RandomForestRegressor</label><div class=\"sk-toggleable__content\"><pre>RandomForestRegressor()</pre></div></div></div><div class=\"sk-serial\"><div class=\"sk-item\"><div class=\"sk-estimator sk-toggleable\"><input class=\"sk-toggleable__control sk-hidden--visually\" id=\"sk-estimator-id-3\" type=\"checkbox\" ><label for=\"sk-estimator-id-3\" class=\"sk-toggleable__label sk-toggleable__label-arrow\">RandomForestRegressor</label><div class=\"sk-toggleable__content\"><pre>RandomForestRegressor()</pre></div></div></div></div></div></div></div></div></div></div>"
            ]
          },
          "metadata": {},
          "execution_count": 51
        }
      ]
    },
    {
      "cell_type": "code",
      "source": [
        "y_pred = CV_rfr.predict(x_train)\n",
        "m4_train_score = r2_score(y_train, y_pred)\n",
        "m4_train_score"
      ],
      "metadata": {
        "colab": {
          "base_uri": "https://localhost:8080/"
        },
        "id": "RhoD-GVVfi0x",
        "outputId": "3e22d678-3387-44b8-890b-389fc502b9c8"
      },
      "execution_count": 53,
      "outputs": [
        {
          "output_type": "execute_result",
          "data": {
            "text/plain": [
              "0.8835444069938715"
            ]
          },
          "metadata": {},
          "execution_count": 53
        }
      ]
    },
    {
      "cell_type": "code",
      "source": [
        "y_pred = CV_rfr.predict(x_test)\n",
        "m4_test_score = r2_score(y_test, y_pred)\n",
        "m4_test_score"
      ],
      "metadata": {
        "colab": {
          "base_uri": "https://localhost:8080/"
        },
        "id": "dXHz5D1df2Vy",
        "outputId": "89bc7bce-83c7-4b7f-d9cf-ac384e688b43"
      },
      "execution_count": 54,
      "outputs": [
        {
          "output_type": "execute_result",
          "data": {
            "text/plain": [
              "0.8426104867381532"
            ]
          },
          "metadata": {},
          "execution_count": 54
        }
      ]
    },
    {
      "cell_type": "code",
      "source": [
        "score_dict = {'Model': [\"Ridge Regression\", \"Lasso Regression\", \"Neural Network\", \"Random Forest Regression\"],\n",
        "              'Training R2 Score': [m1_train_score, m2_train_score, m3_train_score, m4_train_score],\n",
        "              'Testing R2 Score': [m1_test_score, m2_test_score, m3_test_score, m4_test_score]}\n",
        "score_df = pd.DataFrame.from_dict(score_dict)\n",
        "score_df"
      ],
      "metadata": {
        "colab": {
          "base_uri": "https://localhost:8080/",
          "height": 175
        },
        "id": "tfGG1303bdv9",
        "outputId": "ab1cee3f-bc98-44eb-df09-07005a068eeb"
      },
      "execution_count": 87,
      "outputs": [
        {
          "output_type": "execute_result",
          "data": {
            "text/plain": [
              "                      Model  Training R2 Score  Testing R2 Score\n",
              "0          Ridge Regression           0.856564          0.843893\n",
              "1          Lasso Regression           0.857638          0.844463\n",
              "2            Neural Network           0.924437          0.875695\n",
              "3  Random Forest Regression           0.883544          0.842610"
            ],
            "text/html": [
              "\n",
              "  <div id=\"df-7d3e96b0-c5d1-4c77-acfa-549030132e64\">\n",
              "    <div class=\"colab-df-container\">\n",
              "      <div>\n",
              "<style scoped>\n",
              "    .dataframe tbody tr th:only-of-type {\n",
              "        vertical-align: middle;\n",
              "    }\n",
              "\n",
              "    .dataframe tbody tr th {\n",
              "        vertical-align: top;\n",
              "    }\n",
              "\n",
              "    .dataframe thead th {\n",
              "        text-align: right;\n",
              "    }\n",
              "</style>\n",
              "<table border=\"1\" class=\"dataframe\">\n",
              "  <thead>\n",
              "    <tr style=\"text-align: right;\">\n",
              "      <th></th>\n",
              "      <th>Model</th>\n",
              "      <th>Training R2 Score</th>\n",
              "      <th>Testing R2 Score</th>\n",
              "    </tr>\n",
              "  </thead>\n",
              "  <tbody>\n",
              "    <tr>\n",
              "      <th>0</th>\n",
              "      <td>Ridge Regression</td>\n",
              "      <td>0.856564</td>\n",
              "      <td>0.843893</td>\n",
              "    </tr>\n",
              "    <tr>\n",
              "      <th>1</th>\n",
              "      <td>Lasso Regression</td>\n",
              "      <td>0.857638</td>\n",
              "      <td>0.844463</td>\n",
              "    </tr>\n",
              "    <tr>\n",
              "      <th>2</th>\n",
              "      <td>Neural Network</td>\n",
              "      <td>0.924437</td>\n",
              "      <td>0.875695</td>\n",
              "    </tr>\n",
              "    <tr>\n",
              "      <th>3</th>\n",
              "      <td>Random Forest Regression</td>\n",
              "      <td>0.883544</td>\n",
              "      <td>0.842610</td>\n",
              "    </tr>\n",
              "  </tbody>\n",
              "</table>\n",
              "</div>\n",
              "      <button class=\"colab-df-convert\" onclick=\"convertToInteractive('df-7d3e96b0-c5d1-4c77-acfa-549030132e64')\"\n",
              "              title=\"Convert this dataframe to an interactive table.\"\n",
              "              style=\"display:none;\">\n",
              "        \n",
              "  <svg xmlns=\"http://www.w3.org/2000/svg\" height=\"24px\"viewBox=\"0 0 24 24\"\n",
              "       width=\"24px\">\n",
              "    <path d=\"M0 0h24v24H0V0z\" fill=\"none\"/>\n",
              "    <path d=\"M18.56 5.44l.94 2.06.94-2.06 2.06-.94-2.06-.94-.94-2.06-.94 2.06-2.06.94zm-11 1L8.5 8.5l.94-2.06 2.06-.94-2.06-.94L8.5 2.5l-.94 2.06-2.06.94zm10 10l.94 2.06.94-2.06 2.06-.94-2.06-.94-.94-2.06-.94 2.06-2.06.94z\"/><path d=\"M17.41 7.96l-1.37-1.37c-.4-.4-.92-.59-1.43-.59-.52 0-1.04.2-1.43.59L10.3 9.45l-7.72 7.72c-.78.78-.78 2.05 0 2.83L4 21.41c.39.39.9.59 1.41.59.51 0 1.02-.2 1.41-.59l7.78-7.78 2.81-2.81c.8-.78.8-2.07 0-2.86zM5.41 20L4 18.59l7.72-7.72 1.47 1.35L5.41 20z\"/>\n",
              "  </svg>\n",
              "      </button>\n",
              "      \n",
              "  <style>\n",
              "    .colab-df-container {\n",
              "      display:flex;\n",
              "      flex-wrap:wrap;\n",
              "      gap: 12px;\n",
              "    }\n",
              "\n",
              "    .colab-df-convert {\n",
              "      background-color: #E8F0FE;\n",
              "      border: none;\n",
              "      border-radius: 50%;\n",
              "      cursor: pointer;\n",
              "      display: none;\n",
              "      fill: #1967D2;\n",
              "      height: 32px;\n",
              "      padding: 0 0 0 0;\n",
              "      width: 32px;\n",
              "    }\n",
              "\n",
              "    .colab-df-convert:hover {\n",
              "      background-color: #E2EBFA;\n",
              "      box-shadow: 0px 1px 2px rgba(60, 64, 67, 0.3), 0px 1px 3px 1px rgba(60, 64, 67, 0.15);\n",
              "      fill: #174EA6;\n",
              "    }\n",
              "\n",
              "    [theme=dark] .colab-df-convert {\n",
              "      background-color: #3B4455;\n",
              "      fill: #D2E3FC;\n",
              "    }\n",
              "\n",
              "    [theme=dark] .colab-df-convert:hover {\n",
              "      background-color: #434B5C;\n",
              "      box-shadow: 0px 1px 3px 1px rgba(0, 0, 0, 0.15);\n",
              "      filter: drop-shadow(0px 1px 2px rgba(0, 0, 0, 0.3));\n",
              "      fill: #FFFFFF;\n",
              "    }\n",
              "  </style>\n",
              "\n",
              "      <script>\n",
              "        const buttonEl =\n",
              "          document.querySelector('#df-7d3e96b0-c5d1-4c77-acfa-549030132e64 button.colab-df-convert');\n",
              "        buttonEl.style.display =\n",
              "          google.colab.kernel.accessAllowed ? 'block' : 'none';\n",
              "\n",
              "        async function convertToInteractive(key) {\n",
              "          const element = document.querySelector('#df-7d3e96b0-c5d1-4c77-acfa-549030132e64');\n",
              "          const dataTable =\n",
              "            await google.colab.kernel.invokeFunction('convertToInteractive',\n",
              "                                                     [key], {});\n",
              "          if (!dataTable) return;\n",
              "\n",
              "          const docLinkHtml = 'Like what you see? Visit the ' +\n",
              "            '<a target=\"_blank\" href=https://colab.research.google.com/notebooks/data_table.ipynb>data table notebook</a>'\n",
              "            + ' to learn more about interactive tables.';\n",
              "          element.innerHTML = '';\n",
              "          dataTable['output_type'] = 'display_data';\n",
              "          await google.colab.output.renderOutput(dataTable, element);\n",
              "          const docLink = document.createElement('div');\n",
              "          docLink.innerHTML = docLinkHtml;\n",
              "          element.appendChild(docLink);\n",
              "        }\n",
              "      </script>\n",
              "    </div>\n",
              "  </div>\n",
              "  "
            ]
          },
          "metadata": {},
          "execution_count": 87
        }
      ]
    },
    {
      "cell_type": "code",
      "source": [
        "sns.barplot(data = score_dict, x = 'Model', y = 'Training R2 Score', color = \"cyan\")\n",
        "plt.xticks(rotation=90)\n",
        "plt.title(\"Training R2 Score\")\n",
        "plt.show()\n"
      ],
      "metadata": {
        "id": "dSxmwwpbca5h",
        "colab": {
          "base_uri": "https://localhost:8080/",
          "height": 623
        },
        "outputId": "9b76aa96-b82d-47ef-9574-7f276436897e"
      },
      "execution_count": 89,
      "outputs": [
        {
          "output_type": "display_data",
          "data": {
            "text/plain": [
              "<Figure size 640x480 with 1 Axes>"
            ],
            "image/png": "[encoded data removed]"
          },
          "metadata": {}
        }
      ]
    },
    {
      "cell_type": "code",
      "source": [
        "sns.barplot(data = score_dict, x = 'Model', y = 'Testing R2 Score', color = \"cyan\")\n",
        "plt.xticks(rotation=90)\n",
        "plt.title(\"Testing R2 Score\")\n",
        "plt.show()"
      ],
      "metadata": {
        "colab": {
          "base_uri": "https://localhost:8080/",
          "height": 623
        },
        "id": "8cf4_6Q7gt3S",
        "outputId": "a671184a-5334-47cc-d926-34ff1666ab17"
      },
      "execution_count": 90,
      "outputs": [
        {
          "output_type": "display_data",
          "data": {
            "text/plain": [
              "<Figure size 640x480 with 1 Axes>"
            ],
            "image/png": "[encoded data removed]"
          },
          "metadata": {}
        }
      ]
    },
    {
      "cell_type": "code",
      "source": [],
      "metadata": {
        "id": "RAhNFy6Xpwb6"
      },
      "execution_count": null,
      "outputs": []
    }
  ]
}